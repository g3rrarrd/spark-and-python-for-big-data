{
 "cells": [
  {
   "cell_type": "code",
   "execution_count": 2,
   "id": "2146486b-4d68-43c9-a112-bb62df4df23c",
   "metadata": {},
   "outputs": [],
   "source": [
    "import findspark"
   ]
  },
  {
   "cell_type": "code",
   "execution_count": 6,
   "id": "c4aea2cd-0ff2-47d7-8c88-9f3374e10c64",
   "metadata": {},
   "outputs": [],
   "source": [
    "findspark.init('/home/gerardo-rodriguez/spark-4.0.0-bin-hadoop3')"
   ]
  },
  {
   "cell_type": "code",
   "execution_count": 5,
   "id": "9845f1ae-a277-442e-8fb8-ae2448c4584c",
   "metadata": {},
   "outputs": [],
   "source": [
    "from pyspark.sql import SparkSession"
   ]
  },
  {
   "cell_type": "code",
   "execution_count": 7,
   "id": "f01cd098-db84-4f20-b385-5117a0c19521",
   "metadata": {},
   "outputs": [
    {
     "name": "stderr",
     "output_type": "stream",
     "text": [
      "WARNING: Using incubator modules: jdk.incubator.vector\n",
      "Using Spark's default log4j profile: org/apache/spark/log4j2-defaults.properties\n",
      "25/08/18 11:34:37 WARN Utils: Your hostname, Lanz-Lenovo, resolves to a loopback address: 127.0.1.1; using 192.168.1.145 instead (on interface wlp2s0)\n",
      "25/08/18 11:34:37 WARN Utils: Set SPARK_LOCAL_IP if you need to bind to another address\n",
      "Using Spark's default log4j profile: org/apache/spark/log4j2-defaults.properties\n",
      "Setting default log level to \"WARN\".\n",
      "To adjust logging level use sc.setLogLevel(newLevel). For SparkR, use setLogLevel(newLevel).\n",
      "25/08/18 11:34:38 WARN NativeCodeLoader: Unable to load native-hadoop library for your platform... using builtin-java classes where applicable\n",
      "25/08/18 11:34:39 WARN Utils: Service 'SparkUI' could not bind on port 4040. Attempting port 4041.\n"
     ]
    }
   ],
   "source": [
    "spark = SparkSession.builder.appName('lrex').getOrCreate()"
   ]
  },
  {
   "cell_type": "code",
   "execution_count": 9,
   "id": "578f6774-9209-4741-a086-8a4af028e984",
   "metadata": {},
   "outputs": [],
   "source": [
    "from  pyspark.ml.regression import LinearRegression"
   ]
  },
  {
   "cell_type": "code",
   "execution_count": 10,
   "id": "76f273c7-c97e-4ac8-b7a1-a7744c265d73",
   "metadata": {},
   "outputs": [
    {
     "name": "stderr",
     "output_type": "stream",
     "text": [
      "25/08/18 11:36:43 WARN LibSVMFileFormat: 'numFeatures' option not specified, determining the number of features by going though the input. If you know the number in advance, please specify it via 'numFeatures' option to avoid the extra scan.\n",
      "                                                                                "
     ]
    }
   ],
   "source": [
    "training = spark.read.format('libsvm').load('sample_linear_regression_data.txt')"
   ]
  },
  {
   "cell_type": "code",
   "execution_count": 12,
   "id": "25a26cb8-0042-4f49-9908-32cdbf2ad53d",
   "metadata": {},
   "outputs": [
    {
     "name": "stdout",
     "output_type": "stream",
     "text": [
      "+-------------------+--------------------+\n",
      "|              label|            features|\n",
      "+-------------------+--------------------+\n",
      "| -9.490009878824548|(10,[0,1,2,3,4,5,...|\n",
      "| 0.2577820163584905|(10,[0,1,2,3,4,5,...|\n",
      "| -4.438869807456516|(10,[0,1,2,3,4,5,...|\n",
      "|-19.782762789614537|(10,[0,1,2,3,4,5,...|\n",
      "| -7.966593841555266|(10,[0,1,2,3,4,5,...|\n",
      "| -7.896274316726144|(10,[0,1,2,3,4,5,...|\n",
      "| -8.464803554195287|(10,[0,1,2,3,4,5,...|\n",
      "| 2.1214592666251364|(10,[0,1,2,3,4,5,...|\n",
      "| 1.0720117616524107|(10,[0,1,2,3,4,5,...|\n",
      "|-13.772441561702871|(10,[0,1,2,3,4,5,...|\n",
      "| -5.082010756207233|(10,[0,1,2,3,4,5,...|\n",
      "|  7.887786536531237|(10,[0,1,2,3,4,5,...|\n",
      "| 14.323146365332388|(10,[0,1,2,3,4,5,...|\n",
      "|-20.057482615789212|(10,[0,1,2,3,4,5,...|\n",
      "|-0.8995693247765151|(10,[0,1,2,3,4,5,...|\n",
      "| -19.16829262296376|(10,[0,1,2,3,4,5,...|\n",
      "|  5.601801561245534|(10,[0,1,2,3,4,5,...|\n",
      "|-3.2256352187273354|(10,[0,1,2,3,4,5,...|\n",
      "| 1.5299675726687754|(10,[0,1,2,3,4,5,...|\n",
      "| -0.250102447941961|(10,[0,1,2,3,4,5,...|\n",
      "+-------------------+--------------------+\n",
      "only showing top 20 rows\n"
     ]
    }
   ],
   "source": [
    "training.show()"
   ]
  },
  {
   "cell_type": "markdown",
   "id": "e646e6d1-2698-47dd-80c0-9368e8d12675",
   "metadata": {},
   "source": [
    "## Crear instancia"
   ]
  },
  {
   "cell_type": "code",
   "execution_count": 13,
   "id": "94a3b32d-c1cd-4a06-87c8-1d081b20bf4d",
   "metadata": {},
   "outputs": [],
   "source": [
    "lr = LinearRegression(featuresCol='features', labelCol='label', predictionCol='prediction')"
   ]
  },
  {
   "cell_type": "markdown",
   "id": "d5d8ded4-e911-47e8-864d-45605c6a3f9d",
   "metadata": {},
   "source": [
    "## Ajustar o entrenar al modelo"
   ]
  },
  {
   "cell_type": "code",
   "execution_count": 16,
   "id": "59b1a29e-3436-4f0c-830b-6557152704f9",
   "metadata": {},
   "outputs": [
    {
     "name": "stderr",
     "output_type": "stream",
     "text": [
      "25/08/18 11:40:44 WARN Instrumentation: [d7d6f87a] regParam is zero, which might cause numerical instability and overfitting.\n",
      "                                                                                "
     ]
    }
   ],
   "source": [
    "lrModel = lr.fit(training)"
   ]
  },
  {
   "cell_type": "code",
   "execution_count": 17,
   "id": "ce6121a9-8b4f-461b-8f43-b00b0ad11c54",
   "metadata": {},
   "outputs": [
    {
     "data": {
      "text/plain": [
       "DenseVector([0.0073, 0.8314, -0.8095, 2.4412, 0.5192, 1.1535, -0.2989, -0.5129, -0.6197, 0.6956])"
      ]
     },
     "execution_count": 17,
     "metadata": {},
     "output_type": "execute_result"
    }
   ],
   "source": [
    "lrModel.coefficients"
   ]
  },
  {
   "cell_type": "code",
   "execution_count": 18,
   "id": "c7ce1392-2caa-45f3-ad0f-1d5c1703bf7a",
   "metadata": {},
   "outputs": [
    {
     "data": {
      "text/plain": [
       "0.14228558260358093"
      ]
     },
     "execution_count": 18,
     "metadata": {},
     "output_type": "execute_result"
    }
   ],
   "source": [
    "lrModel.intercept"
   ]
  },
  {
   "cell_type": "code",
   "execution_count": 19,
   "id": "988fef06-bbd1-4f6f-acf8-dc2417e94abf",
   "metadata": {},
   "outputs": [],
   "source": [
    "training_summary = lrModel.summary"
   ]
  },
  {
   "cell_type": "code",
   "execution_count": 22,
   "id": "52891e83-9819-4aba-97cc-d1d9c775adb5",
   "metadata": {},
   "outputs": [
    {
     "data": {
      "text/plain": [
       "0.027839179518600154"
      ]
     },
     "execution_count": 22,
     "metadata": {},
     "output_type": "execute_result"
    }
   ],
   "source": [
    "## Varianza\n",
    "\n",
    "training_summary.r2"
   ]
  },
  {
   "cell_type": "code",
   "execution_count": 23,
   "id": "6b643b08-2c89-434f-9224-aa3fe673ebb9",
   "metadata": {},
   "outputs": [
    {
     "data": {
      "text/plain": [
       "10.16309157133015"
      ]
     },
     "execution_count": 23,
     "metadata": {},
     "output_type": "execute_result"
    }
   ],
   "source": [
    "## Error Cuadratico\n",
    "\n",
    "training_summary.rootMeanSquaredError"
   ]
  },
  {
   "cell_type": "code",
   "execution_count": 24,
   "id": "f4829ce6-fb0f-44fa-bc5a-0d8aff4facdc",
   "metadata": {},
   "outputs": [
    {
     "name": "stderr",
     "output_type": "stream",
     "text": [
      "25/08/18 11:43:59 WARN LibSVMFileFormat: 'numFeatures' option not specified, determining the number of features by going though the input. If you know the number in advance, please specify it via 'numFeatures' option to avoid the extra scan.\n"
     ]
    }
   ],
   "source": [
    "all_data = spark.read.format('libsvm').load('sample_linear_regression_data.txt')"
   ]
  },
  {
   "cell_type": "code",
   "execution_count": 26,
   "id": "d00d66e5-bcb4-4ddb-b4eb-ba92a2802b18",
   "metadata": {},
   "outputs": [],
   "source": [
    "## Dividir los datos\n",
    "\n",
    "train_data, test_data = all_data.randomSplit([0.7, 0.3])"
   ]
  },
  {
   "cell_type": "code",
   "execution_count": 31,
   "id": "b661f498-5dd2-4b7e-ad8f-42ffb32fc5af",
   "metadata": {},
   "outputs": [
    {
     "name": "stdout",
     "output_type": "stream",
     "text": [
      "+-------+-------------------+\n",
      "|summary|              label|\n",
      "+-------+-------------------+\n",
      "|  count|                363|\n",
      "|   mean| 0.1476529910522293|\n",
      "| stddev|   9.98302207004544|\n",
      "|    min|-28.571478869743427|\n",
      "|    max|  27.78383192005107|\n",
      "+-------+-------------------+\n",
      "\n"
     ]
    }
   ],
   "source": [
    "train_data.describe().show()"
   ]
  },
  {
   "cell_type": "code",
   "execution_count": 33,
   "id": "a490638f-75cb-44fa-a7ec-9814ee4bc70b",
   "metadata": {},
   "outputs": [
    {
     "name": "stdout",
     "output_type": "stream",
     "text": [
      "+-------+-------------------+\n",
      "|summary|              label|\n",
      "+-------+-------------------+\n",
      "|  count|                138|\n",
      "|   mean| 0.5442265519400729|\n",
      "| stddev| 11.184078922679964|\n",
      "|    min|-28.046018037776633|\n",
      "|    max| 26.903524792043335|\n",
      "+-------+-------------------+\n",
      "\n"
     ]
    }
   ],
   "source": [
    "test_data.describe().show()"
   ]
  },
  {
   "cell_type": "code",
   "execution_count": 35,
   "id": "3a2fdece-c427-4ccc-920c-2807b7213a0a",
   "metadata": {},
   "outputs": [
    {
     "name": "stderr",
     "output_type": "stream",
     "text": [
      "25/08/18 11:47:46 WARN Instrumentation: [64b722bc] regParam is zero, which might cause numerical instability and overfitting.\n"
     ]
    }
   ],
   "source": [
    "correct_model = lr.fit(train_data)"
   ]
  },
  {
   "cell_type": "code",
   "execution_count": 36,
   "id": "93db84a9-1ac1-44ae-a419-824bb4ebdb5a",
   "metadata": {},
   "outputs": [],
   "source": [
    "test_result = correct_model.evaluate(test_data)"
   ]
  },
  {
   "cell_type": "code",
   "execution_count": 38,
   "id": "d9503782-b854-4268-963c-3a4dddafb939",
   "metadata": {},
   "outputs": [
    {
     "name": "stdout",
     "output_type": "stream",
     "text": [
      "+-------------------+\n",
      "|          residuals|\n",
      "+-------------------+\n",
      "|-26.545624954302987|\n",
      "| -24.48594923794332|\n",
      "|-19.695354051095457|\n",
      "| -20.29352322487168|\n",
      "|  -20.3500624426135|\n",
      "| -20.30783088063114|\n",
      "|-16.722658510152982|\n",
      "|-15.930935473207434|\n",
      "| -16.23204982490472|\n",
      "| -15.74684251543826|\n",
      "|-16.565797099361724|\n",
      "| -18.96748876754829|\n",
      "| -14.84860318145392|\n",
      "|-13.116526200751657|\n",
      "|-17.811072379727605|\n",
      "|-12.922813450479978|\n",
      "| -7.826030079379283|\n",
      "|-13.005783870927148|\n",
      "| -11.27229587687466|\n",
      "|-15.253816778225495|\n",
      "+-------------------+\n",
      "only showing top 20 rows\n"
     ]
    }
   ],
   "source": [
    "test_result.residuals.show()"
   ]
  },
  {
   "cell_type": "code",
   "execution_count": 40,
   "id": "b996005f-5549-40a0-9b91-69e694980776",
   "metadata": {},
   "outputs": [
    {
     "data": {
      "text/plain": [
       "11.173595943825248"
      ]
     },
     "execution_count": 40,
     "metadata": {},
     "output_type": "execute_result"
    }
   ],
   "source": [
    "test_result.rootMeanSquaredError"
   ]
  },
  {
   "cell_type": "code",
   "execution_count": 41,
   "id": "9eeaa4cc-61a6-42dc-b5f9-10aaee1647f9",
   "metadata": {},
   "outputs": [],
   "source": [
    "unlabeled_data = test_data.select('features')"
   ]
  },
  {
   "cell_type": "code",
   "execution_count": 43,
   "id": "7b99c13e-b897-48bd-82b6-5c984df4116c",
   "metadata": {},
   "outputs": [
    {
     "name": "stdout",
     "output_type": "stream",
     "text": [
      "+--------------------+\n",
      "|            features|\n",
      "+--------------------+\n",
      "|(10,[0,1,2,3,4,5,...|\n",
      "|(10,[0,1,2,3,4,5,...|\n",
      "|(10,[0,1,2,3,4,5,...|\n",
      "|(10,[0,1,2,3,4,5,...|\n",
      "|(10,[0,1,2,3,4,5,...|\n",
      "|(10,[0,1,2,3,4,5,...|\n",
      "|(10,[0,1,2,3,4,5,...|\n",
      "|(10,[0,1,2,3,4,5,...|\n",
      "|(10,[0,1,2,3,4,5,...|\n",
      "|(10,[0,1,2,3,4,5,...|\n",
      "|(10,[0,1,2,3,4,5,...|\n",
      "|(10,[0,1,2,3,4,5,...|\n",
      "|(10,[0,1,2,3,4,5,...|\n",
      "|(10,[0,1,2,3,4,5,...|\n",
      "|(10,[0,1,2,3,4,5,...|\n",
      "|(10,[0,1,2,3,4,5,...|\n",
      "|(10,[0,1,2,3,4,5,...|\n",
      "|(10,[0,1,2,3,4,5,...|\n",
      "|(10,[0,1,2,3,4,5,...|\n",
      "|(10,[0,1,2,3,4,5,...|\n",
      "+--------------------+\n",
      "only showing top 20 rows\n"
     ]
    }
   ],
   "source": [
    "unlabeled_data.show()"
   ]
  },
  {
   "cell_type": "code",
   "execution_count": 44,
   "id": "f4140a75-5cc1-423f-8acd-745a888f1dc7",
   "metadata": {},
   "outputs": [],
   "source": [
    "prediction = correct_model.transform(unlabeled_data)"
   ]
  },
  {
   "cell_type": "code",
   "execution_count": 46,
   "id": "b53a1faa-35d9-4fef-8ec0-559c7ef6b722",
   "metadata": {},
   "outputs": [
    {
     "name": "stdout",
     "output_type": "stream",
     "text": [
      "+--------------------+--------------------+\n",
      "|            features|          prediction|\n",
      "+--------------------+--------------------+\n",
      "|(10,[0,1,2,3,4,5,...|  -1.500393083473645|\n",
      "|(10,[0,1,2,3,4,5,...| -2.2502579446584057|\n",
      "|(10,[0,1,2,3,4,5,...|  -3.142106365823885|\n",
      "|(10,[0,1,2,3,4,5,...| 0.08144596591300964|\n",
      "|(10,[0,1,2,3,4,5,...|  0.4655016683400751|\n",
      "|(10,[0,1,2,3,4,5,...|  0.6405122652594204|\n",
      "|(10,[0,1,2,3,4,5,...| -0.6040622225229646|\n",
      "|(10,[0,1,2,3,4,5,...| -1.0955567910021142|\n",
      "|(10,[0,1,2,3,4,5,...| 0.14639078388322974|\n",
      "|(10,[0,1,2,3,4,5,...|-0.20467005035631336|\n",
      "|(10,[0,1,2,3,4,5,...|  1.2062522195290468|\n",
      "|(10,[0,1,2,3,4,5,...|    3.63272128762595|\n",
      "|(10,[0,1,2,3,4,5,...|  0.8724722503012159|\n",
      "|(10,[0,1,2,3,4,5,...| -0.7505616944071116|\n",
      "|(10,[0,1,2,3,4,5,...|   4.038630818024732|\n",
      "|(10,[0,1,2,3,4,5,...|-0.05503527491212...|\n",
      "|(10,[0,1,2,3,4,5,...|  -4.947196919871914|\n",
      "|(10,[0,1,2,3,4,5,...|  0.5143417933807346|\n",
      "|(10,[0,1,2,3,4,5,...|    -1.1953605041582|\n",
      "|(10,[0,1,2,3,4,5,...|   3.426743781832924|\n",
      "+--------------------+--------------------+\n",
      "only showing top 20 rows\n"
     ]
    }
   ],
   "source": [
    "prediction.show()"
   ]
  },
  {
   "cell_type": "code",
   "execution_count": null,
   "id": "41ab7875-8064-43b4-942e-72193a4975ef",
   "metadata": {},
   "outputs": [],
   "source": []
  }
 ],
 "metadata": {
  "kernelspec": {
   "display_name": "Python 3 (ipykernel)",
   "language": "python",
   "name": "python3"
  },
  "language_info": {
   "codemirror_mode": {
    "name": "ipython",
    "version": 3
   },
   "file_extension": ".py",
   "mimetype": "text/x-python",
   "name": "python",
   "nbconvert_exporter": "python",
   "pygments_lexer": "ipython3",
   "version": "3.13.3"
  }
 },
 "nbformat": 4,
 "nbformat_minor": 5
}
