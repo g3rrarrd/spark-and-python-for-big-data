{
 "cells": [
  {
   "cell_type": "code",
   "execution_count": 1,
   "id": "db56b021-975c-490b-b642-c85618140e55",
   "metadata": {},
   "outputs": [],
   "source": [
    "import findspark\n",
    "findspark.init('/home/gerardo-rodriguez/spark-4.0.0-bin-hadoop3')"
   ]
  },
  {
   "cell_type": "code",
   "execution_count": 2,
   "id": "e6d883bd-b887-4a10-b7a5-057ae254788f",
   "metadata": {},
   "outputs": [
    {
     "name": "stderr",
     "output_type": "stream",
     "text": [
      "WARNING: Using incubator modules: jdk.incubator.vector\n",
      "Using Spark's default log4j profile: org/apache/spark/log4j2-defaults.properties\n",
      "25/08/20 10:31:22 WARN Utils: Your hostname, Lanz-Lenovo, resolves to a loopback address: 127.0.1.1; using 192.168.1.145 instead (on interface wlp2s0)\n",
      "25/08/20 10:31:22 WARN Utils: Set SPARK_LOCAL_IP if you need to bind to another address\n",
      "Using Spark's default log4j profile: org/apache/spark/log4j2-defaults.properties\n",
      "Setting default log level to \"WARN\".\n",
      "To adjust logging level use sc.setLogLevel(newLevel). For SparkR, use setLogLevel(newLevel).\n",
      "25/08/20 10:31:23 WARN NativeCodeLoader: Unable to load native-hadoop library for your platform... using builtin-java classes where applicable\n"
     ]
    }
   ],
   "source": [
    "from pyspark.sql import SparkSession\n",
    "spark = SparkSession.builder.appName('tree').getOrCreate()"
   ]
  },
  {
   "cell_type": "code",
   "execution_count": 3,
   "id": "d5978cbe-486b-44f1-bda7-818a09ee1559",
   "metadata": {},
   "outputs": [],
   "source": [
    "from pyspark.ml import Pipeline"
   ]
  },
  {
   "cell_type": "code",
   "execution_count": 4,
   "id": "8df246c7-0b65-4334-8e0e-fb0f966f5875",
   "metadata": {},
   "outputs": [],
   "source": [
    "from pyspark.ml.classification import (RandomForestClassifier, GBTClassifier, \n",
    "                                        DecisionTreeClassifier)"
   ]
  },
  {
   "cell_type": "code",
   "execution_count": 5,
   "id": "9a2e22aa-c154-474b-8ec1-fc56744dffd0",
   "metadata": {},
   "outputs": [
    {
     "name": "stderr",
     "output_type": "stream",
     "text": [
      "25/08/20 10:33:45 WARN LibSVMFileFormat: 'numFeatures' option not specified, determining the number of features by going though the input. If you know the number in advance, please specify it via 'numFeatures' option to avoid the extra scan.\n",
      "                                                                                "
     ]
    }
   ],
   "source": [
    "data = spark.read.format('libsvm').load('sample_libsvm_data.txt')"
   ]
  },
  {
   "cell_type": "code",
   "execution_count": 6,
   "id": "fff2a5bf-ff05-4889-bac4-712d12632227",
   "metadata": {},
   "outputs": [
    {
     "name": "stdout",
     "output_type": "stream",
     "text": [
      "+-----+--------------------+\n",
      "|label|            features|\n",
      "+-----+--------------------+\n",
      "|  0.0|(692,[127,128,129...|\n",
      "|  1.0|(692,[158,159,160...|\n",
      "|  1.0|(692,[124,125,126...|\n",
      "|  1.0|(692,[152,153,154...|\n",
      "|  1.0|(692,[151,152,153...|\n",
      "|  0.0|(692,[129,130,131...|\n",
      "|  1.0|(692,[158,159,160...|\n",
      "|  1.0|(692,[99,100,101,...|\n",
      "|  0.0|(692,[154,155,156...|\n",
      "|  0.0|(692,[127,128,129...|\n",
      "|  1.0|(692,[154,155,156...|\n",
      "|  0.0|(692,[153,154,155...|\n",
      "|  0.0|(692,[151,152,153...|\n",
      "|  1.0|(692,[129,130,131...|\n",
      "|  0.0|(692,[154,155,156...|\n",
      "|  1.0|(692,[150,151,152...|\n",
      "|  0.0|(692,[124,125,126...|\n",
      "|  0.0|(692,[152,153,154...|\n",
      "|  1.0|(692,[97,98,99,12...|\n",
      "|  1.0|(692,[124,125,126...|\n",
      "+-----+--------------------+\n",
      "only showing top 20 rows\n"
     ]
    }
   ],
   "source": [
    "data.show()"
   ]
  },
  {
   "cell_type": "code",
   "execution_count": 8,
   "id": "9ac67074-1f45-442d-bcc5-3b54cadab4c1",
   "metadata": {},
   "outputs": [],
   "source": [
    "train_data, test_data = data.randomSplit([0.7, 0.3])"
   ]
  },
  {
   "cell_type": "code",
   "execution_count": 11,
   "id": "77fbfeb9-b7a5-4326-aafd-da34fdea2d11",
   "metadata": {},
   "outputs": [],
   "source": [
    "dtc = DecisionTreeClassifier()\n",
    "rfc = RandomForestClassifier(numTrees=100)\n",
    "gbt = GBTClassifier()"
   ]
  },
  {
   "cell_type": "code",
   "execution_count": 12,
   "id": "5fc69a42-da04-47f8-a806-d4147451e8e0",
   "metadata": {},
   "outputs": [],
   "source": [
    "dtc_model = dtc.fit(train_data)\n",
    "rfc_model = rfc.fit(train_data)\n",
    "gbt_model = gbt.fit(train_data)"
   ]
  },
  {
   "cell_type": "code",
   "execution_count": 17,
   "id": "79520bab-18de-4d61-ae9e-2aa1dbc319ef",
   "metadata": {},
   "outputs": [],
   "source": [
    "dtc_pred = dtc_model.transform(test_data)\n",
    "rfc_pred = rfc_model.transform(test_data)\n",
    "gbt_pred = gbt_model.transform(test_data)"
   ]
  },
  {
   "cell_type": "code",
   "execution_count": 21,
   "id": "31d6182a-f094-423f-99aa-e2eed2acccb2",
   "metadata": {},
   "outputs": [],
   "source": [
    "from pyspark.ml.evaluation import (MulticlassClassificationEvaluator)"
   ]
  },
  {
   "cell_type": "code",
   "execution_count": 22,
   "id": "1752f968-2294-4b19-b007-b5d4b3b17055",
   "metadata": {},
   "outputs": [],
   "source": [
    "acc_eval = MulticlassClassificationEvaluator(metricName='accuracy')"
   ]
  },
  {
   "cell_type": "code",
   "execution_count": 23,
   "id": "cd480a77-0eb4-4317-9f29-229a5580e8a6",
   "metadata": {},
   "outputs": [
    {
     "name": "stdout",
     "output_type": "stream",
     "text": [
      "DTC ACCURACY\n"
     ]
    },
    {
     "data": {
      "text/plain": [
       "0.9333333333333333"
      ]
     },
     "execution_count": 23,
     "metadata": {},
     "output_type": "execute_result"
    }
   ],
   "source": [
    "print('DTC ACCURACY')\n",
    "acc_eval.evaluate(dtc_pred)"
   ]
  },
  {
   "cell_type": "code",
   "execution_count": 24,
   "id": "fcd4e14c-4b02-472e-ad91-fcee0859ee27",
   "metadata": {},
   "outputs": [
    {
     "name": "stdout",
     "output_type": "stream",
     "text": [
      "RFC ACCURACY\n"
     ]
    },
    {
     "data": {
      "text/plain": [
       "1.0"
      ]
     },
     "execution_count": 24,
     "metadata": {},
     "output_type": "execute_result"
    }
   ],
   "source": [
    "print('RFC ACCURACY')\n",
    "acc_eval.evaluate(rfc_pred)"
   ]
  },
  {
   "cell_type": "code",
   "execution_count": 26,
   "id": "43cb1f55-b31f-4416-820f-9239e07c8581",
   "metadata": {},
   "outputs": [
    {
     "name": "stdout",
     "output_type": "stream",
     "text": [
      "GBT ACCURACY\n"
     ]
    },
    {
     "data": {
      "text/plain": [
       "0.9333333333333333"
      ]
     },
     "execution_count": 26,
     "metadata": {},
     "output_type": "execute_result"
    }
   ],
   "source": [
    "print('GBT ACCURACY')\n",
    "acc_eval.evaluate(gbt_pred)"
   ]
  },
  {
   "cell_type": "code",
   "execution_count": 28,
   "id": "2870be2f-9650-428e-be6a-7f19bfab237d",
   "metadata": {},
   "outputs": [
    {
     "data": {
      "text/plain": [
       "SparseVector(692, {123: 0.0005, 124: 0.0002, 153: 0.0003, 175: 0.0006, 178: 0.0016, 179: 0.0009, 185: 0.0004, 187: 0.0003, 205: 0.0018, 216: 0.0067, 231: 0.0033, 234: 0.0015, 235: 0.0006, 239: 0.0012, 241: 0.0002, 243: 0.0005, 244: 0.0083, 245: 0.001, 261: 0.005, 262: 0.0021, 263: 0.0011, 264: 0.0003, 267: 0.0005, 269: 0.0003, 272: 0.0086, 273: 0.009, 285: 0.0007, 286: 0.0004, 287: 0.0024, 289: 0.0064, 291: 0.0082, 296: 0.0006, 299: 0.0012, 301: 0.0074, 317: 0.0027, 318: 0.0103, 319: 0.0053, 320: 0.0011, 321: 0.0003, 322: 0.0031, 323: 0.0092, 325: 0.001, 329: 0.0079, 331: 0.0052, 344: 0.0048, 346: 0.0055, 347: 0.0005, 350: 0.0203, 351: 0.0073, 352: 0.0075, 354: 0.0026, 357: 0.0005, 358: 0.0095, 359: 0.0036, 371: 0.0011, 374: 0.0064, 377: 0.01, 378: 0.0149, 379: 0.0305, 380: 0.003, 381: 0.0003, 382: 0.0005, 383: 0.0015, 385: 0.0005, 388: 0.0005, 399: 0.0139, 400: 0.0055, 401: 0.0027, 402: 0.0079, 403: 0.0015, 405: 0.0016, 406: 0.0451, 407: 0.0238, 408: 0.0008, 410: 0.0011, 416: 0.0005, 426: 0.0083, 427: 0.0051, 428: 0.0095, 429: 0.0028, 433: 0.0192, 434: 0.0474, 435: 0.0545, 436: 0.0009, 438: 0.0005, 439: 0.0011, 440: 0.0066, 443: 0.0026, 452: 0.0006, 454: 0.0134, 455: 0.0079, 456: 0.0096, 458: 0.0013, 462: 0.0594, 463: 0.0422, 464: 0.0011, 467: 0.0044, 468: 0.0086, 471: 0.0006, 483: 0.0053, 484: 0.0275, 486: 0.0012, 489: 0.0224, 490: 0.0203, 492: 0.0005, 494: 0.0025, 495: 0.0021, 496: 0.0099, 497: 0.0081, 510: 0.0296, 511: 0.028, 512: 0.0249, 516: 0.0069, 517: 0.0341, 518: 0.0065, 523: 0.0065, 525: 0.0012, 537: 0.0001, 539: 0.0074, 540: 0.0381, 543: 0.0005, 544: 0.0019, 545: 0.0015, 549: 0.0006, 550: 0.0068, 551: 0.0062, 568: 0.0073, 573: 0.0018, 577: 0.0027, 578: 0.0005, 596: 0.0003, 598: 0.002, 600: 0.0007, 604: 0.0051, 608: 0.0018, 630: 0.0004, 632: 0.0004, 654: 0.0005, 657: 0.0011, 664: 0.0005, 688: 0.0005})"
      ]
     },
     "execution_count": 28,
     "metadata": {},
     "output_type": "execute_result"
    }
   ],
   "source": [
    "rfc_model.featureImportances"
   ]
  },
  {
   "cell_type": "code",
   "execution_count": null,
   "id": "fe3ac04a-4fc7-4cbc-abb1-a6b2b81a8b39",
   "metadata": {},
   "outputs": [],
   "source": []
  }
 ],
 "metadata": {
  "kernelspec": {
   "display_name": "Python 3 (ipykernel)",
   "language": "python",
   "name": "python3"
  },
  "language_info": {
   "codemirror_mode": {
    "name": "ipython",
    "version": 3
   },
   "file_extension": ".py",
   "mimetype": "text/x-python",
   "name": "python",
   "nbconvert_exporter": "python",
   "pygments_lexer": "ipython3",
   "version": "3.13.3"
  }
 },
 "nbformat": 4,
 "nbformat_minor": 5
}
