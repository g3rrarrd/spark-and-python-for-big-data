{
 "cells": [
  {
   "cell_type": "markdown",
   "id": "409d81f1-5128-4c7c-bf33-74a04f64a8b3",
   "metadata": {},
   "source": [
    "## Consulting Project\n",
    "### Recommender Systems - Solutions\n",
    "\n",
    "The whole world seems to be hearing about your new amazing abilities to analyze big data and build useful systems for them! You've just taken up a new contract with a new online food delivery company. This company is trying to differentiate itself by recommending new meals to customers based off of other customers likings.\n",
    "\n",
    "Can you build them a recommendation system?\n",
    "\n",
    "Your final result should be in the form of a function that can take in a Spark DataFrame of a single customer's ratings for various meals and output their top 3 suggested meals. For example:\n",
    "\n",
    "Best of luck!\n"
   ]
  },
  {
   "cell_type": "code",
   "execution_count": 1,
   "id": "cc9768b3-fdc1-4d35-878a-a2518db29daa",
   "metadata": {},
   "outputs": [],
   "source": [
    "import findspark\n",
    "findspark.init('/home/gerardo-rodriguez/spark-4.0.0-bin-hadoop3')"
   ]
  },
  {
   "cell_type": "code",
   "execution_count": 2,
   "id": "34ab220f-a308-4b21-a384-7218aadaab64",
   "metadata": {},
   "outputs": [
    {
     "name": "stderr",
     "output_type": "stream",
     "text": [
      "WARNING: Using incubator modules: jdk.incubator.vector\n",
      "Using Spark's default log4j profile: org/apache/spark/log4j2-defaults.properties\n",
      "25/08/21 10:34:47 WARN Utils: Your hostname, Lanz-Lenovo, resolves to a loopback address: 127.0.1.1; using 192.168.1.145 instead (on interface wlp2s0)\n",
      "25/08/21 10:34:47 WARN Utils: Set SPARK_LOCAL_IP if you need to bind to another address\n",
      "Using Spark's default log4j profile: org/apache/spark/log4j2-defaults.properties\n",
      "Setting default log level to \"WARN\".\n",
      "To adjust logging level use sc.setLogLevel(newLevel). For SparkR, use setLogLevel(newLevel).\n",
      "25/08/21 10:34:48 WARN NativeCodeLoader: Unable to load native-hadoop library for your platform... using builtin-java classes where applicable\n",
      "25/08/21 10:34:49 WARN Utils: Service 'SparkUI' could not bind on port 4040. Attempting port 4041.\n"
     ]
    }
   ],
   "source": [
    "from pyspark.sql import SparkSession\n",
    "\n",
    "spark = SparkSession.builder.appName('rec').getOrCreate()"
   ]
  },
  {
   "cell_type": "code",
   "execution_count": 3,
   "id": "85ca2b12-b982-460c-be5c-a713ef15e14d",
   "metadata": {},
   "outputs": [],
   "source": [
    "data = spark.read.csv('Meal_Info.csv', inferSchema=True, header=True)"
   ]
  },
  {
   "cell_type": "code",
   "execution_count": 4,
   "id": "191a03f4-2634-45c6-982f-c139ca89b732",
   "metadata": {},
   "outputs": [
    {
     "name": "stdout",
     "output_type": "stream",
     "text": [
      "+-------+------+------+--------+--------------------+\n",
      "|movieId|rating|userId|mealskew|           meal_name|\n",
      "+-------+------+------+--------+--------------------+\n",
      "|      2|   3.0|     0|     2.0|       Chicken Curry|\n",
      "|      3|   1.0|     0|     3.0|Spicy Chicken Nug...|\n",
      "|      5|   2.0|     0|     5.0|           Hamburger|\n",
      "|      9|   4.0|     0|     9.0|       Taco Surprise|\n",
      "|     11|   1.0|     0|    11.0|            Meatloaf|\n",
      "|     12|   2.0|     0|    12.0|        Ceaser Salad|\n",
      "|     15|   1.0|     0|    15.0|            BBQ Ribs|\n",
      "|     17|   1.0|     0|    17.0|         Sushi Plate|\n",
      "|     19|   1.0|     0|    19.0|Cheesesteak Sandw...|\n",
      "|     21|   1.0|     0|    21.0|             Lasagna|\n",
      "|     23|   1.0|     0|    23.0|      Orange Chicken|\n",
      "|     26|   3.0|     0|    26.0|    Spicy Beef Plate|\n",
      "|     27|   1.0|     0|    27.0|Salmon with Mashe...|\n",
      "|     28|   1.0|     0|    28.0| Penne Tomatoe Pasta|\n",
      "|     29|   1.0|     0|    29.0|        Pork Sliders|\n",
      "|     30|   1.0|     0|    30.0| Vietnamese Sandwich|\n",
      "|     31|   1.0|     0|    31.0|        Chicken Wrap|\n",
      "|     34|   1.0|     0|    NULL|                NULL|\n",
      "|     37|   1.0|     0|    NULL|                NULL|\n",
      "|     41|   2.0|     0|    NULL|                NULL|\n",
      "+-------+------+------+--------+--------------------+\n",
      "only showing top 20 rows\n"
     ]
    }
   ],
   "source": [
    "data.show()"
   ]
  },
  {
   "cell_type": "code",
   "execution_count": 5,
   "id": "fcc72b3e-0792-49c0-aec0-e1e0fddca149",
   "metadata": {},
   "outputs": [],
   "source": [
    "data_not_null = data.na.drop()"
   ]
  },
  {
   "cell_type": "code",
   "execution_count": 6,
   "id": "c49a8f92-0c81-451e-9f7b-e144d65928df",
   "metadata": {},
   "outputs": [
    {
     "name": "stderr",
     "output_type": "stream",
     "text": [
      "25/08/21 10:34:56 WARN SparkStringUtils: Truncated the string representation of a plan since it was too large. This behavior can be adjusted by setting 'spark.sql.debug.maxToStringFields'.\n",
      "[Stage 3:>                                                          (0 + 1) / 1]"
     ]
    },
    {
     "name": "stdout",
     "output_type": "stream",
     "text": [
      "+-------+------------------+------------------+-----------------+------------------+-------------------+\n",
      "|summary|           movieId|            rating|           userId|          mealskew|          meal_name|\n",
      "+-------+------------------+------------------+-----------------+------------------+-------------------+\n",
      "|  count|               486|               486|              486|               486|                486|\n",
      "|   mean|15.502057613168724|1.7366255144032923|14.46707818930041|15.502057613168724|               NULL|\n",
      "| stddev| 9.250633630277568|1.1808507031723887| 8.56063554474528| 9.250633630277568|               NULL|\n",
      "|    min|                 0|               1.0|                0|               0.0|           BBQ Ribs|\n",
      "|    max|                31|               5.0|               29|              31.0|Vietnamese Sandwich|\n",
      "+-------+------------------+------------------+-----------------+------------------+-------------------+\n",
      "\n"
     ]
    },
    {
     "name": "stderr",
     "output_type": "stream",
     "text": [
      "                                                                                "
     ]
    }
   ],
   "source": [
    "data_not_null.describe().show()"
   ]
  },
  {
   "cell_type": "code",
   "execution_count": 7,
   "id": "40fc0da0-14df-4e33-b2f4-8c8454aac73c",
   "metadata": {},
   "outputs": [],
   "source": [
    "data_meal = data_not_null.drop('movieId')"
   ]
  },
  {
   "cell_type": "code",
   "execution_count": 8,
   "id": "9a3e3774-b066-4c79-a09f-78246b0d2106",
   "metadata": {},
   "outputs": [
    {
     "name": "stdout",
     "output_type": "stream",
     "text": [
      "root\n",
      " |-- rating: double (nullable = true)\n",
      " |-- userId: integer (nullable = true)\n",
      " |-- mealskew: double (nullable = true)\n",
      " |-- meal_name: string (nullable = true)\n",
      "\n"
     ]
    }
   ],
   "source": [
    "data_meal.printSchema()"
   ]
  },
  {
   "cell_type": "code",
   "execution_count": 9,
   "id": "af7fe901-41aa-4103-bd43-58ba5978a936",
   "metadata": {},
   "outputs": [],
   "source": [
    "from pyspark.ml.recommendation import ALS\n",
    "from pyspark.ml.evaluation import RegressionEvaluator"
   ]
  },
  {
   "cell_type": "code",
   "execution_count": 10,
   "id": "1d831c1b-b573-4676-b8d4-492c8ef40412",
   "metadata": {},
   "outputs": [],
   "source": [
    "train_data, test_data = data_meal.randomSplit([0.8,0.2])"
   ]
  },
  {
   "cell_type": "code",
   "execution_count": 11,
   "id": "be4a4be7-2c3b-49ff-899b-2859bea7ea21",
   "metadata": {},
   "outputs": [],
   "source": [
    "als = ALS(maxIter=20, seed=1, userCol='userId', itemCol='mealskew', ratingCol='rating', regParam=0.2)"
   ]
  },
  {
   "cell_type": "code",
   "execution_count": 12,
   "id": "ab10b59a-3e63-4420-abc2-60f83e2f1a3f",
   "metadata": {},
   "outputs": [],
   "source": [
    "model = als.fit(train_data)"
   ]
  },
  {
   "cell_type": "code",
   "execution_count": 13,
   "id": "2e09ce45-70fd-40fa-a398-3a34424a7c5d",
   "metadata": {},
   "outputs": [
    {
     "name": "stdout",
     "output_type": "stream",
     "text": [
      "+------+------+--------+--------------------+----------+\n",
      "|rating|userId|mealskew|           meal_name|prediction|\n",
      "+------+------+--------+--------------------+----------+\n",
      "|   1.0|     1|       6|  Spicy Pork Sliders| 0.9793216|\n",
      "|   1.0|     1|      19|Cheesesteak Sandw...| 0.7889347|\n",
      "|   1.0|     6|      17|         Sushi Plate| 1.1809492|\n",
      "|   1.0|     6|      18|     Pepperoni Pizza| 1.3014514|\n",
      "|   1.0|     6|      22|   Pulled Pork Plate| 1.0156717|\n",
      "|   1.0|     6|      26|    Spicy Beef Plate| 1.2119777|\n",
      "|   1.0|     6|      30| Vietnamese Sandwich| 1.2920794|\n",
      "|   1.0|     3|       1|             Burrito| 0.7265112|\n",
      "|   1.0|     3|       9|       Taco Surprise|0.84264743|\n",
      "|   1.0|     3|      26|    Spicy Beef Plate| 0.7425171|\n",
      "|   1.0|     5|       4|Pretzels and Chee...| 1.6392684|\n",
      "|   1.0|     4|      11|            Meatloaf|0.90501857|\n",
      "|   1.0|     4|      23|      Orange Chicken| 1.0020273|\n",
      "|   1.0|     4|      24|               Chili| 0.8317848|\n",
      "|   1.0|     4|      31|        Chicken Wrap| 1.7574618|\n",
      "|   1.0|     7|       4|Pretzels and Chee...| 1.1703045|\n",
      "|   1.0|     7|      26|    Spicy Beef Plate| 1.0448306|\n",
      "|   1.0|     2|      10|   Roasted Eggplant | 0.2963645|\n",
      "|   1.0|     2|      22|   Pulled Pork Plate| 1.5720611|\n",
      "|   1.0|     2|      28| Penne Tomatoe Pasta| 3.0870025|\n",
      "+------+------+--------+--------------------+----------+\n",
      "only showing top 20 rows\n"
     ]
    }
   ],
   "source": [
    "predictions = model.transform(test_data)\n",
    "predictions.show()"
   ]
  },
  {
   "cell_type": "code",
   "execution_count": 14,
   "id": "e6d19050-b2ad-4ce8-bacb-3d76fabe4ed8",
   "metadata": {},
   "outputs": [
    {
     "name": "stdout",
     "output_type": "stream",
     "text": [
      "RMSE\n"
     ]
    },
    {
     "data": {
      "text/plain": [
       "1.0339823673121413"
      ]
     },
     "execution_count": 14,
     "metadata": {},
     "output_type": "execute_result"
    }
   ],
   "source": [
    "eva = RegressionEvaluator(metricName='rmse', predictionCol='prediction', labelCol='rating')\n",
    "\n",
    "print('RMSE')\n",
    "eva.evaluate(predictions)"
   ]
  },
  {
   "cell_type": "markdown",
   "id": "3c8cfe30-1878-42c1-8df2-a3c6ecb1b8d8",
   "metadata": {},
   "source": [
    "## Test for one user"
   ]
  },
  {
   "cell_type": "code",
   "execution_count": 16,
   "id": "3610443b-b5ff-4f35-9c33-5090404633d0",
   "metadata": {},
   "outputs": [
    {
     "name": "stdout",
     "output_type": "stream",
     "text": [
      "+------+--------+----------+\n",
      "|userId|mealskew|prediction|\n",
      "+------+--------+----------+\n",
      "|     2|      28| 3.0870025|\n",
      "|     2|      22| 1.5720611|\n",
      "|     2|      18| 1.5212991|\n",
      "|     2|      19| 0.8480537|\n",
      "|     2|      12|0.65938646|\n",
      "|     2|      10| 0.2963645|\n",
      "+------+--------+----------+\n",
      "\n"
     ]
    }
   ],
   "source": [
    "user_data = test_data.filter(test_data['userId'] == 2).select(['userId', 'mealskew'])\n",
    "prediction_user = model.transform(user_data)\n",
    "prediction_user.orderBy('prediction', ascending=False).show()"
   ]
  },
  {
   "cell_type": "code",
   "execution_count": null,
   "id": "30d579b9-563b-4f19-aa8f-d01c1b383324",
   "metadata": {},
   "outputs": [],
   "source": []
  }
 ],
 "metadata": {
  "kernelspec": {
   "display_name": "Python 3 (ipykernel)",
   "language": "python",
   "name": "python3"
  },
  "language_info": {
   "codemirror_mode": {
    "name": "ipython",
    "version": 3
   },
   "file_extension": ".py",
   "mimetype": "text/x-python",
   "name": "python",
   "nbconvert_exporter": "python",
   "pygments_lexer": "ipython3",
   "version": "3.13.3"
  }
 },
 "nbformat": 4,
 "nbformat_minor": 5
}
