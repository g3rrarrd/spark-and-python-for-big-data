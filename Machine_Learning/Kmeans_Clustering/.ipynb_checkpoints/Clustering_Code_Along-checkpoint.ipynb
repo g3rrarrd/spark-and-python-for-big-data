{
 "cells": [
  {
   "cell_type": "code",
   "execution_count": 1,
   "id": "85922a4e-8f92-434c-80d6-5a8dcd3333c0",
   "metadata": {},
   "outputs": [],
   "source": [
    "import findspark\n",
    "findspark.init('/home/gerardo-rodriguez/spark-4.0.0-bin-hadoop3')"
   ]
  },
  {
   "cell_type": "code",
   "execution_count": 2,
   "id": "85a6ee4a-2ef5-4c3e-a474-459e709eb15c",
   "metadata": {},
   "outputs": [
    {
     "name": "stderr",
     "output_type": "stream",
     "text": [
      "WARNING: Using incubator modules: jdk.incubator.vector\n",
      "Using Spark's default log4j profile: org/apache/spark/log4j2-defaults.properties\n",
      "25/08/20 13:08:29 WARN Utils: Your hostname, Lanz-Lenovo, resolves to a loopback address: 127.0.1.1; using 192.168.1.145 instead (on interface wlp2s0)\n",
      "25/08/20 13:08:29 WARN Utils: Set SPARK_LOCAL_IP if you need to bind to another address\n",
      "Using Spark's default log4j profile: org/apache/spark/log4j2-defaults.properties\n",
      "Setting default log level to \"WARN\".\n",
      "To adjust logging level use sc.setLogLevel(newLevel). For SparkR, use setLogLevel(newLevel).\n",
      "25/08/20 13:08:30 WARN NativeCodeLoader: Unable to load native-hadoop library for your platform... using builtin-java classes where applicable\n",
      "25/08/20 13:08:30 WARN Utils: Service 'SparkUI' could not bind on port 4040. Attempting port 4041.\n"
     ]
    }
   ],
   "source": [
    "from pyspark.sql import SparkSession\n",
    "spark = SparkSession.builder.appName('kmean').getOrCreate()"
   ]
  },
  {
   "cell_type": "code",
   "execution_count": 3,
   "id": "7e991215-49db-41d0-a198-1afa9309af0a",
   "metadata": {},
   "outputs": [],
   "source": [
    "dt = spark.read.csv('seeds_dataset.csv', header=True, inferSchema=True)"
   ]
  },
  {
   "cell_type": "code",
   "execution_count": 4,
   "id": "a74310b3-0777-4ce6-89d5-544e966355bc",
   "metadata": {},
   "outputs": [
    {
     "name": "stdout",
     "output_type": "stream",
     "text": [
      "root\n",
      " |-- area: double (nullable = true)\n",
      " |-- perimeter: double (nullable = true)\n",
      " |-- compactness: double (nullable = true)\n",
      " |-- length_of_kernel: double (nullable = true)\n",
      " |-- width_of_kernel: double (nullable = true)\n",
      " |-- asymmetry_coefficient: double (nullable = true)\n",
      " |-- length_of_groove: double (nullable = true)\n",
      "\n"
     ]
    }
   ],
   "source": [
    "dt.printSchema()"
   ]
  },
  {
   "cell_type": "code",
   "execution_count": 5,
   "id": "f30dadc1-7f68-41de-90ad-1e30452c87b8",
   "metadata": {},
   "outputs": [
    {
     "data": {
      "text/plain": [
       "[Row(area=15.26, perimeter=14.84, compactness=0.871, length_of_kernel=5.763, width_of_kernel=3.312, asymmetry_coefficient=2.221, length_of_groove=5.22)]"
      ]
     },
     "execution_count": 5,
     "metadata": {},
     "output_type": "execute_result"
    }
   ],
   "source": [
    "dt.head(1)"
   ]
  },
  {
   "cell_type": "code",
   "execution_count": 6,
   "id": "807bdfd7-8e81-455c-8e15-2cfda54b174a",
   "metadata": {},
   "outputs": [],
   "source": [
    "from pyspark.ml.clustering import KMeans"
   ]
  },
  {
   "cell_type": "code",
   "execution_count": 7,
   "id": "a2402857-1490-46b7-acd3-43cb5a300811",
   "metadata": {},
   "outputs": [],
   "source": [
    "from pyspark.ml.feature import VectorAssembler"
   ]
  },
  {
   "cell_type": "code",
   "execution_count": 8,
   "id": "600d3638-4862-455c-bda5-6b9fed7c34df",
   "metadata": {},
   "outputs": [
    {
     "data": {
      "text/plain": [
       "['area',\n",
       " 'perimeter',\n",
       " 'compactness',\n",
       " 'length_of_kernel',\n",
       " 'width_of_kernel',\n",
       " 'asymmetry_coefficient',\n",
       " 'length_of_groove']"
      ]
     },
     "execution_count": 8,
     "metadata": {},
     "output_type": "execute_result"
    }
   ],
   "source": [
    "dt.columns"
   ]
  },
  {
   "cell_type": "code",
   "execution_count": 10,
   "id": "77fbe67e-649b-4dd2-82a6-86412447cf56",
   "metadata": {},
   "outputs": [],
   "source": [
    "assembler = VectorAssembler(inputCols=dt.columns, \n",
    "                            outputCol='features')"
   ]
  },
  {
   "cell_type": "code",
   "execution_count": 11,
   "id": "5952fa7f-1c6d-4259-944e-51d8a3809666",
   "metadata": {},
   "outputs": [],
   "source": [
    "final_data = assembler.transform(dt)"
   ]
  },
  {
   "cell_type": "code",
   "execution_count": 12,
   "id": "0ce8d6af-3e6d-4977-b58c-c1111bf5e772",
   "metadata": {},
   "outputs": [
    {
     "name": "stdout",
     "output_type": "stream",
     "text": [
      "root\n",
      " |-- area: double (nullable = true)\n",
      " |-- perimeter: double (nullable = true)\n",
      " |-- compactness: double (nullable = true)\n",
      " |-- length_of_kernel: double (nullable = true)\n",
      " |-- width_of_kernel: double (nullable = true)\n",
      " |-- asymmetry_coefficient: double (nullable = true)\n",
      " |-- length_of_groove: double (nullable = true)\n",
      " |-- features: vector (nullable = true)\n",
      "\n"
     ]
    }
   ],
   "source": [
    "final_data.printSchema()"
   ]
  },
  {
   "cell_type": "code",
   "execution_count": 13,
   "id": "f3d1091e-e6d6-4768-98b7-86a15378bbcf",
   "metadata": {},
   "outputs": [],
   "source": [
    "from pyspark.ml.feature import StandardScaler"
   ]
  },
  {
   "cell_type": "code",
   "execution_count": 14,
   "id": "70314d3e-2f5f-4bdf-9671-4a1fe06cd251",
   "metadata": {},
   "outputs": [],
   "source": [
    "scaler = StandardScaler(inputCol='features',\n",
    "                       outputCol='scaledFeatures'\n",
    "                       )"
   ]
  },
  {
   "cell_type": "code",
   "execution_count": 15,
   "id": "27a47045-eb65-45b2-98dd-345c064a7586",
   "metadata": {},
   "outputs": [],
   "source": [
    "scaler_model = scaler.fit(final_data)"
   ]
  },
  {
   "cell_type": "code",
   "execution_count": 16,
   "id": "a9cc09c2-8039-4893-8f64-e48f944876bf",
   "metadata": {},
   "outputs": [],
   "source": [
    "final_data = scaler_model.transform(final_data)"
   ]
  },
  {
   "cell_type": "code",
   "execution_count": 18,
   "id": "f7796178-326f-4da2-b3cd-00ba0b827f5a",
   "metadata": {},
   "outputs": [
    {
     "data": {
      "text/plain": [
       "[Row(area=15.26, perimeter=14.84, compactness=0.871, length_of_kernel=5.763, width_of_kernel=3.312, asymmetry_coefficient=2.221, length_of_groove=5.22, features=DenseVector([15.26, 14.84, 0.871, 5.763, 3.312, 2.221, 5.22]), scaledFeatures=DenseVector([5.2445, 11.3633, 36.8608, 13.0072, 8.7685, 1.4772, 10.621]))]"
      ]
     },
     "execution_count": 18,
     "metadata": {},
     "output_type": "execute_result"
    }
   ],
   "source": [
    "final_data.head(1)"
   ]
  },
  {
   "cell_type": "code",
   "execution_count": 41,
   "id": "150dc0cc-802a-4af8-8c92-faef28049b6c",
   "metadata": {},
   "outputs": [],
   "source": [
    "kmeans = KMeans(featuresCol='scaledFeatures',k=2, seed=1)"
   ]
  },
  {
   "cell_type": "code",
   "execution_count": 42,
   "id": "6b8adb96-ba4d-413f-8cfa-47f04bb5f536",
   "metadata": {},
   "outputs": [],
   "source": [
    "model = kmeans.fit(final_data)"
   ]
  },
  {
   "cell_type": "code",
   "execution_count": 43,
   "id": "87f56766-59ce-4680-a6ac-063a68f69d65",
   "metadata": {},
   "outputs": [
    {
     "data": {
      "text/plain": [
       "[array([ 6.2407035 , 12.29350122, 37.40324608, 13.82968554,  9.69123508,\n",
       "         2.31478489, 12.15051313]),\n",
       " array([ 4.44396468, 10.48536862, 36.54671035, 12.05177027,  8.0111241 ,\n",
       "         2.54558929, 10.33965102])]"
      ]
     },
     "execution_count": 43,
     "metadata": {},
     "output_type": "execute_result"
    }
   ],
   "source": [
    "centers = model.clusterCenters()\n",
    "centers"
   ]
  },
  {
   "cell_type": "code",
   "execution_count": 44,
   "id": "43e06ec9-0392-4013-9f09-3a399ba5da3e",
   "metadata": {},
   "outputs": [],
   "source": [
    "predicts = model.transform(final_data)"
   ]
  },
  {
   "cell_type": "code",
   "execution_count": 45,
   "id": "97554cf8-de6e-4087-b765-03e3e1260df7",
   "metadata": {},
   "outputs": [],
   "source": [
    "from pyspark.ml.evaluation import ClusteringEvaluator"
   ]
  },
  {
   "cell_type": "code",
   "execution_count": 49,
   "id": "27d26973-3726-4a88-b1d6-b38a2b32556c",
   "metadata": {},
   "outputs": [],
   "source": [
    "eva = ClusteringEvaluator(featuresCol='scaledFeatures')"
   ]
  },
  {
   "cell_type": "code",
   "execution_count": 50,
   "id": "ab29ee56-54a6-4009-9d9d-83cc9356c303",
   "metadata": {},
   "outputs": [
    {
     "data": {
      "text/plain": [
       "0.6650046474811327"
      ]
     },
     "execution_count": 50,
     "metadata": {},
     "output_type": "execute_result"
    }
   ],
   "source": [
    "eva.evaluate(predicts)"
   ]
  },
  {
   "cell_type": "code",
   "execution_count": 51,
   "id": "77ffd762-edec-4668-9c80-8ac309c04add",
   "metadata": {},
   "outputs": [
    {
     "name": "stdout",
     "output_type": "stream",
     "text": [
      "+----------+\n",
      "|prediction|\n",
      "+----------+\n",
      "|         1|\n",
      "|         1|\n",
      "|         1|\n",
      "|         1|\n",
      "|         0|\n",
      "|         1|\n",
      "|         1|\n",
      "|         1|\n",
      "|         0|\n",
      "|         0|\n",
      "|         1|\n",
      "|         1|\n",
      "|         1|\n",
      "|         1|\n",
      "|         1|\n",
      "|         1|\n",
      "|         1|\n",
      "|         1|\n",
      "|         1|\n",
      "|         1|\n",
      "+----------+\n",
      "only showing top 20 rows\n"
     ]
    }
   ],
   "source": [
    "predicts.select('prediction').show()"
   ]
  },
  {
   "cell_type": "code",
   "execution_count": null,
   "id": "e5ed859c-202f-4a96-a7c9-7ec688bc6aaf",
   "metadata": {},
   "outputs": [],
   "source": []
  }
 ],
 "metadata": {
  "kernelspec": {
   "display_name": "Python 3 (ipykernel)",
   "language": "python",
   "name": "python3"
  },
  "language_info": {
   "codemirror_mode": {
    "name": "ipython",
    "version": 3
   },
   "file_extension": ".py",
   "mimetype": "text/x-python",
   "name": "python",
   "nbconvert_exporter": "python",
   "pygments_lexer": "ipython3",
   "version": "3.13.3"
  }
 },
 "nbformat": 4,
 "nbformat_minor": 5
}
