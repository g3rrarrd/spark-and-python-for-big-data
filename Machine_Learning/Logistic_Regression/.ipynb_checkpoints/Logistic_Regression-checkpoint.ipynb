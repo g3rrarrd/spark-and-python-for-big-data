{
 "cells": [
  {
   "cell_type": "code",
   "execution_count": 1,
   "id": "c8507176-61f6-4afa-ae84-7a7cd3ba5b29",
   "metadata": {},
   "outputs": [],
   "source": [
    "import findspark"
   ]
  },
  {
   "cell_type": "code",
   "execution_count": 3,
   "id": "9fd34b2d-e3cf-42eb-a6ef-422eb1059af6",
   "metadata": {},
   "outputs": [],
   "source": [
    "findspark.init('/home/gerardo-rodriguez/spark-4.0.0-bin-hadoop3')"
   ]
  },
  {
   "cell_type": "code",
   "execution_count": 4,
   "id": "db7b57a0-90be-4de7-b9de-4471c29371c3",
   "metadata": {},
   "outputs": [],
   "source": [
    "from pyspark.sql import SparkSession"
   ]
  },
  {
   "cell_type": "code",
   "execution_count": 5,
   "id": "bfaaa341-f1d1-491e-9ea4-c36f856f393e",
   "metadata": {},
   "outputs": [
    {
     "name": "stderr",
     "output_type": "stream",
     "text": [
      "WARNING: Using incubator modules: jdk.incubator.vector\n",
      "Using Spark's default log4j profile: org/apache/spark/log4j2-defaults.properties\n",
      "25/08/19 10:36:12 WARN Utils: Your hostname, Lanz-Lenovo, resolves to a loopback address: 127.0.1.1; using 192.168.1.145 instead (on interface wlp2s0)\n",
      "25/08/19 10:36:12 WARN Utils: Set SPARK_LOCAL_IP if you need to bind to another address\n",
      "Using Spark's default log4j profile: org/apache/spark/log4j2-defaults.properties\n",
      "Setting default log level to \"WARN\".\n",
      "To adjust logging level use sc.setLogLevel(newLevel). For SparkR, use setLogLevel(newLevel).\n",
      "25/08/19 10:36:13 WARN NativeCodeLoader: Unable to load native-hadoop library for your platform... using builtin-java classes where applicable\n"
     ]
    }
   ],
   "source": [
    "spark = SparkSession.builder.appName('mylogreg').getOrCreate()"
   ]
  },
  {
   "cell_type": "code",
   "execution_count": 6,
   "id": "231ab024-4425-4266-a90b-34ba598121bd",
   "metadata": {},
   "outputs": [],
   "source": [
    "from pyspark.ml.classification import LogisticRegression"
   ]
  },
  {
   "cell_type": "code",
   "execution_count": 8,
   "id": "e5261856-595f-40ec-acf7-99a3260c9198",
   "metadata": {},
   "outputs": [
    {
     "name": "stderr",
     "output_type": "stream",
     "text": [
      "25/08/19 10:37:03 WARN LibSVMFileFormat: 'numFeatures' option not specified, determining the number of features by going though the input. If you know the number in advance, please specify it via 'numFeatures' option to avoid the extra scan.\n"
     ]
    }
   ],
   "source": [
    "my_data = spark.read.format('libsvm').load('sample_libsvm_data.txt')"
   ]
  },
  {
   "cell_type": "code",
   "execution_count": 10,
   "id": "42697a1e-a6b8-40c8-9676-2b0a918c357a",
   "metadata": {},
   "outputs": [
    {
     "name": "stdout",
     "output_type": "stream",
     "text": [
      "+-----+--------------------+\n",
      "|label|            features|\n",
      "+-----+--------------------+\n",
      "|  0.0|(692,[127,128,129...|\n",
      "|  1.0|(692,[158,159,160...|\n",
      "|  1.0|(692,[124,125,126...|\n",
      "|  1.0|(692,[152,153,154...|\n",
      "|  1.0|(692,[151,152,153...|\n",
      "|  0.0|(692,[129,130,131...|\n",
      "|  1.0|(692,[158,159,160...|\n",
      "|  1.0|(692,[99,100,101,...|\n",
      "|  0.0|(692,[154,155,156...|\n",
      "|  0.0|(692,[127,128,129...|\n",
      "|  1.0|(692,[154,155,156...|\n",
      "|  0.0|(692,[153,154,155...|\n",
      "|  0.0|(692,[151,152,153...|\n",
      "|  1.0|(692,[129,130,131...|\n",
      "|  0.0|(692,[154,155,156...|\n",
      "|  1.0|(692,[150,151,152...|\n",
      "|  0.0|(692,[124,125,126...|\n",
      "|  0.0|(692,[152,153,154...|\n",
      "|  1.0|(692,[97,98,99,12...|\n",
      "|  1.0|(692,[124,125,126...|\n",
      "+-----+--------------------+\n",
      "only showing top 20 rows\n"
     ]
    }
   ],
   "source": [
    "my_data.show()"
   ]
  },
  {
   "cell_type": "code",
   "execution_count": 11,
   "id": "d2d09cb6-645a-4375-8276-f98a46340ddb",
   "metadata": {},
   "outputs": [],
   "source": [
    "my_log_reg_model = LogisticRegression()"
   ]
  },
  {
   "cell_type": "code",
   "execution_count": 12,
   "id": "2500f39c-909f-43e4-b8a8-38b83f68f5d3",
   "metadata": {},
   "outputs": [],
   "source": [
    "fitted_logreg_model = my_log_reg_model.fit(my_data)"
   ]
  },
  {
   "cell_type": "code",
   "execution_count": 13,
   "id": "179eca40-8062-433e-ab6f-b88877a8df71",
   "metadata": {},
   "outputs": [],
   "source": [
    "log_summary = fitted_logreg_model.summary"
   ]
  },
  {
   "cell_type": "code",
   "execution_count": 15,
   "id": "bb043552-4d05-4cfd-977f-921708eeba81",
   "metadata": {},
   "outputs": [
    {
     "name": "stdout",
     "output_type": "stream",
     "text": [
      "root\n",
      " |-- label: double (nullable = true)\n",
      " |-- features: vector (nullable = true)\n",
      " |-- rawPrediction: vector (nullable = true)\n",
      " |-- probability: vector (nullable = true)\n",
      " |-- prediction: double (nullable = false)\n",
      "\n"
     ]
    }
   ],
   "source": [
    "log_summary.predictions.printSchema()"
   ]
  },
  {
   "cell_type": "code",
   "execution_count": 17,
   "id": "339eff5e-67de-4a5f-a335-eb53cb59224e",
   "metadata": {},
   "outputs": [
    {
     "name": "stdout",
     "output_type": "stream",
     "text": [
      "+-----+--------------------+--------------------+--------------------+----------+\n",
      "|label|            features|       rawPrediction|         probability|prediction|\n",
      "+-----+--------------------+--------------------+--------------------+----------+\n",
      "|  0.0|(692,[127,128,129...|[20.3777627514875...|[0.99999999858729...|       0.0|\n",
      "|  1.0|(692,[158,159,160...|[-21.114014198852...|[6.76550380011201...|       1.0|\n",
      "|  1.0|(692,[124,125,126...|[-23.743613234684...|[4.87842678711891...|       1.0|\n",
      "|  1.0|(692,[152,153,154...|[-19.192574012724...|[4.62137287296030...|       1.0|\n",
      "|  1.0|(692,[151,152,153...|[-20.125398874706...|[1.81823629111716...|       1.0|\n",
      "|  0.0|(692,[129,130,131...|[20.4890549504206...|[0.99999999873608...|       0.0|\n",
      "|  1.0|(692,[158,159,160...|[-21.082940212796...|[6.97903542836027...|       1.0|\n",
      "|  1.0|(692,[99,100,101,...|[-19.622713503561...|[3.00582577442810...|       1.0|\n",
      "|  0.0|(692,[154,155,156...|[21.1594863606525...|[0.99999999935352...|       0.0|\n",
      "|  0.0|(692,[127,128,129...|[28.1036706837266...|[0.99999999999937...|       0.0|\n",
      "|  1.0|(692,[154,155,156...|[-21.054076780112...|[7.1834096295618E...|       1.0|\n",
      "|  0.0|(692,[153,154,155...|[26.9648490510217...|[0.99999999999805...|       0.0|\n",
      "|  0.0|(692,[151,152,153...|[32.7855654161368...|[0.99999999999999...|       0.0|\n",
      "|  1.0|(692,[129,130,131...|[-20.331839179656...|[1.47908944091322...|       1.0|\n",
      "|  0.0|(692,[154,155,156...|[21.7830579106583...|[0.99999999965347...|       0.0|\n",
      "|  1.0|(692,[150,151,152...|[-20.640562103727...|[1.08621994880477...|       1.0|\n",
      "|  0.0|(692,[124,125,126...|[22.6400775503741...|[0.99999999985292...|       0.0|\n",
      "|  0.0|(692,[152,153,154...|[38.0712919910866...|           [1.0,0.0]|       0.0|\n",
      "|  1.0|(692,[97,98,99,12...|[-19.830803265643...|[2.44113371541998...|       1.0|\n",
      "|  1.0|(692,[124,125,126...|[-21.016054806041...|[7.46179590480364...|       1.0|\n",
      "+-----+--------------------+--------------------+--------------------+----------+\n",
      "only showing top 20 rows\n"
     ]
    }
   ],
   "source": [
    "log_summary.predictions.show()"
   ]
  },
  {
   "cell_type": "code",
   "execution_count": 18,
   "id": "6f79ed97-1d04-4c0f-9730-0cb0c31c1cf9",
   "metadata": {},
   "outputs": [],
   "source": [
    "train_data, test_data = my_data.randomSplit([0.7,0.3])"
   ]
  },
  {
   "cell_type": "code",
   "execution_count": 19,
   "id": "5eed9189-a56b-4268-8520-1e38b695ade0",
   "metadata": {},
   "outputs": [],
   "source": [
    "final_model = LogisticRegression()"
   ]
  },
  {
   "cell_type": "code",
   "execution_count": 20,
   "id": "271b441f-ca60-42c7-afc3-982623dd16b3",
   "metadata": {},
   "outputs": [],
   "source": [
    "fit_final_model = final_model.fit(train_data)"
   ]
  },
  {
   "cell_type": "code",
   "execution_count": 21,
   "id": "e810908b-60da-4e96-a0c1-6422b2c69d54",
   "metadata": {},
   "outputs": [],
   "source": [
    "prediction_and_labels = fit_final_model.evaluate(test_data)"
   ]
  },
  {
   "cell_type": "code",
   "execution_count": 22,
   "id": "9161a426-334f-4299-8b3f-f9bd71a28022",
   "metadata": {},
   "outputs": [
    {
     "name": "stdout",
     "output_type": "stream",
     "text": [
      "+-----+--------------------+--------------------+--------------------+----------+\n",
      "|label|            features|       rawPrediction|         probability|prediction|\n",
      "+-----+--------------------+--------------------+--------------------+----------+\n",
      "|  0.0|(692,[95,96,97,12...|[21.0262608756310...|[0.99999999926139...|       0.0|\n",
      "|  0.0|(692,[100,101,102...|[2.31473992398679...|[0.91009045808357...|       0.0|\n",
      "|  0.0|(692,[122,123,124...|[18.6860158048317...|[0.99999999233051...|       0.0|\n",
      "|  0.0|(692,[122,123,148...|[30.0963932985588...|[0.99999999999991...|       0.0|\n",
      "|  0.0|(692,[124,125,126...|[37.8944403200781...|           [1.0,0.0]|       0.0|\n",
      "|  0.0|(692,[124,125,126...|[22.5866299658270...|[0.99999999984485...|       0.0|\n",
      "|  0.0|(692,[124,125,126...|[22.6182422968981...|[0.99999999984967...|       0.0|\n",
      "|  0.0|(692,[126,127,128...|[44.2838476931232...|           [1.0,0.0]|       0.0|\n",
      "|  0.0|(692,[128,129,130...|[28.5177450318809...|[0.99999999999958...|       0.0|\n",
      "|  0.0|(692,[152,153,154...|[37.3445733789087...|           [1.0,0.0]|       0.0|\n",
      "|  0.0|(692,[152,153,154...|[10.8103791162676...|[0.99997981153800...|       0.0|\n",
      "|  0.0|(692,[153,154,155...|[28.3649476022146...|[0.99999999999951...|       0.0|\n",
      "|  1.0|(692,[119,120,121...|[2.77383845737492...|[0.94124562194082...|       0.0|\n",
      "|  1.0|(692,[123,124,125...|[-21.667214764867...|[3.89088315767767...|       1.0|\n",
      "|  1.0|(692,[123,124,125...|[-22.038397054965...|[2.68439096809547...|       1.0|\n",
      "|  1.0|(692,[124,125,126...|[-21.226505298096...|[6.04569005904312...|       1.0|\n",
      "|  1.0|(692,[125,126,127...|[-19.631598514950...|[2.97923727275296...|       1.0|\n",
      "|  1.0|(692,[126,127,128...|[-21.831352855626...|[3.30190004497267...|       1.0|\n",
      "|  1.0|(692,[128,129,155...|[-21.055124301466...|[7.17588879438811...|       1.0|\n",
      "|  1.0|(692,[129,130,131...|[-19.183471778001...|[4.6636297175045E...|       1.0|\n",
      "+-----+--------------------+--------------------+--------------------+----------+\n",
      "only showing top 20 rows\n"
     ]
    }
   ],
   "source": [
    "prediction_and_labels.predictions.show()"
   ]
  },
  {
   "cell_type": "code",
   "execution_count": 24,
   "id": "11d15146-2c0b-4c85-abb8-cd49eac1d238",
   "metadata": {},
   "outputs": [],
   "source": [
    "from pyspark.ml.evaluation import (BinaryClassificationEvaluator, \n",
    "                                    MulticlassClassificationEvaluator)"
   ]
  },
  {
   "cell_type": "code",
   "execution_count": 25,
   "id": "b46237d1-f12c-4379-8abe-aed1ebb99d0e",
   "metadata": {},
   "outputs": [],
   "source": [
    "my_eval = BinaryClassificationEvaluator()"
   ]
  },
  {
   "cell_type": "code",
   "execution_count": 26,
   "id": "bcec5471-0639-4e4a-96cb-264fe5944c52",
   "metadata": {},
   "outputs": [],
   "source": [
    "my_final_roc = my_eval.evaluate(prediction_and_labels.predictions)"
   ]
  },
  {
   "cell_type": "code",
   "execution_count": 27,
   "id": "919f627b-07cf-438c-9534-d4f358349356",
   "metadata": {},
   "outputs": [
    {
     "data": {
      "text/plain": [
       "0.9930555555555555"
      ]
     },
     "execution_count": 27,
     "metadata": {},
     "output_type": "execute_result"
    }
   ],
   "source": [
    "my_final_roc"
   ]
  },
  {
   "cell_type": "code",
   "execution_count": null,
   "id": "d4cf72b0-e755-43c3-b32f-23de15ed1b2f",
   "metadata": {},
   "outputs": [],
   "source": []
  }
 ],
 "metadata": {
  "kernelspec": {
   "display_name": "Python 3 (ipykernel)",
   "language": "python",
   "name": "python3"
  },
  "language_info": {
   "codemirror_mode": {
    "name": "ipython",
    "version": 3
   },
   "file_extension": ".py",
   "mimetype": "text/x-python",
   "name": "python",
   "nbconvert_exporter": "python",
   "pygments_lexer": "ipython3",
   "version": "3.13.3"
  }
 },
 "nbformat": 4,
 "nbformat_minor": 5
}
