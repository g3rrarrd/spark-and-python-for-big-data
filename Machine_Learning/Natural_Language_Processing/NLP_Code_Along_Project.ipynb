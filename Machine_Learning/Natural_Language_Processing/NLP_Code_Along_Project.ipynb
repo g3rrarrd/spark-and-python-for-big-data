{
 "cells": [
  {
   "cell_type": "code",
   "execution_count": 1,
   "id": "0818425d-4bf9-4a7a-9fc0-80910fadcad2",
   "metadata": {},
   "outputs": [],
   "source": [
    "import findspark\n",
    "findspark.init('/home/gerardo-rodriguez/spark-4.0.0-bin-hadoop3')"
   ]
  },
  {
   "cell_type": "code",
   "execution_count": 2,
   "id": "c61d0555-50a6-4412-9185-1b76a00d663b",
   "metadata": {},
   "outputs": [
    {
     "name": "stderr",
     "output_type": "stream",
     "text": [
      "WARNING: Using incubator modules: jdk.incubator.vector\n",
      "Using Spark's default log4j profile: org/apache/spark/log4j2-defaults.properties\n",
      "25/08/21 13:59:33 WARN Utils: Your hostname, Lanz-Lenovo, resolves to a loopback address: 127.0.1.1; using 192.168.1.145 instead (on interface wlp2s0)\n",
      "25/08/21 13:59:33 WARN Utils: Set SPARK_LOCAL_IP if you need to bind to another address\n",
      "Using Spark's default log4j profile: org/apache/spark/log4j2-defaults.properties\n",
      "Setting default log level to \"WARN\".\n",
      "To adjust logging level use sc.setLogLevel(newLevel). For SparkR, use setLogLevel(newLevel).\n",
      "25/08/21 13:59:34 WARN NativeCodeLoader: Unable to load native-hadoop library for your platform... using builtin-java classes where applicable\n"
     ]
    }
   ],
   "source": [
    "from pyspark.sql import SparkSession\n",
    "spark = SparkSession.builder.appName('NLP').getOrCreate()"
   ]
  },
  {
   "cell_type": "code",
   "execution_count": 3,
   "id": "b3577924-f31c-446f-92fd-4c6e8cb6fce7",
   "metadata": {},
   "outputs": [],
   "source": [
    "data = spark.read.csv('smsspamcollection/SMSSpamCollection', sep='\\t', inferSchema=True)"
   ]
  },
  {
   "cell_type": "code",
   "execution_count": 4,
   "id": "746c8c79-eb9c-4c09-9d5a-e52864fe8637",
   "metadata": {},
   "outputs": [],
   "source": [
    "data = data.withColumnRenamed('_c0', 'class').withColumnRenamed('_c1', 'text')"
   ]
  },
  {
   "cell_type": "code",
   "execution_count": 5,
   "id": "dd43900b-8e6d-41b4-a9b9-76838852b674",
   "metadata": {},
   "outputs": [
    {
     "name": "stdout",
     "output_type": "stream",
     "text": [
      "+-----+--------------------+\n",
      "|class|                text|\n",
      "+-----+--------------------+\n",
      "|  ham|Go until jurong p...|\n",
      "|  ham|Ok lar... Joking ...|\n",
      "| spam|Free entry in 2 a...|\n",
      "|  ham|U dun say so earl...|\n",
      "|  ham|Nah I don't think...|\n",
      "| spam|FreeMsg Hey there...|\n",
      "|  ham|Even my brother i...|\n",
      "|  ham|As per your reque...|\n",
      "| spam|WINNER!! As a val...|\n",
      "| spam|Had your mobile 1...|\n",
      "|  ham|I'm gonna be home...|\n",
      "| spam|SIX chances to wi...|\n",
      "| spam|URGENT! You have ...|\n",
      "|  ham|I've been searchi...|\n",
      "|  ham|I HAVE A DATE ON ...|\n",
      "| spam|XXXMobileMovieClu...|\n",
      "|  ham|Oh k...i'm watchi...|\n",
      "|  ham|Eh u remember how...|\n",
      "|  ham|Fine if thats th...|\n",
      "| spam|England v Macedon...|\n",
      "+-----+--------------------+\n",
      "only showing top 20 rows\n"
     ]
    }
   ],
   "source": [
    "data.show()"
   ]
  },
  {
   "cell_type": "code",
   "execution_count": 6,
   "id": "28c727e2-f4a0-44ba-b9de-513dffc8274b",
   "metadata": {},
   "outputs": [],
   "source": [
    "from pyspark.sql.functions import length"
   ]
  },
  {
   "cell_type": "code",
   "execution_count": 7,
   "id": "1315014e-ccab-46bd-bd6b-34fdcaf0c829",
   "metadata": {},
   "outputs": [],
   "source": [
    "data = data.withColumn('length', length(data['text']))"
   ]
  },
  {
   "cell_type": "code",
   "execution_count": 8,
   "id": "1d954cf1-527c-4467-8f2f-2360c522acb2",
   "metadata": {},
   "outputs": [
    {
     "name": "stdout",
     "output_type": "stream",
     "text": [
      "+-----+--------------------+------+\n",
      "|class|                text|length|\n",
      "+-----+--------------------+------+\n",
      "|  ham|Go until jurong p...|   111|\n",
      "|  ham|Ok lar... Joking ...|    29|\n",
      "| spam|Free entry in 2 a...|   155|\n",
      "|  ham|U dun say so earl...|    49|\n",
      "|  ham|Nah I don't think...|    61|\n",
      "| spam|FreeMsg Hey there...|   147|\n",
      "|  ham|Even my brother i...|    77|\n",
      "|  ham|As per your reque...|   160|\n",
      "| spam|WINNER!! As a val...|   157|\n",
      "| spam|Had your mobile 1...|   154|\n",
      "|  ham|I'm gonna be home...|   109|\n",
      "| spam|SIX chances to wi...|   136|\n",
      "| spam|URGENT! You have ...|   155|\n",
      "|  ham|I've been searchi...|   196|\n",
      "|  ham|I HAVE A DATE ON ...|    35|\n",
      "| spam|XXXMobileMovieClu...|   149|\n",
      "|  ham|Oh k...i'm watchi...|    26|\n",
      "|  ham|Eh u remember how...|    81|\n",
      "|  ham|Fine if thats th...|    56|\n",
      "| spam|England v Macedon...|   155|\n",
      "+-----+--------------------+------+\n",
      "only showing top 20 rows\n"
     ]
    }
   ],
   "source": [
    "data.show()"
   ]
  },
  {
   "cell_type": "code",
   "execution_count": 9,
   "id": "e02c9486-f75c-442b-93a0-9010bc0d9faa",
   "metadata": {},
   "outputs": [
    {
     "name": "stdout",
     "output_type": "stream",
     "text": [
      "+-----+-----------------+\n",
      "|class|      avg(length)|\n",
      "+-----+-----------------+\n",
      "|  ham|71.45431945307645|\n",
      "| spam|138.6706827309237|\n",
      "+-----+-----------------+\n",
      "\n"
     ]
    }
   ],
   "source": [
    "data.groupBy('class').mean().show()"
   ]
  },
  {
   "cell_type": "code",
   "execution_count": 10,
   "id": "ecab80cd-2775-46d7-b5d6-50f08dd8e20a",
   "metadata": {},
   "outputs": [],
   "source": [
    "from pyspark.ml.feature import Tokenizer, StopWordsRemover, CountVectorizer, IDF, StringIndexer"
   ]
  },
  {
   "cell_type": "code",
   "execution_count": 11,
   "id": "80450c5e-4238-4f91-af5d-b4d16162a805",
   "metadata": {},
   "outputs": [],
   "source": [
    "tokenizer = Tokenizer(inputCol='text', outputCol='token')\n",
    "stop_remove = StopWordsRemover(inputCol='token', outputCol='stop_token', pattern='\\\\W')\n",
    "count_vec = CountVectorizer(inputCol='stop_token', outputCol='count_vec')\n",
    "idf = IDF(inputCol='count_vec', outputCol='tf_idf')\n",
    "ham_spam_to_num = StringIndexer(inputCol='class', outputCol='label')"
   ]
  },
  {
   "cell_type": "code",
   "execution_count": 12,
   "id": "7fdd6731-4c01-492d-abbe-ba9e776f216e",
   "metadata": {},
   "outputs": [],
   "source": [
    "from pyspark.ml.feature import VectorAssembler"
   ]
  },
  {
   "cell_type": "code",
   "execution_count": 13,
   "id": "e6479f68-d68e-4e48-be3e-ef9748de7329",
   "metadata": {},
   "outputs": [],
   "source": [
    "clean_up = VectorAssembler(inputCols=['tf_idf', 'length'], outputCol='features')"
   ]
  },
  {
   "cell_type": "markdown",
   "id": "da12914f-c612-4a46-a398-18ff00012a33",
   "metadata": {},
   "source": [
    "# Model NaiveBayes"
   ]
  },
  {
   "cell_type": "code",
   "execution_count": 14,
   "id": "d0b694c1-4a83-4a1f-9e51-1c8be6a7bc98",
   "metadata": {},
   "outputs": [],
   "source": [
    "from pyspark.ml.classification import NaiveBayes"
   ]
  },
  {
   "cell_type": "code",
   "execution_count": 15,
   "id": "a212e6e2-1ad4-406b-8d22-8773210d88b6",
   "metadata": {},
   "outputs": [],
   "source": [
    "nb = NaiveBayes()"
   ]
  },
  {
   "cell_type": "code",
   "execution_count": 16,
   "id": "5c168048-2e2a-44d1-9b64-40caf0d9864d",
   "metadata": {},
   "outputs": [],
   "source": [
    "from pyspark.ml import Pipeline"
   ]
  },
  {
   "cell_type": "code",
   "execution_count": 17,
   "id": "d80fbaab-8c05-4276-8e07-26f65c95b3ca",
   "metadata": {},
   "outputs": [],
   "source": [
    "data_prep_pip = Pipeline(stages=[ham_spam_to_num, tokenizer, stop_remove, count_vec, idf, clean_up])"
   ]
  },
  {
   "cell_type": "code",
   "execution_count": 18,
   "id": "aefc96d8-b350-4a77-9174-868b2b689589",
   "metadata": {},
   "outputs": [
    {
     "name": "stderr",
     "output_type": "stream",
     "text": [
      "                                                                                "
     ]
    }
   ],
   "source": [
    "cleaner = data_prep_pip.fit(data)"
   ]
  },
  {
   "cell_type": "code",
   "execution_count": 19,
   "id": "aeae2d29-c5a3-47c3-9e8a-2fa8c73561cb",
   "metadata": {},
   "outputs": [],
   "source": [
    "clean_data = cleaner.transform(data)"
   ]
  },
  {
   "cell_type": "code",
   "execution_count": 20,
   "id": "d3ab20a5-8389-40dd-b4af-33069c90a377",
   "metadata": {},
   "outputs": [],
   "source": [
    "clean_data = clean_data.select('label', 'features')"
   ]
  },
  {
   "cell_type": "code",
   "execution_count": 21,
   "id": "4e353eae-57dc-411c-a546-94b13b9ecc1e",
   "metadata": {},
   "outputs": [
    {
     "name": "stdout",
     "output_type": "stream",
     "text": [
      "+-----+--------------------+\n",
      "|label|            features|\n",
      "+-----+--------------------+\n",
      "|  0.0|(13424,[7,11,31,6...|\n",
      "|  0.0|(13424,[0,24,301,...|\n",
      "|  1.0|(13424,[2,13,19,3...|\n",
      "|  0.0|(13424,[0,70,80,1...|\n",
      "|  0.0|(13424,[36,134,31...|\n",
      "|  1.0|(13424,[10,60,140...|\n",
      "|  0.0|(13424,[10,53,102...|\n",
      "|  0.0|(13424,[127,185,4...|\n",
      "|  1.0|(13424,[1,47,121,...|\n",
      "|  1.0|(13424,[0,1,13,27...|\n",
      "|  0.0|(13424,[18,43,117...|\n",
      "|  1.0|(13424,[8,16,37,8...|\n",
      "|  1.0|(13424,[13,30,47,...|\n",
      "|  0.0|(13424,[39,95,221...|\n",
      "|  0.0|(13424,[555,1797,...|\n",
      "|  1.0|(13424,[30,109,11...|\n",
      "|  0.0|(13424,[82,214,44...|\n",
      "|  0.0|(13424,[0,2,49,13...|\n",
      "|  0.0|(13424,[0,74,105,...|\n",
      "|  1.0|(13424,[4,30,33,5...|\n",
      "+-----+--------------------+\n",
      "only showing top 20 rows\n"
     ]
    }
   ],
   "source": [
    "clean_data.show()"
   ]
  },
  {
   "cell_type": "code",
   "execution_count": 22,
   "id": "5f516842-ba0f-4faa-924c-8ee1e3335902",
   "metadata": {},
   "outputs": [],
   "source": [
    "train_data, test_data = clean_data.randomSplit([0.7,0.3])"
   ]
  },
  {
   "cell_type": "code",
   "execution_count": 23,
   "id": "086da4bc-532f-4a07-a845-4095a9289588",
   "metadata": {},
   "outputs": [
    {
     "name": "stderr",
     "output_type": "stream",
     "text": [
      "25/08/21 13:59:47 WARN DAGScheduler: Broadcasting large task binary with size 1027.2 KiB\n",
      "25/08/21 13:59:48 WARN DAGScheduler: Broadcasting large task binary with size 1022.2 KiB\n",
      "                                                                                "
     ]
    }
   ],
   "source": [
    "spam_detector = nb.fit(train_data)"
   ]
  },
  {
   "cell_type": "code",
   "execution_count": 24,
   "id": "ff5817c4-38a9-4bf3-ad08-ffa00aa787e5",
   "metadata": {},
   "outputs": [
    {
     "name": "stdout",
     "output_type": "stream",
     "text": [
      "root\n",
      " |-- class: string (nullable = true)\n",
      " |-- text: string (nullable = true)\n",
      " |-- length: integer (nullable = true)\n",
      "\n"
     ]
    }
   ],
   "source": [
    "data.printSchema()"
   ]
  },
  {
   "cell_type": "code",
   "execution_count": 25,
   "id": "e0cdbb13-cf7c-4a1e-97c4-c97b503df597",
   "metadata": {},
   "outputs": [],
   "source": [
    "result = spam_detector.transform(test_data)"
   ]
  },
  {
   "cell_type": "code",
   "execution_count": 26,
   "id": "008172b3-c5c5-45bb-9efb-78853f90ec71",
   "metadata": {},
   "outputs": [
    {
     "name": "stderr",
     "output_type": "stream",
     "text": [
      "25/08/21 13:59:48 WARN DAGScheduler: Broadcasting large task binary with size 1242.3 KiB\n"
     ]
    },
    {
     "name": "stdout",
     "output_type": "stream",
     "text": [
      "+-----+--------------------+--------------------+--------------------+----------+\n",
      "|label|            features|       rawPrediction|         probability|prediction|\n",
      "+-----+--------------------+--------------------+--------------------+----------+\n",
      "|  0.0|(13424,[0,1,4,50,...|[-825.59865271233...|[1.0,1.2457796587...|       0.0|\n",
      "|  0.0|(13424,[0,1,18,20...|[-842.69343853149...|[1.0,1.8412639385...|       0.0|\n",
      "|  0.0|(13424,[0,1,27,85...|[-1527.9444185907...|[0.99999997490576...|       0.0|\n",
      "|  0.0|(13424,[0,1,30,11...|[-594.52187959399...|[1.0,2.2250416463...|       0.0|\n",
      "|  0.0|(13424,[0,1,31,43...|[-346.76668995026...|[1.0,5.3090820048...|       0.0|\n",
      "|  0.0|(13424,[0,1,43,69...|[-615.53702749425...|[0.99997416671949...|       0.0|\n",
      "|  0.0|(13424,[0,1,46,17...|[-1141.2522134465...|[4.25434874988071...|       1.0|\n",
      "|  0.0|(13424,[0,1,428,6...|[-315.79158758350...|[0.99999999998878...|       0.0|\n",
      "|  0.0|(13424,[0,1,500,5...|[-321.32545111160...|[0.99999999999997...|       0.0|\n",
      "|  0.0|(13424,[0,2,3,6,9...|[-3292.9444987654...|[1.0,9.9270069256...|       0.0|\n",
      "|  0.0|(13424,[0,2,3,8,2...|[-1637.9820208903...|[1.0,2.0138694751...|       0.0|\n",
      "|  0.0|(13424,[0,2,4,5,1...|[-2488.2215349800...|[1.0,1.4092559194...|       0.0|\n",
      "|  0.0|(13424,[0,2,4,7,2...|[-518.33157152209...|[1.0,1.0465927732...|       0.0|\n",
      "|  0.0|(13424,[0,2,4,26,...|[-421.79477885645...|[1.0,8.7046160168...|       0.0|\n",
      "|  0.0|(13424,[0,2,7,11,...|[-734.51323681901...|[1.0,4.1080629754...|       0.0|\n",
      "|  0.0|(13424,[0,2,7,11,...|[-1328.7127582406...|[1.0,1.5708571392...|       0.0|\n",
      "|  0.0|(13424,[0,2,7,11,...|[-831.86859445615...|[1.0,2.1143467492...|       0.0|\n",
      "|  0.0|(13424,[0,2,7,115...|[-451.56981369788...|[1.0,1.0956275761...|       0.0|\n",
      "|  0.0|(13424,[0,2,8,12,...|[-1325.4006191057...|[1.0,4.0471181178...|       0.0|\n",
      "|  0.0|(13424,[0,2,8,28,...|[-1296.8280969591...|[1.0,6.3024037437...|       0.0|\n",
      "+-----+--------------------+--------------------+--------------------+----------+\n",
      "only showing top 20 rows\n"
     ]
    }
   ],
   "source": [
    "result.show()"
   ]
  },
  {
   "cell_type": "code",
   "execution_count": 27,
   "id": "0a32eff6-0b84-4256-bc28-3ef4122ffde3",
   "metadata": {},
   "outputs": [],
   "source": [
    "from pyspark.ml.evaluation import MulticlassClassificationEvaluator"
   ]
  },
  {
   "cell_type": "code",
   "execution_count": 28,
   "id": "b1a8230e-06ec-498d-b28d-29e6932a21e8",
   "metadata": {},
   "outputs": [],
   "source": [
    "acc = MulticlassClassificationEvaluator()"
   ]
  },
  {
   "cell_type": "code",
   "execution_count": 29,
   "id": "93972e36-7d2a-456a-b513-1c7ca582ce51",
   "metadata": {},
   "outputs": [
    {
     "name": "stderr",
     "output_type": "stream",
     "text": [
      "25/08/21 13:59:49 WARN DAGScheduler: Broadcasting large task binary with size 1247.8 KiB\n"
     ]
    }
   ],
   "source": [
    "eva = acc.evaluate(result)"
   ]
  },
  {
   "cell_type": "code",
   "execution_count": 30,
   "id": "d7e883ce-e184-4c75-b0b1-697da2b6e9ec",
   "metadata": {},
   "outputs": [
    {
     "name": "stdout",
     "output_type": "stream",
     "text": [
      "ACC of NB\n"
     ]
    },
    {
     "data": {
      "text/plain": [
       "0.9182847361079896"
      ]
     },
     "execution_count": 30,
     "metadata": {},
     "output_type": "execute_result"
    }
   ],
   "source": [
    "print('ACC of NB')\n",
    "eva"
   ]
  },
  {
   "cell_type": "markdown",
   "id": "beff53db-4ef4-4c9d-8c60-4d4ecfcb65ef",
   "metadata": {},
   "source": [
    "# TreeClassifier"
   ]
  },
  {
   "cell_type": "code",
   "execution_count": 31,
   "id": "10d36eba-3392-4f01-849d-dc10f72acd8b",
   "metadata": {},
   "outputs": [],
   "source": [
    "from pyspark.ml.classification import DecisionTreeClassifier"
   ]
  },
  {
   "cell_type": "code",
   "execution_count": 32,
   "id": "37bc03dc-e7c9-480f-b5f5-f63d0fe2a2ad",
   "metadata": {},
   "outputs": [
    {
     "name": "stderr",
     "output_type": "stream",
     "text": [
      "25/08/21 13:59:50 WARN DAGScheduler: Broadcasting large task binary with size 1026.1 KiB\n",
      "25/08/21 13:59:50 WARN DAGScheduler: Broadcasting large task binary with size 1026.0 KiB\n",
      "25/08/21 13:59:50 WARN DAGScheduler: Broadcasting large task binary with size 1161.2 KiB\n",
      "25/08/21 13:59:54 WARN DAGScheduler: Broadcasting large task binary with size 1353.7 KiB\n",
      "25/08/21 13:59:54 WARN DAGScheduler: Broadcasting large task binary with size 1354.4 KiB\n",
      "25/08/21 13:59:55 WARN DAGScheduler: Broadcasting large task binary with size 1355.0 KiB\n",
      "25/08/21 13:59:55 WARN DAGScheduler: Broadcasting large task binary with size 1356.0 KiB\n",
      "25/08/21 13:59:55 WARN DAGScheduler: Broadcasting large task binary with size 1357.2 KiB\n",
      "25/08/21 13:59:55 WARN DAGScheduler: Broadcasting large task binary with size 1358.5 KiB\n",
      "25/08/21 13:59:56 WARN DAGScheduler: Broadcasting large task binary with size 1360.1 KiB\n",
      "25/08/21 13:59:56 WARN DAGScheduler: Broadcasting large task binary with size 1361.6 KiB\n",
      "25/08/21 13:59:56 WARN DAGScheduler: Broadcasting large task binary with size 1363.3 KiB\n",
      "25/08/21 13:59:56 WARN DAGScheduler: Broadcasting large task binary with size 1364.9 KiB\n",
      "25/08/21 13:59:56 WARN DAGScheduler: Broadcasting large task binary with size 1366.4 KiB\n",
      "25/08/21 13:59:57 WARN DAGScheduler: Broadcasting large task binary with size 1367.9 KiB\n",
      "25/08/21 13:59:57 WARN DAGScheduler: Broadcasting large task binary with size 1369.0 KiB\n",
      "25/08/21 13:59:57 WARN DAGScheduler: Broadcasting large task binary with size 1370.0 KiB\n",
      "25/08/21 13:59:57 WARN DAGScheduler: Broadcasting large task binary with size 1370.5 KiB\n",
      "25/08/21 13:59:57 WARN DAGScheduler: Broadcasting large task binary with size 1371.0 KiB\n",
      "25/08/21 13:59:57 WARN DAGScheduler: Broadcasting large task binary with size 1371.5 KiB\n",
      "25/08/21 13:59:58 WARN DAGScheduler: Broadcasting large task binary with size 1372.0 KiB\n",
      "25/08/21 13:59:58 WARN DAGScheduler: Broadcasting large task binary with size 1372.4 KiB\n",
      "25/08/21 13:59:58 WARN DAGScheduler: Broadcasting large task binary with size 1373.0 KiB\n",
      "25/08/21 13:59:58 WARN DAGScheduler: Broadcasting large task binary with size 1374.0 KiB\n",
      "25/08/21 13:59:58 WARN DAGScheduler: Broadcasting large task binary with size 1375.1 KiB\n",
      "25/08/21 13:59:59 WARN DAGScheduler: Broadcasting large task binary with size 1375.8 KiB\n",
      "25/08/21 13:59:59 WARN DAGScheduler: Broadcasting large task binary with size 1376.5 KiB\n",
      "25/08/21 13:59:59 WARN DAGScheduler: Broadcasting large task binary with size 1377.0 KiB\n",
      "25/08/21 13:59:59 WARN DAGScheduler: Broadcasting large task binary with size 1377.5 KiB\n",
      "25/08/21 13:59:59 WARN DAGScheduler: Broadcasting large task binary with size 1378.0 KiB\n",
      "25/08/21 13:59:59 WARN DAGScheduler: Broadcasting large task binary with size 1378.5 KiB\n",
      "25/08/21 14:00:00 WARN DAGScheduler: Broadcasting large task binary with size 1378.9 KiB\n",
      "25/08/21 14:00:00 WARN DAGScheduler: Broadcasting large task binary with size 1379.4 KiB\n"
     ]
    }
   ],
   "source": [
    "tree = DecisionTreeClassifier(featuresCol='features', labelCol='label' \n",
    "                              ,maxDepth=30, seed=1)\n",
    "model = tree.fit(train_data)"
   ]
  },
  {
   "cell_type": "code",
   "execution_count": 65,
   "id": "85da83db-38e6-4aa5-9370-03a0d617a24f",
   "metadata": {},
   "outputs": [
    {
     "name": "stdout",
     "output_type": "stream",
     "text": [
      "+-----+--------------------+-------------+--------------------+----------+\n",
      "|label|            features|rawPrediction|         probability|prediction|\n",
      "+-----+--------------------+-------------+--------------------+----------+\n",
      "|  0.0|(13424,[0,1,4,50,...|[2794.0,16.0]|[0.99430604982206...|       0.0|\n",
      "|  0.0|(13424,[0,1,18,20...|[2794.0,16.0]|[0.99430604982206...|       0.0|\n",
      "|  0.0|(13424,[0,1,27,85...|  [0.0,179.0]|           [0.0,1.0]|       1.0|\n",
      "|  0.0|(13424,[0,1,30,11...|    [4.0,0.0]|           [1.0,0.0]|       0.0|\n",
      "|  0.0|(13424,[0,1,31,43...|[2794.0,16.0]|[0.99430604982206...|       0.0|\n",
      "|  0.0|(13424,[0,1,43,69...|[2794.0,16.0]|[0.99430604982206...|       0.0|\n",
      "|  0.0|(13424,[0,1,46,17...|    [8.0,0.0]|           [1.0,0.0]|       0.0|\n",
      "|  0.0|(13424,[0,1,428,6...|[2794.0,16.0]|[0.99430604982206...|       0.0|\n",
      "|  0.0|(13424,[0,1,500,5...|[2794.0,16.0]|[0.99430604982206...|       0.0|\n",
      "|  0.0|(13424,[0,2,3,6,9...|    [5.0,0.0]|           [1.0,0.0]|       0.0|\n",
      "|  0.0|(13424,[0,2,3,8,2...| [500.0,14.0]|[0.97276264591439...|       0.0|\n",
      "|  0.0|(13424,[0,2,4,5,1...| [500.0,14.0]|[0.97276264591439...|       0.0|\n",
      "|  0.0|(13424,[0,2,4,7,2...|[2794.0,16.0]|[0.99430604982206...|       0.0|\n",
      "|  0.0|(13424,[0,2,4,26,...|[2794.0,16.0]|[0.99430604982206...|       0.0|\n",
      "|  0.0|(13424,[0,2,7,11,...|[2794.0,16.0]|[0.99430604982206...|       0.0|\n",
      "|  0.0|(13424,[0,2,7,11,...| [500.0,14.0]|[0.97276264591439...|       0.0|\n",
      "|  0.0|(13424,[0,2,7,11,...|[2794.0,16.0]|[0.99430604982206...|       0.0|\n",
      "|  0.0|(13424,[0,2,7,115...|[2794.0,16.0]|[0.99430604982206...|       0.0|\n",
      "|  0.0|(13424,[0,2,8,12,...| [500.0,14.0]|[0.97276264591439...|       0.0|\n",
      "|  0.0|(13424,[0,2,8,28,...|[2794.0,16.0]|[0.99430604982206...|       0.0|\n",
      "+-----+--------------------+-------------+--------------------+----------+\n",
      "only showing top 20 rows\n"
     ]
    },
    {
     "name": "stderr",
     "output_type": "stream",
     "text": [
      "25/08/21 14:08:32 WARN DAGScheduler: Broadcasting large task binary with size 1052.5 KiB\n"
     ]
    }
   ],
   "source": [
    "result = model.transform(test_data)\n",
    "result.show()"
   ]
  },
  {
   "cell_type": "code",
   "execution_count": 34,
   "id": "738f3ac5-f7ae-4259-85c3-14d9a9e2ef63",
   "metadata": {},
   "outputs": [],
   "source": [
    "from pyspark.ml.evaluation import BinaryClassificationEvaluator"
   ]
  },
  {
   "cell_type": "code",
   "execution_count": 35,
   "id": "019198de-f74c-4e0f-9351-c3e013b0cd40",
   "metadata": {},
   "outputs": [],
   "source": [
    "bin_eva = BinaryClassificationEvaluator()"
   ]
  },
  {
   "cell_type": "code",
   "execution_count": 36,
   "id": "771fb0a4-884a-4ed6-b11a-554ccc9341a9",
   "metadata": {},
   "outputs": [
    {
     "name": "stdout",
     "output_type": "stream",
     "text": [
      "ACC on Tree\n"
     ]
    },
    {
     "name": "stderr",
     "output_type": "stream",
     "text": [
      "25/08/21 14:00:01 WARN DAGScheduler: Broadcasting large task binary with size 1046.2 KiB\n"
     ]
    },
    {
     "data": {
      "text/plain": [
       "0.6627654025527736"
      ]
     },
     "execution_count": 36,
     "metadata": {},
     "output_type": "execute_result"
    }
   ],
   "source": [
    "print('ACC on Tree')\n",
    "bin_eva.evaluate(result)"
   ]
  },
  {
   "cell_type": "markdown",
   "id": "1635e287-742e-4a12-a7a5-230b0912a30e",
   "metadata": {},
   "source": [
    "# Logistic Regression"
   ]
  },
  {
   "cell_type": "code",
   "execution_count": 37,
   "id": "ed51ee52-2bfd-48a0-986f-d79e188aae61",
   "metadata": {},
   "outputs": [],
   "source": [
    "from pyspark.ml.classification import LogisticRegression"
   ]
  },
  {
   "cell_type": "code",
   "execution_count": 38,
   "id": "d0a6d014-f7f5-4a19-a9f4-88739f105317",
   "metadata": {},
   "outputs": [
    {
     "name": "stderr",
     "output_type": "stream",
     "text": [
      "25/08/21 14:00:01 WARN DAGScheduler: Broadcasting large task binary with size 1029.7 KiB\n",
      "25/08/21 14:00:01 WARN DAGScheduler: Broadcasting large task binary with size 1030.3 KiB\n",
      "25/08/21 14:00:02 WARN DAGScheduler: Broadcasting large task binary with size 1030.3 KiB\n",
      "25/08/21 14:00:02 WARN DAGScheduler: Broadcasting large task binary with size 1030.3 KiB\n",
      "25/08/21 14:00:02 WARN DAGScheduler: Broadcasting large task binary with size 1030.3 KiB\n",
      "25/08/21 14:00:02 WARN DAGScheduler: Broadcasting large task binary with size 1030.3 KiB\n",
      "25/08/21 14:00:02 WARN DAGScheduler: Broadcasting large task binary with size 1030.3 KiB\n",
      "25/08/21 14:00:02 WARN DAGScheduler: Broadcasting large task binary with size 1030.3 KiB\n",
      "25/08/21 14:00:02 WARN DAGScheduler: Broadcasting large task binary with size 1030.3 KiB\n",
      "25/08/21 14:00:02 WARN DAGScheduler: Broadcasting large task binary with size 1030.3 KiB\n",
      "25/08/21 14:00:02 WARN DAGScheduler: Broadcasting large task binary with size 1030.3 KiB\n",
      "25/08/21 14:00:02 WARN DAGScheduler: Broadcasting large task binary with size 1030.3 KiB\n",
      "25/08/21 14:00:02 WARN DAGScheduler: Broadcasting large task binary with size 1030.3 KiB\n",
      "25/08/21 14:00:02 WARN DAGScheduler: Broadcasting large task binary with size 1030.3 KiB\n",
      "25/08/21 14:00:02 WARN DAGScheduler: Broadcasting large task binary with size 1030.3 KiB\n",
      "25/08/21 14:00:02 WARN DAGScheduler: Broadcasting large task binary with size 1030.3 KiB\n",
      "25/08/21 14:00:03 WARN DAGScheduler: Broadcasting large task binary with size 1030.3 KiB\n",
      "25/08/21 14:00:03 WARN DAGScheduler: Broadcasting large task binary with size 1030.3 KiB\n",
      "25/08/21 14:00:03 WARN DAGScheduler: Broadcasting large task binary with size 1030.3 KiB\n",
      "25/08/21 14:00:03 WARN DAGScheduler: Broadcasting large task binary with size 1030.3 KiB\n",
      "25/08/21 14:00:03 WARN DAGScheduler: Broadcasting large task binary with size 1030.3 KiB\n",
      "25/08/21 14:00:03 WARN DAGScheduler: Broadcasting large task binary with size 1030.3 KiB\n",
      "25/08/21 14:00:03 WARN DAGScheduler: Broadcasting large task binary with size 1030.3 KiB\n",
      "25/08/21 14:00:03 WARN DAGScheduler: Broadcasting large task binary with size 1030.3 KiB\n",
      "25/08/21 14:00:03 WARN DAGScheduler: Broadcasting large task binary with size 1030.3 KiB\n",
      "25/08/21 14:00:03 WARN DAGScheduler: Broadcasting large task binary with size 1030.3 KiB\n",
      "25/08/21 14:00:03 WARN DAGScheduler: Broadcasting large task binary with size 1030.3 KiB\n",
      "25/08/21 14:00:03 WARN DAGScheduler: Broadcasting large task binary with size 1030.3 KiB\n",
      "25/08/21 14:00:03 WARN DAGScheduler: Broadcasting large task binary with size 1030.3 KiB\n",
      "25/08/21 14:00:03 WARN DAGScheduler: Broadcasting large task binary with size 1030.3 KiB\n",
      "25/08/21 14:00:03 WARN DAGScheduler: Broadcasting large task binary with size 1030.3 KiB\n",
      "25/08/21 14:00:03 WARN DAGScheduler: Broadcasting large task binary with size 1030.3 KiB\n"
     ]
    }
   ],
   "source": [
    "reg = LogisticRegression(featuresCol='features', labelCol='label')\n",
    "model_reg = reg.fit(train_data)"
   ]
  },
  {
   "cell_type": "code",
   "execution_count": 39,
   "id": "d4f48180-444d-42e4-8914-ada18712f8cb",
   "metadata": {},
   "outputs": [],
   "source": [
    "result_reg = model_reg.transform(test_data)"
   ]
  },
  {
   "cell_type": "code",
   "execution_count": 40,
   "id": "693dd0c5-aec3-4277-97df-307befb20cfa",
   "metadata": {},
   "outputs": [
    {
     "name": "stdout",
     "output_type": "stream",
     "text": [
      "ACC of Regression\n"
     ]
    },
    {
     "name": "stderr",
     "output_type": "stream",
     "text": [
      "25/08/21 14:00:04 WARN DAGScheduler: Broadcasting large task binary with size 1140.4 KiB\n"
     ]
    },
    {
     "data": {
      "text/plain": [
       "0.9917863279332352"
      ]
     },
     "execution_count": 40,
     "metadata": {},
     "output_type": "execute_result"
    }
   ],
   "source": [
    "print('ACC of Regression')\n",
    "bin_eva.evaluate(result_reg)"
   ]
  },
  {
   "cell_type": "markdown",
   "id": "f0db8da9-c76f-414b-9ef4-3470bf7dd4c1",
   "metadata": {},
   "source": [
    "# Random Forest"
   ]
  },
  {
   "cell_type": "code",
   "execution_count": 41,
   "id": "9d6cddb1-575b-4db9-9695-e65799f4d6d6",
   "metadata": {},
   "outputs": [],
   "source": [
    "from pyspark.ml.classification import RandomForestClassifier"
   ]
  },
  {
   "cell_type": "code",
   "execution_count": 42,
   "id": "e216e505-16e3-48f9-b653-a81699643e24",
   "metadata": {},
   "outputs": [
    {
     "name": "stderr",
     "output_type": "stream",
     "text": [
      "25/08/21 14:00:04 WARN DAGScheduler: Broadcasting large task binary with size 1026.1 KiB\n",
      "25/08/21 14:00:05 WARN DAGScheduler: Broadcasting large task binary with size 1026.1 KiB\n",
      "25/08/21 14:00:05 WARN DAGScheduler: Broadcasting large task binary with size 1161.3 KiB\n",
      "25/08/21 14:00:08 WARN DAGScheduler: Broadcasting large task binary with size 1473.5 KiB\n",
      "25/08/21 14:00:09 WARN DAGScheduler: Broadcasting large task binary with size 1565.6 KiB\n",
      "25/08/21 14:00:10 WARN DAGScheduler: Broadcasting large task binary with size 1657.0 KiB\n",
      "25/08/21 14:00:11 WARN DAGScheduler: Broadcasting large task binary with size 1761.6 KiB\n",
      "25/08/21 14:00:11 WARN DAGScheduler: Broadcasting large task binary with size 1862.9 KiB\n",
      "25/08/21 14:00:12 WARN DAGScheduler: Broadcasting large task binary with size 1972.5 KiB\n",
      "25/08/21 14:00:13 WARN DAGScheduler: Broadcasting large task binary with size 2.0 MiB\n",
      "25/08/21 14:00:13 WARN DAGScheduler: Broadcasting large task binary with size 2.1 MiB\n",
      "25/08/21 14:00:14 WARN DAGScheduler: Broadcasting large task binary with size 2.3 MiB\n",
      "25/08/21 14:00:15 WARN DAGScheduler: Broadcasting large task binary with size 2.4 MiB\n",
      "                                                                                "
     ]
    }
   ],
   "source": [
    "rfc = RandomForestClassifier(maxDepth=10, numTrees=220, seed=1)\n",
    "model_rfc = rfc.fit(train_data)"
   ]
  },
  {
   "cell_type": "code",
   "execution_count": 43,
   "id": "750bf191-c5e9-4205-aa24-3f6ec9f82a5f",
   "metadata": {},
   "outputs": [],
   "source": [
    "result_rfc = model_rfc.transform(test_data)"
   ]
  },
  {
   "cell_type": "code",
   "execution_count": 44,
   "id": "adaee280-ecdc-4439-99fe-00c9a1137e84",
   "metadata": {},
   "outputs": [
    {
     "name": "stdout",
     "output_type": "stream",
     "text": [
      "ACC of RandomForest\n"
     ]
    },
    {
     "name": "stderr",
     "output_type": "stream",
     "text": [
      "25/08/21 14:00:18 WARN DAGScheduler: Broadcasting large task binary with size 2005.6 KiB\n"
     ]
    },
    {
     "data": {
      "text/plain": [
       "0.9761705326460483"
      ]
     },
     "execution_count": 44,
     "metadata": {},
     "output_type": "execute_result"
    }
   ],
   "source": [
    "print('ACC of RandomForest')\n",
    "bin_eva.evaluate(result_rfc)"
   ]
  },
  {
   "cell_type": "code",
   "execution_count": null,
   "id": "719bb359-4210-442d-bef0-05ca1d29b1bd",
   "metadata": {},
   "outputs": [],
   "source": []
  }
 ],
 "metadata": {
  "kernelspec": {
   "display_name": "Python 3 (ipykernel)",
   "language": "python",
   "name": "python3"
  },
  "language_info": {
   "codemirror_mode": {
    "name": "ipython",
    "version": 3
   },
   "file_extension": ".py",
   "mimetype": "text/x-python",
   "name": "python",
   "nbconvert_exporter": "python",
   "pygments_lexer": "ipython3",
   "version": "3.13.3"
  }
 },
 "nbformat": 4,
 "nbformat_minor": 5
}
