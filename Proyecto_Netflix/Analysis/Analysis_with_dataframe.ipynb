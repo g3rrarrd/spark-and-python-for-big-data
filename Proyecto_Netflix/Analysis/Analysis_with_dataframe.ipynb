{
 "cells": [
  {
   "cell_type": "markdown",
   "id": "11de4f36-c66b-42d1-b453-09029c73ba3a",
   "metadata": {},
   "source": [
    "# Preguntas a contestar\n",
    "\n",
    "¿Cuáles son las películas más vistas en general?\n",
    "\n",
    "¿Qué géneros prefiere cada rango de edad?\n",
    "\n",
    "Top 5 películas por rating promedio.\n",
    "\n",
    "# Questions to answer\n",
    "\n",
    "What are the most-watched movies in general?\n",
    "\n",
    "What genres does each age group prefer?\n",
    "\n",
    "Top 5 movies by average rating.\n"
   ]
  },
  {
   "cell_type": "code",
   "execution_count": 24,
   "id": "6b57a4af-5c1e-43ed-9101-db1f5219443d",
   "metadata": {},
   "outputs": [],
   "source": [
    "import findspark\n",
    "findspark.init('/home/gerardo-rodriguez/spark-4.0.0-bin-hadoop3')"
   ]
  },
  {
   "cell_type": "code",
   "execution_count": 25,
   "id": "a6b2c284-7817-4d4c-974c-1017cb0cd38d",
   "metadata": {},
   "outputs": [],
   "source": [
    "from pyspark.sql import SparkSession\n",
    "spark = SparkSession.builder.appName('Analysis').getOrCreate()"
   ]
  },
  {
   "cell_type": "code",
   "execution_count": 21,
   "id": "36d1db20-3482-4e76-aaeb-3653e6a73f4d",
   "metadata": {},
   "outputs": [],
   "source": [
    "from pyspark.sql.types import StructType, StructField, IntegerType, StringType, DoubleType, LongType"
   ]
  },
  {
   "cell_type": "code",
   "execution_count": 90,
   "id": "a72428ed-23e6-43a8-8ca5-50a70723d04e",
   "metadata": {},
   "outputs": [],
   "source": [
    "schema = StructType([\n",
    "    StructField('user_id', LongType(), True),\n",
    "    StructField('name', StringType(), True),\n",
    "    StructField('age', IntegerType(), True),\n",
    "    StructField('country', StringType(), True),\n",
    "    StructField('film_id', StringType(), True),\n",
    "    StructField('title', StringType(), True),\n",
    "    StructField('genre', StringType(), True),\n",
    "    StructField('duration', StringType(), True),\n",
    "    StructField('rating', DoubleType(), True)\n",
    "])"
   ]
  },
  {
   "cell_type": "code",
   "execution_count": 92,
   "id": "19a35eb1-29f1-4316-9ae7-7649ec08d5f0",
   "metadata": {},
   "outputs": [],
   "source": [
    "df = spark.read.csv('../ratings_netlfix/', schema=schema)"
   ]
  },
  {
   "cell_type": "code",
   "execution_count": 93,
   "id": "3ae44612-933e-4094-b7f6-f91fed4b0ac0",
   "metadata": {},
   "outputs": [
    {
     "name": "stdout",
     "output_type": "stream",
     "text": [
      "root\n",
      " |-- user_id: long (nullable = true)\n",
      " |-- name: string (nullable = true)\n",
      " |-- age: integer (nullable = true)\n",
      " |-- country: string (nullable = true)\n",
      " |-- film_id: string (nullable = true)\n",
      " |-- title: string (nullable = true)\n",
      " |-- genre: string (nullable = true)\n",
      " |-- duration: string (nullable = true)\n",
      " |-- rating: double (nullable = true)\n",
      "\n"
     ]
    }
   ],
   "source": [
    "df.printSchema()"
   ]
  },
  {
   "cell_type": "code",
   "execution_count": 94,
   "id": "4520377c-6ed4-4f58-a05a-3aeb8e69d357",
   "metadata": {},
   "outputs": [
    {
     "name": "stdout",
     "output_type": "stream",
     "text": [
      "+-------+----------------+---+---------+-------+--------------------+--------------------+---------+-------------------+\n",
      "|user_id|            name|age|  country|film_id|               title|               genre| duration|             rating|\n",
      "+-------+----------------+---+---------+-------+--------------------+--------------------+---------+-------------------+\n",
      "|   6542|  Chris Martinez| 60|   France|  s2416|  Queen of the South|Crime TV Shows, T...|4 Seasons| 2.8309745132788167|\n",
      "|  15674|     Chris Smith| 25|      USA|  s2974|            Hakkunde|Comedies, Dramas,...|   93 min| 1.5831828240851442|\n",
      "|  14225|   Michael Davis| 55|   Brazil|  s4524|          Blood Pact|Crime TV Shows, I...| 1 Season|  4.484233958046046|\n",
      "|  11181|    Sarah Miller| 56|    Japan|  s6249|      Basic Instinct|Classic Movies, T...|  128 min| 3.7227980266817786|\n",
      "|  12561|Michael Martinez| 51|    India|  s2322|George Lopez: We'...|     Stand-Up Comedy|   52 min| 1.0716140892266441|\n",
      "|   2833| Michael Johnson| 34|      USA|  s3506|Inside Bill's Bra...|Docuseries, Scien...| 1 Season| 1.1686735844563372|\n",
      "|   8962|      Emma Brown| 17|   France|  s1531|Schulz Saves America|Stand-Up Comedy &...| 1 Season|0.13896535249322384|\n",
      "|   5715|   Emma Martinez| 77|      USA|  s5063|Sebastián Marcelo...|     Stand-Up Comedy|   49 min|  4.879908538913281|\n",
      "|  16722|    David Garcia| 13|    Japan|  s4496|  Marvel's Daredevil|Crime TV Shows, T...|3 Seasons|  1.380678048668555|\n",
      "|  15143|     David Davis| 46|   Mexico|  s4752|          Extinction|Action & Adventur...|   95 min| 1.4555735348269798|\n",
      "|  20537|      Alex Brown| 32|      USA|  s7511| Morris from America|Dramas, Independe...|   91 min|  3.371418716907547|\n",
      "|  10128|      John Smith| 63|  Germany|  s5126|            Wormwood|Crime TV Shows, D...| 1 Season| 0.9253057945506493|\n",
      "|  19052|  Alex Hernandez| 80|Australia|  s8138|Swami Baba Ramdev...|International TV ...| 1 Season|  3.261644031818307|\n",
      "|  20392|   Sarah Johnson| 31|    India|  s2448|     Dear My Friends|International TV ...| 1 Season| 0.0581127590015007|\n",
      "|   2335|   Alex Martinez| 18|  Germany|  s4825|Club de Cuervos P...|International TV ...| 1 Season|  1.513034852549513|\n",
      "|   7734|     Alex Garcia| 65|       UK|  s3775|        Black Mirror|British TV Shows,...|5 Seasons| 4.8153783015070015|\n",
      "|  10386|  John Hernandez| 45|    India|  s1386|Demon Slayer: Kim...|Anime Series, Int...| 1 Season|  4.857082930597705|\n",
      "|   4189|      Alex Brown| 49|   Brazil|  s8467|The Princess and ...|Children & Family...|   98 min| 1.8759327240179557|\n",
      "|   2366|     John Garcia| 23|    Japan|  s1221|    Coven of Sisters|Dramas, Independe...|   92 min|  4.351842511862545|\n",
      "|  19559|     David Brown| 64|    India|  s5255|             Mak Cun|International TV ...| 1 Season|0.07106200965889709|\n",
      "+-------+----------------+---+---------+-------+--------------------+--------------------+---------+-------------------+\n",
      "only showing top 20 rows\n"
     ]
    }
   ],
   "source": [
    "df.show()"
   ]
  },
  {
   "cell_type": "markdown",
   "id": "fdece2e7-9436-439f-8f3f-23ef123cc40a",
   "metadata": {},
   "source": [
    "# Question 1 | Pregunta 1 - Part 1 | Parte 1\n",
    "\n",
    "- ¿Cuáles son las películas más vistas en general?\n",
    "\n",
    "- What are the most-watched movies in general?"
   ]
  },
  {
   "cell_type": "code",
   "execution_count": 99,
   "id": "a3ac31c7-fe4d-431f-9709-bc61272f9a46",
   "metadata": {},
   "outputs": [
    {
     "name": "stderr",
     "output_type": "stream",
     "text": [
      "[Stage 61:>                                                       (0 + 12) / 12]"
     ]
    },
    {
     "name": "stdout",
     "output_type": "stream",
     "text": [
      "+-------+---------------------------------+-----+\n",
      "|film_id|title                            |count|\n",
      "+-------+---------------------------------+-----+\n",
      "|s8499  |The Score                        |83   |\n",
      "|s7653  |On Yoga The Architecture of Peace|80   |\n",
      "|s3861  |Crime Diaries: Night Out         |80   |\n",
      "|s4003  |Bombairiya                       |79   |\n",
      "|s2177  |Rogue Warfare: The Hunt          |78   |\n",
      "+-------+---------------------------------+-----+\n",
      "only showing top 5 rows\n"
     ]
    },
    {
     "name": "stderr",
     "output_type": "stream",
     "text": [
      "                                                                                "
     ]
    }
   ],
   "source": [
    "view = df.groupby(['film_id', 'title']).count().orderBy('count', ascending=False)\n",
    "view.show(5,truncate=False)"
   ]
  },
  {
   "cell_type": "markdown",
   "id": "83a6e72f-797c-4116-b28f-5e06e9d1eb2e",
   "metadata": {},
   "source": [
    "## Top 5 Most Watched Movies\n",
    "\n",
    "| Ranking | Title | Views|\n",
    "|---------|-------|------|\n",
    "| 1 | The Disastrous Life of Saiki K.: Reawakened with | *99* |\n",
    "| 2 | Alien Contact: Outer Space with | *92* |\n",
    "| 3 | American Psycho with | *91* |\n",
    "| 4 | Harry and Snowman with | *91* |\n",
    "| 5 | Boy Bye with | *79*|\n"
   ]
  },
  {
   "cell_type": "markdown",
   "id": "5d33f061-a05d-47cd-91ff-4b360ccc5acd",
   "metadata": {},
   "source": [
    "# Question 2 | Pregunta 2 - Part 1 | Parte 1\n",
    "\n",
    "- ¿Qué géneros prefiere cada rango de edad?\n",
    "\n",
    "- What genres does each age group prefer?"
   ]
  },
  {
   "cell_type": "code",
   "execution_count": 100,
   "id": "454c2c69-da67-4662-9c18-1ed1fb1143b1",
   "metadata": {},
   "outputs": [
    {
     "name": "stdout",
     "output_type": "stream",
     "text": [
      "+-------+------------------+\n",
      "|summary|               age|\n",
      "+-------+------------------+\n",
      "|  count|            100000|\n",
      "|   mean|           46.2936|\n",
      "| stddev|19.522113875533606|\n",
      "|    min|                13|\n",
      "|    max|                80|\n",
      "+-------+------------------+\n",
      "\n"
     ]
    }
   ],
   "source": [
    "df.select('age').describe().show()"
   ]
  },
  {
   "cell_type": "code",
   "execution_count": 157,
   "id": "b640ed80-f768-4139-85c4-a9b77acb3039",
   "metadata": {},
   "outputs": [],
   "source": [
    "from pyspark.sql.functions import col, when, lit, concat, count, row_number, mean, avg\n",
    "from pyspark.sql import Window"
   ]
  },
  {
   "cell_type": "code",
   "execution_count": 107,
   "id": "ce16b59a-84e5-4dc1-a0e5-9fd7f79e8012",
   "metadata": {},
   "outputs": [],
   "source": [
    "df_rg_age = df.withColumn(\n",
    "    'range_age',\n",
    "    when((col('age') >= 10) & (col('age') <= 20), lit('10-20'))\n",
    "    .when((col('age') >= 21) & (col('age') <= 30), lit('21-30'))\n",
    "    .when((col('age') >= 31) & (col('age') <= 40), lit('31-40'))\n",
    "    .when((col('age') >= 41) & (col('age') <= 50), lit('41-50'))\n",
    "    .when(col('age') > 50, lit('50+'))\n",
    "    .otherwise(lit('Other Range'))\n",
    ")"
   ]
  },
  {
   "cell_type": "code",
   "execution_count": 123,
   "id": "dc054ecc-2663-427c-be7e-7806a68043a8",
   "metadata": {},
   "outputs": [],
   "source": [
    "df_group = df_rg_age.groupby(['range_age', 'genre']).agg(\n",
    "    count(col('genre')).alias('count')\n",
    "    )"
   ]
  },
  {
   "cell_type": "code",
   "execution_count": 121,
   "id": "4850102e-3d74-4fbe-87a6-da348662f17a",
   "metadata": {},
   "outputs": [
    {
     "name": "stdout",
     "output_type": "stream",
     "text": [
      "+---------+-----------------------------------------------------------+-----+\n",
      "|range_age|genre                                                      |count|\n",
      "+---------+-----------------------------------------------------------+-----+\n",
      "|21-30    |Dramas, International Movies                               |638  |\n",
      "|10-20    |Comedies, Dramas, Independent Movies                       |141  |\n",
      "|50+      |Dramas, International Movies, Thrillers                    |518  |\n",
      "|31-40    |International TV Shows, Korean TV Shows, TV Comedies       |17   |\n",
      "|50+      |Classic Movies, Documentaries                              |65   |\n",
      "|41-50    |Comedies, Independent Movies                               |48   |\n",
      "|10-20    |Comedies, International Movies, Thrillers                  |6    |\n",
      "|41-50    |British TV Shows, Reality TV                               |11   |\n",
      "|21-30    |British TV Shows, International TV Shows, Romantic TV Shows|8    |\n",
      "|21-30    |Classic Movies, Dramas                                     |14   |\n",
      "|10-20    |Kids' TV, TV Comedies                                      |135  |\n",
      "|41-50    |Comedies, Dramas, Independent Movies                       |179  |\n",
      "|21-30    |Docuseries, Reality TV                                     |30   |\n",
      "|21-30    |International TV Shows, Reality TV, Romantic TV Shows      |16   |\n",
      "|21-30    |Horror Movies, International Movies, Thrillers             |98   |\n",
      "|41-50    |International TV Shows, TV Dramas, Teen TV Shows           |20   |\n",
      "|10-20    |TV Horror, TV Mysteries, TV Thrillers                      |4    |\n",
      "|50+      |International TV Shows, TV Dramas, TV Sci-Fi & Fantasy     |23   |\n",
      "|10-20    |Anime Features, Romantic Movies                            |3    |\n",
      "|21-30    |International Movies, Music & Musicals, Thrillers          |3    |\n",
      "+---------+-----------------------------------------------------------+-----+\n",
      "only showing top 20 rows\n"
     ]
    }
   ],
   "source": [
    "df_group.show(truncate=False)"
   ]
  },
  {
   "cell_type": "code",
   "execution_count": 133,
   "id": "80056b86-4a47-4662-8c90-ab38b65fb9e8",
   "metadata": {},
   "outputs": [],
   "source": [
    "window_spec = Window.partitionBy('range_age').orderBy(col('count').desc())"
   ]
  },
  {
   "cell_type": "code",
   "execution_count": 135,
   "id": "71534a21-507d-4c9e-b078-b3ae5d91d24e",
   "metadata": {},
   "outputs": [],
   "source": [
    "df_max = df_group.withColumn(\n",
    "    'rank', row_number().over(window_spec)\n",
    ").filter(\n",
    "    col('rank') == 1\n",
    ").drop(\n",
    "    'rank'\n",
    ")"
   ]
  },
  {
   "cell_type": "code",
   "execution_count": 137,
   "id": "6872c669-8194-459c-8b4a-2ac4f9ee630f",
   "metadata": {},
   "outputs": [
    {
     "name": "stdout",
     "output_type": "stream",
     "text": [
      "+---------+----------------------------+-----+\n",
      "|range_age|genre                       |count|\n",
      "+---------+----------------------------+-----+\n",
      "|10-20    |Stand-Up Comedy             |486  |\n",
      "|21-30    |Dramas, International Movies|638  |\n",
      "|31-40    |Documentaries               |601  |\n",
      "|41-50    |Documentaries               |615  |\n",
      "|50+      |Documentaries               |1810 |\n",
      "+---------+----------------------------+-----+\n",
      "\n"
     ]
    }
   ],
   "source": [
    "df_max.show(truncate=False)"
   ]
  },
  {
   "cell_type": "markdown",
   "id": "9c14862c-dded-470d-be10-1211dc55c4d6",
   "metadata": {},
   "source": [
    "## preferred genres by age\n",
    "\n",
    "|range_age|genre                       |count|\n",
    "|---------|----------------------------|-----|\n",
    "|10-20    |Stand-Up Comedy             |486  |\n",
    "|21-30    |Dramas, International Movies|638  |\n",
    "|31-40    |Documentaries               |601  |\n",
    "|41-50    |Documentaries               |615  |\n",
    "|50+      |Documentaries               |1810 |\n"
   ]
  },
  {
   "cell_type": "markdown",
   "id": "c323e170-035c-4f13-94ae-1b9630313994",
   "metadata": {},
   "source": [
    "# Question 3 | Pregunta 3 - Part 1 | Parte 1\n",
    "\n",
    "- Top 5 películas por rating promedio.\n",
    "- Top 5 movies by average rating."
   ]
  },
  {
   "cell_type": "markdown",
   "id": "227b555b-6a31-440e-9236-c45c78320a24",
   "metadata": {},
   "source": []
  },
  {
   "cell_type": "code",
   "execution_count": 159,
   "id": "912dfc4e-e675-494d-8fa6-8e9ac5ce8125",
   "metadata": {},
   "outputs": [],
   "source": [
    "df_mean = df.groupBy(['film_id','title']).agg(\n",
    "    avg(col('rating')).alias('avg_rating')\n",
    ")"
   ]
  },
  {
   "cell_type": "markdown",
   "id": "835ae674-c530-4f44-b5bb-8b7eaa0b0420",
   "metadata": {},
   "source": [
    "### Option 1 | Opcion 1"
   ]
  },
  {
   "cell_type": "code",
   "execution_count": 161,
   "id": "8c55ff6c-3d2c-4edc-8997-cdc199ba5718",
   "metadata": {},
   "outputs": [],
   "source": [
    "window_mean = Window.orderBy(col('avg_rating').desc())"
   ]
  },
  {
   "cell_type": "code",
   "execution_count": 162,
   "id": "cd6ae4d5-2df6-4a1c-a1d2-a6c320759e80",
   "metadata": {},
   "outputs": [
    {
     "name": "stderr",
     "output_type": "stream",
     "text": [
      "25/08/25 12:50:45 WARN WindowExec: No Partition Defined for Window operation! Moving all data to a single partition, this can cause serious performance degradation.\n",
      "25/08/25 12:50:45 WARN WindowExec: No Partition Defined for Window operation! Moving all data to a single partition, this can cause serious performance degradation.\n",
      "25/08/25 12:50:45 WARN WindowExec: No Partition Defined for Window operation! Moving all data to a single partition, this can cause serious performance degradation.\n"
     ]
    },
    {
     "name": "stdout",
     "output_type": "stream",
     "text": [
      "+-------+---------------------------+-----------------+----+\n",
      "|film_id|title                      |avg_rating       |rank|\n",
      "+-------+---------------------------+-----------------+----+\n",
      "|s76    |You vs. Wild: Out Cold     |4.988773823533204|1   |\n",
      "|s7103  |Issaq                      |4.985297088139854|2   |\n",
      "|s8783  |Yoga Hosers                |4.984790297648168|3   |\n",
      "|s7815  |R.L. Stine's Mostly Ghostly|4.984177396971178|4   |\n",
      "|s7976  |Secrets of Scotland Yard   |4.983490175728225|5   |\n",
      "+-------+---------------------------+-----------------+----+\n",
      "only showing top 5 rows\n"
     ]
    },
    {
     "name": "stderr",
     "output_type": "stream",
     "text": [
      "25/08/25 12:50:45 WARN WindowExec: No Partition Defined for Window operation! Moving all data to a single partition, this can cause serious performance degradation.\n",
      "25/08/25 12:50:45 WARN WindowExec: No Partition Defined for Window operation! Moving all data to a single partition, this can cause serious performance degradation.\n",
      "25/08/25 12:50:45 WARN WindowExec: No Partition Defined for Window operation! Moving all data to a single partition, this can cause serious performance degradation.\n"
     ]
    }
   ],
   "source": [
    "df_mean.withColumn('rank', row_number().over(window_mean)).show(5, truncate=False)"
   ]
  },
  {
   "cell_type": "markdown",
   "id": "fd11e386-d550-4410-922f-b6f1498e1899",
   "metadata": {},
   "source": [
    "### Option 2 | Opcion 2"
   ]
  },
  {
   "cell_type": "code",
   "execution_count": 163,
   "id": "bec0ed20-81d5-4783-afc4-e20fba8513e8",
   "metadata": {},
   "outputs": [
    {
     "name": "stdout",
     "output_type": "stream",
     "text": [
      "+-------+---------------------------+-----------------+\n",
      "|film_id|title                      |avg_rating       |\n",
      "+-------+---------------------------+-----------------+\n",
      "|s76    |You vs. Wild: Out Cold     |4.988773823533204|\n",
      "|s7103  |Issaq                      |4.985297088139854|\n",
      "|s8783  |Yoga Hosers                |4.984790297648168|\n",
      "|s7815  |R.L. Stine's Mostly Ghostly|4.984177396971178|\n",
      "|s7976  |Secrets of Scotland Yard   |4.983490175728225|\n",
      "+-------+---------------------------+-----------------+\n",
      "only showing top 5 rows\n"
     ]
    }
   ],
   "source": [
    "df_mean.orderBy(\n",
    "    col('avg_rating').desc()\n",
    ").show(5, truncate=False)"
   ]
  },
  {
   "cell_type": "markdown",
   "id": "64499dc5-a8f5-482c-91ff-e58c6ab3089d",
   "metadata": {},
   "source": [
    "## Top 5 movies by average rating.\n",
    "\n",
    "|film_id|title                      |avg_rating       |\n",
    "|-------|---------------------------|-----------------|\n",
    "|s76    |You vs. Wild: Out Cold     |4.988773823533204|\n",
    "|s7103  |Issaq                      |4.985297088139854|\n",
    "|s8783  |Yoga Hosers                |4.984790297648168|\n",
    "|s7815  |R.L. Stine's Mostly Ghostly|4.984177396971178|\n",
    "|s7976  |Secrets of Scotland Yard   |4.983490175728225|\n",
    "\n"
   ]
  },
  {
   "cell_type": "code",
   "execution_count": null,
   "id": "b006ae91-a190-4c75-bf45-0361a2e5c014",
   "metadata": {},
   "outputs": [],
   "source": []
  }
 ],
 "metadata": {
  "kernelspec": {
   "display_name": "Python 3 (ipykernel)",
   "language": "python",
   "name": "python3"
  },
  "language_info": {
   "codemirror_mode": {
    "name": "ipython",
    "version": 3
   },
   "file_extension": ".py",
   "mimetype": "text/x-python",
   "name": "python",
   "nbconvert_exporter": "python",
   "pygments_lexer": "ipython3",
   "version": "3.13.3"
  }
 },
 "nbformat": 4,
 "nbformat_minor": 5
}
