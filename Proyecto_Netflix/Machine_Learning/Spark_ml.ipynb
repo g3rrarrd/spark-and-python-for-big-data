{
 "cells": [
  {
   "cell_type": "code",
   "execution_count": 1,
   "id": "f44628c9-f5a9-45f0-9c53-0ee744b73f79",
   "metadata": {},
   "outputs": [],
   "source": [
    "import findspark\n",
    "findspark.init('/home/gerardo-rodriguez/spark-4.0.0-bin-hadoop3')"
   ]
  },
  {
   "cell_type": "code",
   "execution_count": 3,
   "id": "63deac61-c531-4843-8c84-e4dea2c3169d",
   "metadata": {},
   "outputs": [
    {
     "name": "stderr",
     "output_type": "stream",
     "text": [
      "WARNING: Using incubator modules: jdk.incubator.vector\n",
      "Using Spark's default log4j profile: org/apache/spark/log4j2-defaults.properties\n",
      "25/08/25 12:59:39 WARN Utils: Your hostname, Lanz-Lenovo, resolves to a loopback address: 127.0.1.1; using 192.168.1.145 instead (on interface wlp2s0)\n",
      "25/08/25 12:59:39 WARN Utils: Set SPARK_LOCAL_IP if you need to bind to another address\n",
      "Using Spark's default log4j profile: org/apache/spark/log4j2-defaults.properties\n",
      "Setting default log level to \"WARN\".\n",
      "To adjust logging level use sc.setLogLevel(newLevel). For SparkR, use setLogLevel(newLevel).\n",
      "25/08/25 12:59:41 WARN NativeCodeLoader: Unable to load native-hadoop library for your platform... using builtin-java classes where applicable\n",
      "25/08/25 12:59:41 WARN Utils: Service 'SparkUI' could not bind on port 4040. Attempting port 4041.\n",
      "25/08/25 12:59:41 WARN Utils: Service 'SparkUI' could not bind on port 4041. Attempting port 4042.\n",
      "25/08/25 12:59:41 WARN Utils: Service 'SparkUI' could not bind on port 4042. Attempting port 4043.\n"
     ]
    }
   ],
   "source": [
    "from pyspark.sql import SparkSession\n",
    "spark = SparkSession.builder.appName('ml').getOrCreate()"
   ]
  },
  {
   "cell_type": "code",
   "execution_count": 4,
   "id": "c3bb4856-75d1-4d27-9d04-5a4a41606370",
   "metadata": {},
   "outputs": [],
   "source": [
    "df = spark.read.csv('../Create_ratings/netflix_users.csv', header=True, inferSchema=True)"
   ]
  },
  {
   "cell_type": "code",
   "execution_count": 5,
   "id": "c75a3868-0096-44e9-a3bb-0cadf3eb27b9",
   "metadata": {},
   "outputs": [
    {
     "name": "stdout",
     "output_type": "stream",
     "text": [
      "root\n",
      " |-- User_ID: integer (nullable = true)\n",
      " |-- Name: string (nullable = true)\n",
      " |-- Age: integer (nullable = true)\n",
      " |-- Country: string (nullable = true)\n",
      " |-- Subscription_Type: string (nullable = true)\n",
      " |-- Watch_Time_Hours: double (nullable = true)\n",
      " |-- Favorite_Genre: string (nullable = true)\n",
      " |-- Last_Login: date (nullable = true)\n",
      "\n"
     ]
    }
   ],
   "source": [
    "df.printSchema()"
   ]
  },
  {
   "cell_type": "markdown",
   "id": "cbf97009-3a4f-417e-95e8-dbfe5a63b702",
   "metadata": {},
   "source": [
    "# Create Column Churn"
   ]
  },
  {
   "cell_type": "code",
   "execution_count": 13,
   "id": "472cc3e9-8c76-476c-9bed-60ad75aea883",
   "metadata": {},
   "outputs": [],
   "source": [
    "from pyspark.sql.functions import col, datediff, current_date, when"
   ]
  },
  {
   "cell_type": "code",
   "execution_count": 29,
   "id": "28f1af2b-48ff-4c73-81f6-7408c030eda1",
   "metadata": {},
   "outputs": [],
   "source": [
    "df_churn = df.withColumn('churn', when((col('Watch_Time_Hours') < 300) & (datediff(current_date(), col('Last_Login')) > 60), 1).otherwise(0))"
   ]
  },
  {
   "cell_type": "code",
   "execution_count": 34,
   "id": "8b604dc6-3f16-4bf8-846f-83844818fe4a",
   "metadata": {},
   "outputs": [
    {
     "name": "stdout",
     "output_type": "stream",
     "text": [
      "+-------+--------------+---+-------+-----------------+----------------+--------------+----------+-----+----------+\n",
      "|User_ID|          Name|Age|Country|Subscription_Type|Watch_Time_Hours|Favorite_Genre|Last_Login|churn|days_login|\n",
      "+-------+--------------+---+-------+-----------------+----------------+--------------+----------+-----+----------+\n",
      "|      1|James Martinez| 18| France|          Premium|           80.26|         Drama|2024-05-12|    1|       470|\n",
      "|      2|   John Miller| 23|    USA|          Premium|          321.75|        Sci-Fi|2025-02-05|    0|       201|\n",
      "|      3|    Emma Davis| 60|     UK|            Basic|           35.89|        Comedy|2025-01-24|    1|       213|\n",
      "|      4|   Emma Miller| 44|    USA|          Premium|          261.56|   Documentary|2024-03-25|    1|       518|\n",
      "|      5|    Jane Smith| 68|    USA|         Standard|           909.3|         Drama|2025-01-14|    0|       223|\n",
      "+-------+--------------+---+-------+-----------------+----------------+--------------+----------+-----+----------+\n",
      "only showing top 5 rows\n"
     ]
    }
   ],
   "source": [
    "df_ml = df_churn.withColumn('days_login', datediff(current_date(), col('Last_Login')))\n",
    "df_ml.show(5)"
   ]
  },
  {
   "cell_type": "markdown",
   "id": "ace095b1-cb14-4c1c-be90-bbb72fd05631",
   "metadata": {},
   "source": [
    "# Classification Model for churn"
   ]
  },
  {
   "cell_type": "code",
   "execution_count": 62,
   "id": "b90ef71b-e11b-4c74-9ce1-72efa46ad3b3",
   "metadata": {},
   "outputs": [],
   "source": [
    "from pyspark.ml.classification import (LogisticRegression, RandomForestClassifier)\n",
    "from pyspark.ml.evaluation import BinaryClassificationEvaluator, MulticlassClassificationEvaluator\n",
    "from pyspark.ml.feature import StringIndexer, VectorAssembler"
   ]
  },
  {
   "cell_type": "code",
   "execution_count": 35,
   "id": "7cfd7494-efd5-43a4-aa37-04165529c944",
   "metadata": {},
   "outputs": [],
   "source": [
    "indexer = StringIndexer(inputCols=['Subscription_Type', 'Country'], outputCols=['subscription_indexed', 'country_indexed'])\n",
    "indexed = indexer.fit(df_ml)"
   ]
  },
  {
   "cell_type": "code",
   "execution_count": 36,
   "id": "4897d07d-1b1e-4729-83ea-4a1e94333349",
   "metadata": {},
   "outputs": [],
   "source": [
    "df_indexed = indexed.transform(df_ml)"
   ]
  },
  {
   "cell_type": "code",
   "execution_count": 37,
   "id": "6608a6b5-4921-43b9-9c78-ba204c4b0e48",
   "metadata": {},
   "outputs": [
    {
     "data": {
      "text/plain": [
       "['User_ID',\n",
       " 'Name',\n",
       " 'Age',\n",
       " 'Country',\n",
       " 'Subscription_Type',\n",
       " 'Watch_Time_Hours',\n",
       " 'Favorite_Genre',\n",
       " 'Last_Login',\n",
       " 'churn',\n",
       " 'days_login',\n",
       " 'subscription_indexed',\n",
       " 'country_indexed']"
      ]
     },
     "execution_count": 37,
     "metadata": {},
     "output_type": "execute_result"
    }
   ],
   "source": [
    "df_indexed.columns"
   ]
  },
  {
   "cell_type": "markdown",
   "id": "f4c3bb21-0818-4777-ace9-76778a66302a",
   "metadata": {},
   "source": [
    "## Seleccion de variables \n",
    "\n",
    "Para la predicción de abandono (churn), se seleccionaron las siguientes variables por su relevancia potencial en el comportamiento del usuario:\n",
    "\n",
    "Edad (Age): Los usuarios más jóvenes, al estar más familiarizados con la tecnología y con mayor disposición a explorar nuevas plataformas de streaming, presentan una mayor probabilidad de migrar. En contraste, los usuarios de mayor edad tienden a mantener hábitos más estables, lo que podría reflejarse en una menor tasa de abandono.\n",
    "\n",
    "Horas de visualización (Watch_Time_Hours): Un mayor tiempo de visualización es un fuerte indicador de compromiso con la plataforma. Si el usuario encuentra contenido de interés y dedica muchas horas, la probabilidad de abandono disminuye significativamente.\n",
    "\n",
    "Días desde el último acceso (Days_Login): La inactividad prolongada es una señal directa de desinterés o desconexión con el servicio. Usuarios que no han ingresado recientemente son más propensos a cancelar su suscripción.\n",
    "\n",
    "Tipo de suscripción (Subscription_Type): Los usuarios con planes de mayor costo (como Premium) suelen compartir la cuenta con familiares o amigos. Este factor reduce la probabilidad de abandono, ya que la decisión involucra a más personas. En cambio, los planes básicos, generalmente individuales, presentan mayor volatilidad.\n",
    "\n",
    "País (Country): La situación económica de cada país influye en la capacidad de pago. En regiones donde el valor del dólar representa un costo elevado, los usuarios pueden considerar la suscripción como un gasto prescindible, aumentando el riesgo de abandono.\n",
    "\n",
    "## Features Selection\n",
    "\n",
    "For churn prediction, the following variables were selected due to their potential relevance to user behavior:\n",
    "\n",
    "Age: Younger users, being more familiar with technology and more inclined to explore alternative streaming platforms, may have a higher probability of leaving. In contrast, older users often maintain more stable habits, which may translate into lower churn rates.\n",
    "\n",
    "Watch Time (Watch_Time_Hours): Higher watch time is a strong indicator of user engagement. If users find content of interest and dedicate significant hours to watching, the likelihood of churn decreases.\n",
    "\n",
    "Days Since Last Login (Days_Login): Extended inactivity is a direct signal of disengagement. Users who have not logged in recently are more likely to cancel their subscription.\n",
    "\n",
    "Subscription Type (Subscription_Type): Users with higher-tier plans (e.g., Premium) often share accounts with family or friends. This shared dependency lowers the probability of churn, as the decision to cancel involves multiple people. Conversely, basic plans, usually for individual use, tend to be more volatile.\n",
    "\n",
    "Country: Economic conditions in each country affect users’ ability to pay. In regions where the dollar represents a relatively high cost, users may perceive the subscription as a non-essential expense, increasing churn risk."
   ]
  },
  {
   "cell_type": "code",
   "execution_count": 50,
   "id": "5995babe-a62b-4c46-bdf2-2921112670be",
   "metadata": {},
   "outputs": [],
   "source": [
    "asembler = VectorAssembler(inputCols=['Age',\n",
    " 'Watch_Time_Hours',\n",
    " 'days_login',\n",
    " 'subscription_indexed',\n",
    " 'country_indexed'], outputCol='features')"
   ]
  },
  {
   "cell_type": "code",
   "execution_count": 52,
   "id": "23e55393-8248-4e8e-a697-cffeaf27b976",
   "metadata": {},
   "outputs": [],
   "source": [
    "df_assembled = asembler.transform(df_indexed)"
   ]
  },
  {
   "cell_type": "code",
   "execution_count": 55,
   "id": "83ea3e0b-0f66-4f82-b6b0-739b653b63f6",
   "metadata": {},
   "outputs": [
    {
     "name": "stdout",
     "output_type": "stream",
     "text": [
      "root\n",
      " |-- User_ID: integer (nullable = true)\n",
      " |-- Name: string (nullable = true)\n",
      " |-- Age: integer (nullable = true)\n",
      " |-- Country: string (nullable = true)\n",
      " |-- Subscription_Type: string (nullable = true)\n",
      " |-- Watch_Time_Hours: double (nullable = true)\n",
      " |-- Favorite_Genre: string (nullable = true)\n",
      " |-- Last_Login: date (nullable = true)\n",
      " |-- churn: integer (nullable = false)\n",
      " |-- days_login: integer (nullable = true)\n",
      " |-- subscription_indexed: double (nullable = false)\n",
      " |-- country_indexed: double (nullable = false)\n",
      " |-- features: vector (nullable = true)\n",
      "\n"
     ]
    }
   ],
   "source": [
    "df_assembled.printSchema()"
   ]
  },
  {
   "cell_type": "code",
   "execution_count": 56,
   "id": "a43ea2a3-e98d-4f2c-8634-939a3cd474ee",
   "metadata": {},
   "outputs": [],
   "source": [
    "train_data, test_data = df_assembled.randomSplit([0.8, 0.2], seed=1)"
   ]
  },
  {
   "cell_type": "markdown",
   "id": "880c21dc-4e1e-42fc-907d-9c9a92e050ad",
   "metadata": {},
   "source": [
    "### Logistic Regression"
   ]
  },
  {
   "cell_type": "code",
   "execution_count": 58,
   "id": "71934f1f-2496-4c1d-bf13-b8685aac91ed",
   "metadata": {},
   "outputs": [],
   "source": [
    "logistic = LogisticRegression(featuresCol='features', labelCol='churn')\n",
    "model = logistic.fit(train_data)"
   ]
  },
  {
   "cell_type": "code",
   "execution_count": 59,
   "id": "b0c4b991-b232-46a7-84c9-d2fe80d6fe4f",
   "metadata": {},
   "outputs": [],
   "source": [
    "prediction = model.transform(test_data)"
   ]
  },
  {
   "cell_type": "code",
   "execution_count": 61,
   "id": "75799ff6-b06a-4a57-979e-f3dbe9877ab1",
   "metadata": {},
   "outputs": [
    {
     "name": "stdout",
     "output_type": "stream",
     "text": [
      "+-----+----------+\n",
      "|churn|prediction|\n",
      "+-----+----------+\n",
      "|    0|       0.0|\n",
      "|    1|       1.0|\n",
      "|    0|       0.0|\n",
      "|    0|       0.0|\n",
      "|    0|       0.0|\n",
      "|    0|       0.0|\n",
      "|    1|       1.0|\n",
      "|    0|       0.0|\n",
      "|    0|       0.0|\n",
      "|    0|       0.0|\n",
      "|    1|       1.0|\n",
      "|    0|       0.0|\n",
      "|    0|       0.0|\n",
      "|    0|       0.0|\n",
      "|    0|       0.0|\n",
      "|    0|       0.0|\n",
      "|    1|       1.0|\n",
      "|    0|       0.0|\n",
      "|    0|       0.0|\n",
      "|    0|       0.0|\n",
      "+-----+----------+\n",
      "only showing top 20 rows\n"
     ]
    }
   ],
   "source": [
    "prediction.select(['churn', 'prediction']).show()"
   ]
  },
  {
   "cell_type": "code",
   "execution_count": 63,
   "id": "58c9b495-2789-46bc-86f8-ff581eaff590",
   "metadata": {},
   "outputs": [],
   "source": [
    "eva_log = BinaryClassificationEvaluator(labelCol='churn')\n",
    "pred_log = eva_log.evaluate(prediction)"
   ]
  },
  {
   "cell_type": "code",
   "execution_count": 64,
   "id": "7c96c016-585d-49b0-9e98-b4b48d90b563",
   "metadata": {},
   "outputs": [
    {
     "name": "stdout",
     "output_type": "stream",
     "text": [
      "Evaluation Logistic regression\n"
     ]
    },
    {
     "data": {
      "text/plain": [
       "0.999999415457866"
      ]
     },
     "execution_count": 64,
     "metadata": {},
     "output_type": "execute_result"
    }
   ],
   "source": [
    "print(\"Evaluation Logistic regression\")\n",
    "pred_log"
   ]
  },
  {
   "cell_type": "markdown",
   "id": "300f1d9c-a588-4dc4-aa72-6e11ac46ed10",
   "metadata": {},
   "source": [
    "### Random Forest"
   ]
  },
  {
   "cell_type": "code",
   "execution_count": 69,
   "id": "744767eb-6b67-4117-a276-8e9f6750a0f5",
   "metadata": {},
   "outputs": [
    {
     "name": "stderr",
     "output_type": "stream",
     "text": [
      "25/08/25 19:18:15 WARN DAGScheduler: Broadcasting large task binary with size 1056.2 KiB\n",
      "25/08/25 19:18:16 WARN DAGScheduler: Broadcasting large task binary with size 1535.9 KiB\n",
      "25/08/25 19:18:17 WARN DAGScheduler: Broadcasting large task binary with size 2.1 MiB\n",
      "25/08/25 19:18:18 WARN DAGScheduler: Broadcasting large task binary with size 2.8 MiB\n",
      "25/08/25 19:18:19 WARN DAGScheduler: Broadcasting large task binary with size 3.5 MiB\n",
      "25/08/25 19:18:20 WARN DAGScheduler: Broadcasting large task binary with size 4.2 MiB\n",
      "25/08/25 19:18:21 WARN DAGScheduler: Broadcasting large task binary with size 4.9 MiB\n",
      "25/08/25 19:18:22 WARN DAGScheduler: Broadcasting large task binary with size 5.4 MiB\n",
      "25/08/25 19:18:23 WARN DAGScheduler: Broadcasting large task binary with size 5.8 MiB\n",
      "25/08/25 19:18:24 WARN DAGScheduler: Broadcasting large task binary with size 5.8 MiB\n",
      "25/08/25 19:18:25 WARN DAGScheduler: Broadcasting large task binary with size 5.3 MiB\n",
      "25/08/25 19:18:26 WARN DAGScheduler: Broadcasting large task binary with size 4.3 MiB\n",
      "25/08/25 19:18:27 WARN DAGScheduler: Broadcasting large task binary with size 3.1 MiB\n",
      "25/08/25 19:18:27 WARN DAGScheduler: Broadcasting large task binary with size 2.2 MiB\n"
     ]
    }
   ],
   "source": [
    "rf = RandomForestClassifier(featuresCol='features', labelCol='churn', maxDepth=20, numTrees=200, seed=1)\n",
    "model_rf = rf.fit(train_data)"
   ]
  },
  {
   "cell_type": "code",
   "execution_count": 70,
   "id": "f79530d7-a2e9-429a-b9f1-156276b264cb",
   "metadata": {},
   "outputs": [
    {
     "name": "stdout",
     "output_type": "stream",
     "text": [
      "+-----+----------+\n",
      "|churn|prediction|\n",
      "+-----+----------+\n",
      "|    0|       0.0|\n",
      "|    1|       1.0|\n",
      "|    0|       0.0|\n",
      "|    0|       0.0|\n",
      "|    0|       0.0|\n",
      "|    0|       0.0|\n",
      "|    1|       1.0|\n",
      "|    0|       0.0|\n",
      "|    0|       0.0|\n",
      "|    0|       0.0|\n",
      "|    1|       1.0|\n",
      "|    0|       0.0|\n",
      "|    0|       0.0|\n",
      "|    0|       0.0|\n",
      "|    0|       0.0|\n",
      "|    0|       0.0|\n",
      "|    1|       1.0|\n",
      "|    0|       0.0|\n",
      "|    0|       0.0|\n",
      "|    0|       0.0|\n",
      "+-----+----------+\n",
      "only showing top 20 rows\n"
     ]
    },
    {
     "name": "stderr",
     "output_type": "stream",
     "text": [
      "25/08/25 19:18:28 WARN DAGScheduler: Broadcasting large task binary with size 4.5 MiB\n"
     ]
    }
   ],
   "source": [
    "predict_rf = model_rf.transform(test_data)\n",
    "predict_rf.select(['churn', 'prediction']).show()"
   ]
  },
  {
   "cell_type": "code",
   "execution_count": 71,
   "id": "8e33dc7c-b94b-4739-afdd-14857e2ea4ad",
   "metadata": {},
   "outputs": [
    {
     "name": "stderr",
     "output_type": "stream",
     "text": [
      "25/08/25 19:18:29 WARN DAGScheduler: Broadcasting large task binary with size 4.5 MiB\n"
     ]
    }
   ],
   "source": [
    "eva_rf = MulticlassClassificationEvaluator(labelCol='churn', metricName='accuracy')\n",
    "pred_rf = eva_rf.evaluate(predict_rf)"
   ]
  },
  {
   "cell_type": "code",
   "execution_count": 72,
   "id": "7ad11ca4-b04f-4f9a-8fd9-72ff76b2395f",
   "metadata": {},
   "outputs": [
    {
     "name": "stdout",
     "output_type": "stream",
     "text": [
      "Evaluation Random Forest\n"
     ]
    },
    {
     "data": {
      "text/plain": [
       "0.9954064309966048"
      ]
     },
     "execution_count": 72,
     "metadata": {},
     "output_type": "execute_result"
    }
   ],
   "source": [
    "print(\"Evaluation Random Forest\")\n",
    "pred_rf"
   ]
  },
  {
   "cell_type": "markdown",
   "id": "d668c50f-98d6-4c7f-bfc1-cc7994d4efed",
   "metadata": {},
   "source": [
    "# Linear Model"
   ]
  },
  {
   "cell_type": "code",
   "execution_count": 85,
   "id": "9a4c8149-a1d0-40b1-9fd9-4e4e2894f25d",
   "metadata": {},
   "outputs": [],
   "source": [
    "df_show = spark.read.csv('../Create_ratings/netflix_titles.csv', header=True, inferSchema=True)\n",
    "df_show = df_show.select(['show_id',\n",
    "                     'type',\n",
    "                     'title',\n",
    "                     'director',\n",
    "                     'cast',\n",
    "                     'country',\n",
    "                     'date_added',\n",
    "                     'release_year',\n",
    "                     'rating',\n",
    "                     'duration',\n",
    "                     'listed_in',\n",
    "                     'description'])"
   ]
  },
  {
   "cell_type": "code",
   "execution_count": 82,
   "id": "2824110e-0854-4acb-93ee-c19ecf215473",
   "metadata": {},
   "outputs": [
    {
     "name": "stdout",
     "output_type": "stream",
     "text": [
      "root\n",
      " |-- show_id: string (nullable = true)\n",
      " |-- type: string (nullable = true)\n",
      " |-- title: string (nullable = true)\n",
      " |-- director: string (nullable = true)\n",
      " |-- cast: string (nullable = true)\n",
      " |-- country: string (nullable = true)\n",
      " |-- date_added: string (nullable = true)\n",
      " |-- release_year: string (nullable = true)\n",
      " |-- rating: string (nullable = true)\n",
      " |-- duration: string (nullable = true)\n",
      " |-- listed_in: string (nullable = true)\n",
      " |-- description: string (nullable = true)\n",
      "\n"
     ]
    }
   ],
   "source": [
    "df_show.printSchema()"
   ]
  },
  {
   "cell_type": "code",
   "execution_count": 88,
   "id": "9e45abb7-bc8a-42dd-a2e6-89b4debc7cbf",
   "metadata": {},
   "outputs": [
    {
     "name": "stdout",
     "output_type": "stream",
     "text": [
      "+-------+-------+--------------------+-------------------+--------------------+--------------------+------------------+------------+------+---------+--------------------+--------------------+\n",
      "|show_id|   type|               title|           director|                cast|             country|        date_added|release_year|rating| duration|           listed_in|         description|\n",
      "+-------+-------+--------------------+-------------------+--------------------+--------------------+------------------+------------+------+---------+--------------------+--------------------+\n",
      "|     s8|  Movie|             Sankofa|       Haile Gerima|Kofi Ghanaba, Oya...|United States, Gh...|September 24, 2021|        1993| TV-MA|  125 min|Dramas, Independe...|On a photo shoot ...|\n",
      "|     s9|TV Show|The Great British...|    Andy Devonshire|Mel Giedroyc, Sue...|      United Kingdom|September 24, 2021|        2021| TV-14|9 Seasons|British TV Shows,...|A talented batch ...|\n",
      "|    s10|  Movie|        The Starling|     Theodore Melfi|Melissa McCarthy,...|       United States|September 24, 2021|        2021| PG-13|  104 min|    Comedies, Dramas|A woman adjusting...|\n",
      "|    s13|  Movie|        Je Suis Karl|Christian Schwochow|Luna Wedler, Jann...|Germany, Czech Re...|September 23, 2021|        2021| TV-MA|  127 min|Dramas, Internati...|After most of her...|\n",
      "|    s25|  Movie|               Jeans|         S. Shankar|Prashanth, Aishwa...|               India|September 21, 2021|        1998| TV-14|  166 min|Comedies, Interna...|When the father o...|\n",
      "|    s28|  Movie|           Grown Ups|       Dennis Dugan|Adam Sandler, Kev...|       United States|September 20, 2021|        2010| PG-13|  103 min|            Comedies|Mourning the loss...|\n",
      "|    s29|  Movie|          Dark Skies|      Scott Stewart|Keri Russell, Jos...|       United States|September 19, 2021|        2013| PG-13|   97 min|Horror Movies, Sc...|A family’s idylli...|\n",
      "|    s30|  Movie|            Paranoia|     Robert Luketic|Liam Hemsworth, G...|United States, In...|September 19, 2021|        2013| PG-13|  106 min|           Thrillers|Blackmailed by hi...|\n",
      "|    s39|  Movie| Birth of the Dragon|       George Nolfi|Billy Magnussen, ...|China, Canada, Un...|September 16, 2021|        2017| PG-13|   96 min|Action & Adventur...|A young Bruce Lee...|\n",
      "|    s42|  Movie|                Jaws|   Steven Spielberg|Roy Scheider, Rob...|       United States|September 16, 2021|        1975|    PG|  124 min|Action & Adventur...|When an insatiabl...|\n",
      "|    s43|  Movie|              Jaws 2|     Jeannot Szwarc|Roy Scheider, Lor...|       United States|September 16, 2021|        1978|    PG|  116 min|Dramas, Horror Mo...|Four years after ...|\n",
      "|    s44|  Movie|              Jaws 3|          Joe Alves|Dennis Quaid, Bes...|       United States|September 16, 2021|        1983|    PG|   98 min|Action & Adventur...|After the staff o...|\n",
      "|    s45|  Movie|   Jaws: The Revenge|     Joseph Sargent|Lorraine Gary, La...|       United States|September 16, 2021|        1987| PG-13|   91 min|Action & Adventur...|After another dea...|\n",
      "|    s47|  Movie|          Safe House|    Daniel Espinosa|Denzel Washington...|South Africa, Uni...|September 16, 2021|        2012|     R|  115 min|  Action & Adventure|Young CIA operati...|\n",
      "|    s49|  Movie|        Training Day|      Antoine Fuqua|Denzel Washington...|       United States|September 16, 2021|        2001|     R|  122 min|   Dramas, Thrillers|A rookie cop with...|\n",
      "|    s52|  Movie|InuYasha the Movi...|  Toshiya Shinohara|Kappei Yamaguchi,...|               Japan|September 15, 2021|        2002| TV-14|   99 min|Action & Adventur...|With their bigges...|\n",
      "|    s53|  Movie|InuYasha the Movi...|  Toshiya Shinohara|Kappei Yamaguchi,...|               Japan|September 15, 2021|        2003| TV-14|   99 min|Action & Adventur...|The Great Dog Dem...|\n",
      "|    s54|  Movie|InuYasha the Movi...|  Toshiya Shinohara|Kappei Yamaguchi,...|               Japan|September 15, 2021|        2004| TV-PG|   88 min|Action & Adventur...|Ai, a young half-...|\n",
      "|    s55|  Movie|InuYasha the Movi...|  Toshiya Shinohara|Kappei Yamaguchi,...|               Japan|September 15, 2021|        2001| TV-PG|  100 min|Action & Adventur...|A powerful demon ...|\n",
      "|    s57|  Movie|Naruto Shippuden ...|    Masahiko Murata|Junko Takeuchi, C...|               Japan|September 15, 2021|        2011| TV-14|  102 min|Action & Adventur...|Mistakenly accuse...|\n",
      "+-------+-------+--------------------+-------------------+--------------------+--------------------+------------------+------------+------+---------+--------------------+--------------------+\n",
      "only showing top 20 rows\n"
     ]
    }
   ],
   "source": [
    "df_show = df_show.na.drop()\n",
    "df_show.show()"
   ]
  },
  {
   "cell_type": "code",
   "execution_count": 89,
   "id": "50540972-fe54-46e0-a950-1757d6c143cb",
   "metadata": {},
   "outputs": [
    {
     "data": {
      "text/plain": [
       "['show_id',\n",
       " 'type',\n",
       " 'title',\n",
       " 'director',\n",
       " 'cast',\n",
       " 'country',\n",
       " 'date_added',\n",
       " 'release_year',\n",
       " 'rating',\n",
       " 'duration',\n",
       " 'listed_in',\n",
       " 'description']"
      ]
     },
     "execution_count": 89,
     "metadata": {},
     "output_type": "execute_result"
    }
   ],
   "source": [
    "df_show.columns"
   ]
  },
  {
   "cell_type": "code",
   "execution_count": 91,
   "id": "0b4283b6-1888-4e5d-b4f3-47537684e1c9",
   "metadata": {},
   "outputs": [
    {
     "name": "stdout",
     "output_type": "stream",
     "text": [
      "root\n",
      " |-- type: string (nullable = true)\n",
      " |-- director: string (nullable = true)\n",
      " |-- cast: string (nullable = true)\n",
      " |-- release_year: string (nullable = true)\n",
      " |-- duration: string (nullable = true)\n",
      " |-- listed_in: string (nullable = true)\n",
      " |-- rating: string (nullable = true)\n",
      "\n"
     ]
    }
   ],
   "source": [
    "df_train = df_show.select([\n",
    " 'type',\n",
    " 'director',\n",
    " 'cast',\n",
    " 'release_year',\n",
    " 'duration',\n",
    " 'listed_in',\n",
    " 'rating'])\n",
    "\n",
    "df_train.printSchema()"
   ]
  }
 ],
 "metadata": {
  "kernelspec": {
   "display_name": "Python 3 (ipykernel)",
   "language": "python",
   "name": "python3"
  },
  "language_info": {
   "codemirror_mode": {
    "name": "ipython",
    "version": 3
   },
   "file_extension": ".py",
   "mimetype": "text/x-python",
   "name": "python",
   "nbconvert_exporter": "python",
   "pygments_lexer": "ipython3",
   "version": "3.13.3"
  }
 },
 "nbformat": 4,
 "nbformat_minor": 5
}
