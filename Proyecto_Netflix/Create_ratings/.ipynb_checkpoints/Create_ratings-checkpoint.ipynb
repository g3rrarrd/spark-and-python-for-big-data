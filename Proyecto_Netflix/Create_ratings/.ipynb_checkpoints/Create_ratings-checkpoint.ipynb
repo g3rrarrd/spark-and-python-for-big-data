{
 "cells": [
  {
   "cell_type": "code",
   "execution_count": null,
   "id": "e2c53f9a-926a-4b21-8d42-4d58f5739911",
   "metadata": {},
   "outputs": [],
   "source": [
    "import findspark\n",
    "findspark.init('/home/gerardo-rodriguez/spark-4.0.0-bin-hadoop3')"
   ]
  },
  {
   "cell_type": "code",
   "execution_count": null,
   "id": "37958ab4-5e1c-429a-b085-52f8c1531c21",
   "metadata": {},
   "outputs": [],
   "source": [
    "from pyspark.sql import SparkSession\n",
    "spark = SparkSession.builder.appName('create_reatings').getOrCreate()"
   ]
  },
  {
   "cell_type": "code",
   "execution_count": null,
   "id": "b1569af5-e4c7-4fd8-856a-703867f9481a",
   "metadata": {},
   "outputs": [],
   "source": [
    "users = spark.read.csv('netflix_users.csv', header=True, inferSchema=True)\n",
    "shows = spark.read.csv('netflix_titles.csv', header=True, inferSchema=True)"
   ]
  },
  {
   "cell_type": "code",
   "execution_count": null,
   "id": "6f6c9166-9344-4015-b4d7-d171d323c1f7",
   "metadata": {},
   "outputs": [],
   "source": [
    "users.printSchema()"
   ]
  },
  {
   "cell_type": "code",
   "execution_count": null,
   "id": "98757a29-8472-42db-adfd-6ab83eafe880",
   "metadata": {},
   "outputs": [],
   "source": [
    "shows = shows.select(['show_id',\n",
    "                     'type',\n",
    "                     'title',\n",
    "                     'director',\n",
    "                     'cast',\n",
    "                     'country',\n",
    "                     'date_added',\n",
    "                     'release_year',\n",
    "                     'rating',\n",
    "                     'duration',\n",
    "                     'listed_in',\n",
    "                     'description'])"
   ]
  },
  {
   "cell_type": "code",
   "execution_count": null,
   "id": "0cb9ef05-627b-45cf-83a4-230d95e6798b",
   "metadata": {},
   "outputs": [],
   "source": [
    "count_show = shows.count()\n",
    "count_user = users.count()"
   ]
  },
  {
   "cell_type": "code",
   "execution_count": null,
   "id": "51147ce3-7090-4d75-9966-b2fe26e218a7",
   "metadata": {},
   "outputs": [],
   "source": [
    "import numpy as np\n",
    "import random as rm\n",
    "import pandas as pd\n",
    "from pyspark.sql.functions import col"
   ]
  },
  {
   "cell_type": "code",
   "execution_count": null,
   "id": "38baf741-6acc-4bb6-bc19-684a70e944d8",
   "metadata": {},
   "outputs": [],
   "source": [
    "id_show = [idx for idx in range(1, count_show)]"
   ]
  },
  {
   "cell_type": "code",
   "execution_count": null,
   "id": "65dc2916-2081-43eb-8516-cf5507e41868",
   "metadata": {},
   "outputs": [],
   "source": [
    "def get_prob(cuantity):\n",
    "    try:\n",
    "        cuantity + 1\n",
    "        \n",
    "        list_prob = [1/cuantity for _ in range(cuantity)]\n",
    "        list_index = list(range(cuantity))\n",
    "\n",
    "        for _ in range(cuantity * 2): \n",
    "            idx = rm.choice(list_index)\n",
    "            idx_2 = rm.choice([i for i in list_index if i != idx])\n",
    "\n",
    "            val = list_prob[idx]\n",
    "            if val == 0:\n",
    "                continue\n",
    "\n",
    "            rest = rm.uniform(0, val)\n",
    "            total = val - rest\n",
    "\n",
    "            list_prob[idx] = total\n",
    "            list_prob[idx_2] += rest  \n",
    "\n",
    "        s = sum(list_prob)\n",
    "        list_prob = [p/s for p in list_prob]\n",
    "\n",
    "        return list_prob\n",
    "\n",
    "    except Exception as e:\n",
    "        print(\"error:\", e)\n",
    "        return False"
   ]
  },
  {
   "cell_type": "code",
   "execution_count": null,
   "id": "a6132148-4181-463f-b6dc-c72cd738afc4",
   "metadata": {},
   "outputs": [],
   "source": [
    "def create_map(name_1, name_2, name_3, size, rang_1, rang_2, prob_col_1=None, prob_col_2=None):\n",
    "    try:\n",
    "\n",
    "        rang_1 = [x for x in range(1, rang_1+1)]\n",
    "        rang_2 = [f's{x}' for x in range(1, rang_2+1)]\n",
    "\n",
    "        \n",
    "        pdf = pd.DataFrame({\n",
    "            name_1: np.random.choice(rang_1, size=size, p=prob_col_1),\n",
    "            name_2: np.random.choice(rang_2, size=size, p=prob_col_2),\n",
    "            name_3: [rm.uniform(0, 5) for _ in range(size)]\n",
    "        })\n",
    "        \n",
    "        return spark.createDataFrame(pdf)\n",
    "\n",
    "    except Exception as e:\n",
    "        print(f'error: {e}')\n",
    "        return False"
   ]
  },
  {
   "cell_type": "code",
   "execution_count": null,
   "id": "c2ea2889-ef76-4a2a-ab59-7a2d9cc8a7b0",
   "metadata": {},
   "outputs": [],
   "source": [
    "prob_show = get_prob(count_show)\n",
    "col_show = np.random.choice(count_show, (count_user), prob_show)"
   ]
  },
  {
   "cell_type": "code",
   "execution_count": null,
   "id": "a443ce2d-08db-4938-b228-8cd02283a337",
   "metadata": {},
   "outputs": [],
   "source": [
    "prob_user = get_prob(count_user)"
   ]
  },
  {
   "cell_type": "code",
   "execution_count": null,
   "id": "0e7d199f-d741-4936-a995-8edd803171bd",
   "metadata": {},
   "outputs": [],
   "source": [
    "df = create_map('user', 'film', 'rating', 100000, count_user, count_show, prob_user, prob_show)"
   ]
  },
  {
   "cell_type": "code",
   "execution_count": null,
   "id": "d2b63d3f-79c6-46d9-ac6b-60c4f6efd382",
   "metadata": {},
   "outputs": [],
   "source": [
    "df.printSchema()"
   ]
  },
  {
   "cell_type": "code",
   "execution_count": null,
   "id": "4f23eef5-5ee4-4cf7-8dea-83cea166ea83",
   "metadata": {},
   "outputs": [],
   "source": [
    "shows.printSchema()"
   ]
  },
  {
   "cell_type": "code",
   "execution_count": null,
   "id": "52f6cb90-c613-49ac-bab0-86b011458c3e",
   "metadata": {},
   "outputs": [],
   "source": [
    "df = df.join(users, df['user'] == users['User_ID'], 'left').select('user', 'Name', 'Age', 'Country', 'film', 'rating')\n",
    "\n",
    "df = df.join(shows, df['film'] == shows['show_id'], 'left').select('user', df['Name'], 'Age', df['Country'], 'film', 'title', 'duration', df['rating'])"
   ]
  },
  {
   "cell_type": "code",
   "execution_count": null,
   "id": "18ec4f4a-3703-472c-8aa4-85a28f4c91f8",
   "metadata": {},
   "outputs": [],
   "source": [
    "df.show()"
   ]
  },
  {
   "cell_type": "code",
   "execution_count": null,
   "id": "9556f4ba-63c8-41b0-b14b-42630cfbc2d9",
   "metadata": {},
   "outputs": [],
   "source": [
    "df.write.csv('ratings_netlfix')"
   ]
  },
  {
   "cell_type": "code",
   "execution_count": null,
   "id": "ae20281f-7268-4c52-a692-5846fcafa4c8",
   "metadata": {},
   "outputs": [],
   "source": []
  }
 ],
 "metadata": {
  "kernelspec": {
   "display_name": "Python 3 (ipykernel)",
   "language": "python",
   "name": "python3"
  },
  "language_info": {
   "codemirror_mode": {
    "name": "ipython",
    "version": 3
   },
   "file_extension": ".py",
   "mimetype": "text/x-python",
   "name": "python",
   "nbconvert_exporter": "python",
   "pygments_lexer": "ipython3",
   "version": "3.13.3"
  }
 },
 "nbformat": 4,
 "nbformat_minor": 5
}
