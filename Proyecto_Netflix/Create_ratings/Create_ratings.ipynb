{
 "cells": [
  {
   "cell_type": "code",
   "execution_count": 2,
   "id": "e2c53f9a-926a-4b21-8d42-4d58f5739911",
   "metadata": {},
   "outputs": [],
   "source": [
    "import findspark\n",
    "findspark.init('/home/gerardo-rodriguez/spark-4.0.0-bin-hadoop3')"
   ]
  },
  {
   "cell_type": "code",
   "execution_count": 3,
   "id": "37958ab4-5e1c-429a-b085-52f8c1531c21",
   "metadata": {},
   "outputs": [
    {
     "name": "stderr",
     "output_type": "stream",
     "text": [
      "WARNING: Using incubator modules: jdk.incubator.vector\n",
      "Using Spark's default log4j profile: org/apache/spark/log4j2-defaults.properties\n",
      "25/08/25 11:28:09 WARN Utils: Your hostname, Lanz-Lenovo, resolves to a loopback address: 127.0.1.1; using 192.168.1.145 instead (on interface wlp2s0)\n",
      "25/08/25 11:28:09 WARN Utils: Set SPARK_LOCAL_IP if you need to bind to another address\n",
      "Using Spark's default log4j profile: org/apache/spark/log4j2-defaults.properties\n",
      "Setting default log level to \"WARN\".\n",
      "To adjust logging level use sc.setLogLevel(newLevel). For SparkR, use setLogLevel(newLevel).\n",
      "25/08/25 11:28:11 WARN NativeCodeLoader: Unable to load native-hadoop library for your platform... using builtin-java classes where applicable\n",
      "25/08/25 11:28:11 WARN Utils: Service 'SparkUI' could not bind on port 4040. Attempting port 4041.\n",
      "25/08/25 11:28:11 WARN Utils: Service 'SparkUI' could not bind on port 4041. Attempting port 4042.\n"
     ]
    }
   ],
   "source": [
    "from pyspark.sql import SparkSession\n",
    "spark = SparkSession.builder.appName('create_reatings').getOrCreate()"
   ]
  },
  {
   "cell_type": "code",
   "execution_count": 6,
   "id": "b1569af5-e4c7-4fd8-856a-703867f9481a",
   "metadata": {},
   "outputs": [],
   "source": [
    "users = spark.read.csv('netflix_users.csv', header=True, inferSchema=True)\n",
    "shows = spark.read.csv('netflix_titles.csv', header=True, inferSchema=True)"
   ]
  },
  {
   "cell_type": "code",
   "execution_count": 7,
   "id": "6f6c9166-9344-4015-b4d7-d171d323c1f7",
   "metadata": {},
   "outputs": [
    {
     "name": "stdout",
     "output_type": "stream",
     "text": [
      "root\n",
      " |-- User_ID: integer (nullable = true)\n",
      " |-- Name: string (nullable = true)\n",
      " |-- Age: integer (nullable = true)\n",
      " |-- Country: string (nullable = true)\n",
      " |-- Subscription_Type: string (nullable = true)\n",
      " |-- Watch_Time_Hours: double (nullable = true)\n",
      " |-- Favorite_Genre: string (nullable = true)\n",
      " |-- Last_Login: date (nullable = true)\n",
      "\n"
     ]
    }
   ],
   "source": [
    "users.printSchema()"
   ]
  },
  {
   "cell_type": "code",
   "execution_count": 8,
   "id": "98757a29-8472-42db-adfd-6ab83eafe880",
   "metadata": {},
   "outputs": [],
   "source": [
    "shows = shows.select(['show_id',\n",
    "                     'type',\n",
    "                     'title',\n",
    "                     'director',\n",
    "                     'cast',\n",
    "                     'country',\n",
    "                     'date_added',\n",
    "                     'release_year',\n",
    "                     'rating',\n",
    "                     'duration',\n",
    "                     'listed_in',\n",
    "                     'description'])"
   ]
  },
  {
   "cell_type": "code",
   "execution_count": 9,
   "id": "0cb9ef05-627b-45cf-83a4-230d95e6798b",
   "metadata": {},
   "outputs": [],
   "source": [
    "count_show = shows.count()\n",
    "count_user = users.count()"
   ]
  },
  {
   "cell_type": "code",
   "execution_count": 10,
   "id": "51147ce3-7090-4d75-9966-b2fe26e218a7",
   "metadata": {},
   "outputs": [],
   "source": [
    "import numpy as np\n",
    "import random as rm\n",
    "import pandas as pd\n",
    "from pyspark.sql.functions import col"
   ]
  },
  {
   "cell_type": "code",
   "execution_count": 11,
   "id": "38baf741-6acc-4bb6-bc19-684a70e944d8",
   "metadata": {},
   "outputs": [],
   "source": [
    "id_show = [idx for idx in range(1, count_show)]"
   ]
  },
  {
   "cell_type": "code",
   "execution_count": 12,
   "id": "65dc2916-2081-43eb-8516-cf5507e41868",
   "metadata": {},
   "outputs": [],
   "source": [
    "def get_prob(cuantity):\n",
    "    try:\n",
    "        cuantity + 1\n",
    "        \n",
    "        list_prob = [1/cuantity for _ in range(cuantity)]\n",
    "        list_index = list(range(cuantity))\n",
    "\n",
    "        for _ in range(cuantity * 2): \n",
    "            idx = rm.choice(list_index)\n",
    "            idx_2 = rm.choice([i for i in list_index if i != idx])\n",
    "\n",
    "            val = list_prob[idx]\n",
    "            if val == 0:\n",
    "                continue\n",
    "\n",
    "            rest = rm.uniform(0, val)\n",
    "            total = val - rest\n",
    "\n",
    "            list_prob[idx] = total\n",
    "            list_prob[idx_2] += rest  \n",
    "\n",
    "        s = sum(list_prob)\n",
    "        list_prob = [p/s for p in list_prob]\n",
    "\n",
    "        return list_prob\n",
    "\n",
    "    except Exception as e:\n",
    "        print(\"error:\", e)\n",
    "        return False"
   ]
  },
  {
   "cell_type": "code",
   "execution_count": 13,
   "id": "a6132148-4181-463f-b6dc-c72cd738afc4",
   "metadata": {},
   "outputs": [],
   "source": [
    "def create_map(name_1, name_2, name_3, size, rang_1, rang_2, prob_col_1=None, prob_col_2=None):\n",
    "    try:\n",
    "\n",
    "        rang_1 = [x for x in range(1, rang_1+1)]\n",
    "        rang_2 = [f's{x}' for x in range(1, rang_2+1)]\n",
    "\n",
    "        \n",
    "        pdf = pd.DataFrame({\n",
    "            name_1: np.random.choice(rang_1, size=size, p=prob_col_1),\n",
    "            name_2: np.random.choice(rang_2, size=size, p=prob_col_2),\n",
    "            name_3: [rm.uniform(0, 5) for _ in range(size)]\n",
    "        })\n",
    "        \n",
    "        return spark.createDataFrame(pdf)\n",
    "\n",
    "    except Exception as e:\n",
    "        print(f'error: {e}')\n",
    "        return False"
   ]
  },
  {
   "cell_type": "code",
   "execution_count": 14,
   "id": "c2ea2889-ef76-4a2a-ab59-7a2d9cc8a7b0",
   "metadata": {},
   "outputs": [],
   "source": [
    "prob_show = get_prob(count_show)\n",
    "col_show = np.random.choice(count_show, (count_user), prob_show)"
   ]
  },
  {
   "cell_type": "code",
   "execution_count": 15,
   "id": "a443ce2d-08db-4938-b228-8cd02283a337",
   "metadata": {},
   "outputs": [],
   "source": [
    "prob_user = get_prob(count_user)"
   ]
  },
  {
   "cell_type": "code",
   "execution_count": 31,
   "id": "0e7d199f-d741-4936-a995-8edd803171bd",
   "metadata": {},
   "outputs": [],
   "source": [
    "df = create_map('user', 'film', 'rating', 100000, count_user, count_show, prob_user, prob_show)"
   ]
  },
  {
   "cell_type": "code",
   "execution_count": 17,
   "id": "d2b63d3f-79c6-46d9-ac6b-60c4f6efd382",
   "metadata": {},
   "outputs": [
    {
     "name": "stdout",
     "output_type": "stream",
     "text": [
      "root\n",
      " |-- user: long (nullable = true)\n",
      " |-- film: string (nullable = true)\n",
      " |-- rating: double (nullable = true)\n",
      "\n"
     ]
    }
   ],
   "source": [
    "df.printSchema()"
   ]
  },
  {
   "cell_type": "code",
   "execution_count": 18,
   "id": "4f23eef5-5ee4-4cf7-8dea-83cea166ea83",
   "metadata": {},
   "outputs": [
    {
     "name": "stdout",
     "output_type": "stream",
     "text": [
      "root\n",
      " |-- show_id: string (nullable = true)\n",
      " |-- type: string (nullable = true)\n",
      " |-- title: string (nullable = true)\n",
      " |-- director: string (nullable = true)\n",
      " |-- cast: string (nullable = true)\n",
      " |-- country: string (nullable = true)\n",
      " |-- date_added: string (nullable = true)\n",
      " |-- release_year: string (nullable = true)\n",
      " |-- rating: string (nullable = true)\n",
      " |-- duration: string (nullable = true)\n",
      " |-- listed_in: string (nullable = true)\n",
      " |-- description: string (nullable = true)\n",
      "\n"
     ]
    }
   ],
   "source": [
    "shows.printSchema()"
   ]
  },
  {
   "cell_type": "code",
   "execution_count": 32,
   "id": "52f6cb90-c613-49ac-bab0-86b011458c3e",
   "metadata": {},
   "outputs": [],
   "source": [
    "df = df.join(users, df['user'] == users['User_ID'], 'left').select('user', 'Name', 'Age', 'Country', 'film', 'rating')\n",
    "\n",
    "df = df.join(shows, df['film'] == shows['show_id'], 'left').select('user', df['Name'], 'Age', df['Country'], 'film', 'title', 'listed_in' ,'duration', df['rating'])"
   ]
  },
  {
   "cell_type": "code",
   "execution_count": 33,
   "id": "18ec4f4a-3703-472c-8aa4-85a28f4c91f8",
   "metadata": {},
   "outputs": [
    {
     "name": "stdout",
     "output_type": "stream",
     "text": [
      "root\n",
      " |-- user: long (nullable = true)\n",
      " |-- Name: string (nullable = true)\n",
      " |-- Age: integer (nullable = true)\n",
      " |-- Country: string (nullable = true)\n",
      " |-- film: string (nullable = true)\n",
      " |-- title: string (nullable = true)\n",
      " |-- listed_in: string (nullable = true)\n",
      " |-- duration: string (nullable = true)\n",
      " |-- rating: double (nullable = true)\n",
      "\n"
     ]
    }
   ],
   "source": [
    "df.printSchema()"
   ]
  },
  {
   "cell_type": "code",
   "execution_count": 34,
   "id": "fb45cd39-6475-431a-a951-fd7accff7c44",
   "metadata": {},
   "outputs": [
    {
     "name": "stdout",
     "output_type": "stream",
     "text": [
      "+-----+-----------------+---+---------+-----+--------------------+--------------------+---------+------------------+\n",
      "| user|             Name|Age|  Country| film|               title|           listed_in| duration|            rating|\n",
      "+-----+-----------------+---+---------+-----+--------------------+--------------------+---------+------------------+\n",
      "|21139|      Katie Smith| 52|   Brazil|s3920|            Thriller|       Horror Movies|   87 min|4.4975901966322525|\n",
      "|24347|   Chris Martinez| 68|       UK|s4200|    Back with the Ex|International TV ...| 1 Season| 4.903189088327801|\n",
      "| 5694|       Alex Smith| 74|   Brazil|s1432|         Stuck Apart|Comedies, Dramas,...|   97 min|0.6419307271545921|\n",
      "| 7691|   Michael Miller| 20|      USA|s5352|      Handsome Devil|Comedies, Dramas,...|   95 min| 3.585136057965486|\n",
      "|19645|    Katie Johnson| 33|   Brazil|s2656|The Silence of th...|International Mov...|   93 min|2.4153943972246323|\n",
      "| 3471| Michael Williams| 18|Australia|s5060|A Futile and Stup...|            Comedies|  102 min|1.3965536883864988|\n",
      "| 3849|      Chris Davis| 27|Australia|s1265|   Our Idiot Brother|Comedies, Dramas,...|   90 min|  4.40374611935468|\n",
      "|18948|      David Jones| 79|   Mexico|s6515|Cold Case Files C...|Crime TV Shows, D...| 1 Season| 4.312550728958225|\n",
      "|11172|     James Garcia| 38|   Mexico|s7894|               Roots|Documentaries, In...|   62 min| 3.871964739015725|\n",
      "|11487|    Alex Williams| 23|    India|s7502|Monster High: Why...|Children & Family...|   46 min|3.0836728683896375|\n",
      "| 4581|       Emma Smith| 46|  Germany|s7485|         Money Talks|Action & Adventur...|   96 min|2.5867595440974656|\n",
      "|  624|    Alex Williams| 50|    Japan|s6626|         Don Verdean|            Comedies|   96 min|0.0889496805677592|\n",
      "|17510|  David Hernandez| 19|   Mexico|s1970|  Road To High & Low|Action & Adventur...|   94 min|2.4497340200197804|\n",
      "| 9211|Michael Hernandez| 74|    India|s2047|Kandasamys: The W...|Comedies, Dramas,...|   93 min|1.1217170300567152|\n",
      "|21498|   Sarah Martinez| 23|    Japan|s6067|A Young Doctor's ...|British TV Shows,...|2 Seasons|   2.5480436930158|\n",
      "|19002|      Sarah Davis| 58|    Japan|s6813|Frozen Planet: Th...|              Movies|   52 min|1.7409822411477753|\n",
      "|22500|    Michael Brown| 22|Australia|s8192|   The Animal People|       Documentaries|   97 min| 4.107408037332892|\n",
      "|19521|      Chris Davis| 26|       UK|s5812|  Behind Enemy Lines|British TV Shows,...| 1 Season|  4.03222826267716|\n",
      "|21288|      John Garcia| 74|      USA|s6143|      American Heist|Action & Adventur...|   95 min| 2.277753632425492|\n",
      "|22430|     Sarah Miller| 80|   Mexico|s4165|Goyo: The Boy Gen...|Dramas, Internati...|  150 min|1.4002696647524466|\n",
      "+-----+-----------------+---+---------+-----+--------------------+--------------------+---------+------------------+\n",
      "only showing top 20 rows\n"
     ]
    },
    {
     "name": "stderr",
     "output_type": "stream",
     "text": [
      "Exception ignored in: <_io.BufferedWriter name=5>\n",
      "Traceback (most recent call last):\n",
      "  File \"/home/gerardo-rodriguez/spark-4.0.0-bin-hadoop3/python/lib/pyspark.zip/pyspark/daemon.py\", line 200, in manager\n",
      "BrokenPipeError: [Errno 32] Broken pipe\n"
     ]
    }
   ],
   "source": [
    "df.show()"
   ]
  },
  {
   "cell_type": "code",
   "execution_count": 39,
   "id": "9556f4ba-63c8-41b0-b14b-42630cfbc2d9",
   "metadata": {},
   "outputs": [],
   "source": [
    "df.write.mode('overwrite').csv('../ratings_netlfix')"
   ]
  },
  {
   "cell_type": "code",
   "execution_count": null,
   "id": "472c45cc-5694-4951-b422-0371e0740b7a",
   "metadata": {},
   "outputs": [],
   "source": []
  }
 ],
 "metadata": {
  "kernelspec": {
   "display_name": "Python 3 (ipykernel)",
   "language": "python",
   "name": "python3"
  },
  "language_info": {
   "codemirror_mode": {
    "name": "ipython",
    "version": 3
   },
   "file_extension": ".py",
   "mimetype": "text/x-python",
   "name": "python",
   "nbconvert_exporter": "python",
   "pygments_lexer": "ipython3",
   "version": "3.13.3"
  }
 },
 "nbformat": 4,
 "nbformat_minor": 5
}
