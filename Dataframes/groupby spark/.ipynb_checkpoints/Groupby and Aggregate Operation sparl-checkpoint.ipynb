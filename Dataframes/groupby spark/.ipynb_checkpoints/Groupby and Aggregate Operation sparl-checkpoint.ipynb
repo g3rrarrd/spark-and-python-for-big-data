{
 "cells": [
  {
   "cell_type": "code",
   "execution_count": 1,
   "id": "8800b5d9-eb1d-47c1-8bb9-f18fabf33dc4",
   "metadata": {},
   "outputs": [],
   "source": [
    "import findspark"
   ]
  },
  {
   "cell_type": "code",
   "execution_count": 2,
   "id": "0871fad4-2175-4233-97d6-8d0c17e517f5",
   "metadata": {},
   "outputs": [],
   "source": [
    "findspark.init('/home/gerardo-rodriguez/spark-4.0.0-bin-hadoop3')"
   ]
  },
  {
   "cell_type": "code",
   "execution_count": 3,
   "id": "3f68702a-b7cd-478f-b3d6-01f3e5c4cb87",
   "metadata": {},
   "outputs": [],
   "source": [
    "from pyspark.sql import SparkSession"
   ]
  },
  {
   "cell_type": "code",
   "execution_count": 4,
   "id": "cd295fb3-5429-45ff-8b59-a88e8c141096",
   "metadata": {},
   "outputs": [
    {
     "name": "stderr",
     "output_type": "stream",
     "text": [
      "WARNING: Using incubator modules: jdk.incubator.vector\n",
      "Using Spark's default log4j profile: org/apache/spark/log4j2-defaults.properties\n",
      "25/08/15 12:01:26 WARN Utils: Your hostname, Lanz-Lenovo, resolves to a loopback address: 127.0.1.1; using 192.168.1.145 instead (on interface wlp2s0)\n",
      "25/08/15 12:01:26 WARN Utils: Set SPARK_LOCAL_IP if you need to bind to another address\n",
      "Using Spark's default log4j profile: org/apache/spark/log4j2-defaults.properties\n",
      "Setting default log level to \"WARN\".\n",
      "To adjust logging level use sc.setLogLevel(newLevel). For SparkR, use setLogLevel(newLevel).\n",
      "25/08/15 12:01:26 WARN NativeCodeLoader: Unable to load native-hadoop library for your platform... using builtin-java classes where applicable\n",
      "25/08/15 12:01:27 WARN Utils: Service 'SparkUI' could not bind on port 4040. Attempting port 4041.\n",
      "25/08/15 12:01:27 WARN Utils: Service 'SparkUI' could not bind on port 4041. Attempting port 4042.\n",
      "25/08/15 12:01:27 WARN Utils: Service 'SparkUI' could not bind on port 4042. Attempting port 4043.\n"
     ]
    }
   ],
   "source": [
    "spark = SparkSession.builder.appName('aggs').getOrCreate()"
   ]
  },
  {
   "cell_type": "code",
   "execution_count": 5,
   "id": "bc2b2e7c-5899-4321-8b15-caa6c5e39f86",
   "metadata": {},
   "outputs": [],
   "source": [
    "df = spark.read.csv('sales_info.csv', inferSchema=True, header=True)"
   ]
  },
  {
   "cell_type": "code",
   "execution_count": 6,
   "id": "8fa1ec10-1099-4fbf-862d-dae541fd5c2d",
   "metadata": {},
   "outputs": [
    {
     "name": "stdout",
     "output_type": "stream",
     "text": [
      "root\n",
      " |-- Region: string (nullable = true)\n",
      " |-- Country: string (nullable = true)\n",
      " |-- Item Type: string (nullable = true)\n",
      " |-- Sales Channel: string (nullable = true)\n",
      " |-- Order Priority: string (nullable = true)\n",
      " |-- Order Date: string (nullable = true)\n",
      " |-- Order ID: integer (nullable = true)\n",
      " |-- Ship Date: string (nullable = true)\n",
      " |-- Units Sold: integer (nullable = true)\n",
      " |-- Unit Price: double (nullable = true)\n",
      " |-- Unit Cost: double (nullable = true)\n",
      " |-- Total Revenue: double (nullable = true)\n",
      " |-- Total Cost: double (nullable = true)\n",
      " |-- Total Profit: double (nullable = true)\n",
      "\n"
     ]
    }
   ],
   "source": [
    "df.printSchema()"
   ]
  },
  {
   "cell_type": "code",
   "execution_count": 7,
   "id": "2c66117b-4c0a-421b-af43-ef96b17aa184",
   "metadata": {},
   "outputs": [
    {
     "name": "stdout",
     "output_type": "stream",
     "text": [
      "+--------------------+--------------------+---------------+-------------+--------------+----------+---------+---------+----------+----------+---------+-------------+----------+------------+\n",
      "|              Region|             Country|      Item Type|Sales Channel|Order Priority|Order Date| Order ID|Ship Date|Units Sold|Unit Price|Unit Cost|Total Revenue|Total Cost|Total Profit|\n",
      "+--------------------+--------------------+---------------+-------------+--------------+----------+---------+---------+----------+----------+---------+-------------+----------+------------+\n",
      "|Australia and Oce...|              Tuvalu|      Baby Food|      Offline|             H| 5/28/2010|669165933|6/27/2010|      9925|    255.28|   159.42|    2533654.0| 1582243.5|    951410.5|\n",
      "|Central America a...|             Grenada|         Cereal|       Online|             C| 8/22/2012|963881480|9/15/2012|      2804|     205.7|   117.11|     576782.8| 328376.44|   248406.36|\n",
      "|              Europe|              Russia|Office Supplies|      Offline|             L|  5/2/2014|341417157| 5/8/2014|      1779|    651.21|   524.96|   1158502.59| 933903.84|   224598.75|\n",
      "|  Sub-Saharan Africa|Sao Tome and Prin...|         Fruits|       Online|             C| 6/20/2014|514321792| 7/5/2014|      8102|      9.33|     6.92|     75591.66|  56065.84|    19525.82|\n",
      "|  Sub-Saharan Africa|              Rwanda|Office Supplies|      Offline|             L|  2/1/2013|115456712| 2/6/2013|      5062|    651.21|   524.96|   3296425.02|2657347.52|    639077.5|\n",
      "|Australia and Oce...|     Solomon Islands|      Baby Food|       Online|             C|  2/4/2015|547995746|2/21/2015|      2974|    255.28|   159.42|    759202.72| 474115.08|   285087.64|\n",
      "|  Sub-Saharan Africa|              Angola|      Household|      Offline|             M| 4/23/2011|135425221|4/27/2011|      4187|    668.27|   502.54|   2798046.49|2104134.98|   693911.51|\n",
      "|  Sub-Saharan Africa|        Burkina Faso|     Vegetables|       Online|             H| 7/17/2012|871543967|7/27/2012|      8082|    154.06|    90.93|   1245112.92| 734896.26|   510216.66|\n",
      "|  Sub-Saharan Africa|Republic of the C...|  Personal Care|      Offline|             M| 7/14/2015|770463311|8/25/2015|      6070|     81.73|    56.67|     496101.1|  343986.9|    152114.2|\n",
      "|  Sub-Saharan Africa|             Senegal|         Cereal|       Online|             H| 4/18/2014|616607081|5/30/2014|      6593|     205.7|   117.11|    1356180.1| 772106.23|   584073.87|\n",
      "+--------------------+--------------------+---------------+-------------+--------------+----------+---------+---------+----------+----------+---------+-------------+----------+------------+\n",
      "only showing top 10 rows\n"
     ]
    }
   ],
   "source": [
    "df.show(10)"
   ]
  },
  {
   "cell_type": "code",
   "execution_count": 8,
   "id": "e90af0ad-0639-456d-9d05-d162884039fe",
   "metadata": {},
   "outputs": [
    {
     "data": {
      "text/plain": [
       "GroupedData[grouping expressions: [Region], value: [Region: string, Country: string ... 12 more fields], type: GroupBy]"
      ]
     },
     "execution_count": 8,
     "metadata": {},
     "output_type": "execute_result"
    }
   ],
   "source": [
    "df.groupby('Region')"
   ]
  },
  {
   "cell_type": "code",
   "execution_count": 9,
   "id": "3ec65c55-6588-4d73-98b9-0012274625bd",
   "metadata": {},
   "outputs": [
    {
     "name": "stdout",
     "output_type": "stream",
     "text": [
      "+--------------------+------------------+\n",
      "|              Region|avg(Total Revenue)|\n",
      "+--------------------+------------------+\n",
      "|Middle East and N...|       1405270.658|\n",
      "|Australia and Oce...|1281296.8300000003|\n",
      "|              Europe|1516769.6413636364|\n",
      "|  Sub-Saharan Africa|1102000.8730555559|\n",
      "|Central America a...|        1310055.07|\n",
      "|       North America|1881118.8500000003|\n",
      "|                Asia|1940644.6381818184|\n",
      "+--------------------+------------------+\n",
      "\n"
     ]
    }
   ],
   "source": [
    "df.groupby('Region').mean('Total Revenue').show()"
   ]
  },
  {
   "cell_type": "code",
   "execution_count": 10,
   "id": "c25299d2-e5cf-4703-b690-2cff735a2487",
   "metadata": {},
   "outputs": [
    {
     "name": "stdout",
     "output_type": "stream",
     "text": [
      "+------------------+\n",
      "|min(Total Revenue)|\n",
      "+------------------+\n",
      "|           4870.26|\n",
      "+------------------+\n",
      "\n"
     ]
    }
   ],
   "source": [
    "df.agg({'Total Revenue' : 'min'}).show()"
   ]
  },
  {
   "cell_type": "code",
   "execution_count": 11,
   "id": "a357dcb4-8185-4a5b-af97-1bc2cfaf9e8a",
   "metadata": {},
   "outputs": [],
   "source": [
    "group_data = df.groupby('Region')"
   ]
  },
  {
   "cell_type": "code",
   "execution_count": 12,
   "id": "1cfe66ea-087b-4a55-afbd-d1e1f758f991",
   "metadata": {},
   "outputs": [
    {
     "name": "stdout",
     "output_type": "stream",
     "text": [
      "+--------------------+---------------+------------------+\n",
      "|              Region|max(Total Cost)|max(Total Revenue)|\n",
      "+--------------------+---------------+------------------+\n",
      "|Middle East and N...|     2604860.36|         4324782.4|\n",
      "|Australia and Oce...|     2542187.82|         4220728.8|\n",
      "|              Europe|     4350343.52|        5396577.27|\n",
      "|  Sub-Saharan Africa|     2896729.28|        3593376.78|\n",
      "|Central America a...|     4509793.96|        5997054.98|\n",
      "|       North America|     3494663.16|        4647149.58|\n",
      "|                Asia|      4145955.0|         5513227.5|\n",
      "+--------------------+---------------+------------------+\n",
      "\n"
     ]
    }
   ],
   "source": [
    "group_data.agg({'Total Revenue' : \"max\", 'Total Cost' : 'max'}).show()"
   ]
  },
  {
   "cell_type": "code",
   "execution_count": 13,
   "id": "bf1b83ee-2ef3-4c53-a753-8c3b98eca251",
   "metadata": {},
   "outputs": [],
   "source": [
    "from pyspark.sql.functions import countDistinct, avg, stddev"
   ]
  },
  {
   "cell_type": "code",
   "execution_count": 14,
   "id": "1d1464ff-820b-4d67-ab30-2bd34698d778",
   "metadata": {},
   "outputs": [
    {
     "name": "stdout",
     "output_type": "stream",
     "text": [
      "+-----------------------------+\n",
      "|count(DISTINCT Total Revenue)|\n",
      "+-----------------------------+\n",
      "|                          100|\n",
      "+-----------------------------+\n",
      "\n"
     ]
    }
   ],
   "source": [
    "df.select(countDistinct('Total Revenue')).show()"
   ]
  },
  {
   "cell_type": "code",
   "execution_count": 15,
   "id": "4357d4f6-6550-4f8e-8e8a-313782f5263d",
   "metadata": {},
   "outputs": [
    {
     "name": "stdout",
     "output_type": "stream",
     "text": [
      "+------------------+\n",
      "|           Revenue|\n",
      "+------------------+\n",
      "|1373487.6830999998|\n",
      "+------------------+\n",
      "\n"
     ]
    }
   ],
   "source": [
    "df.select(avg('Total Revenue').alias('Revenue')).show()"
   ]
  },
  {
   "cell_type": "code",
   "execution_count": 16,
   "id": "9147b911-989c-4db9-87a2-78e3dac692d1",
   "metadata": {},
   "outputs": [
    {
     "name": "stdout",
     "output_type": "stream",
     "text": [
      "+---------------------+\n",
      "|stddev(Total Revenue)|\n",
      "+---------------------+\n",
      "|   1460028.7068235003|\n",
      "+---------------------+\n",
      "\n"
     ]
    }
   ],
   "source": [
    "df.select(stddev('Total Revenue')).show()"
   ]
  },
  {
   "cell_type": "code",
   "execution_count": 17,
   "id": "01c45122-0259-4864-b26f-aa7d703c7cb8",
   "metadata": {},
   "outputs": [],
   "source": [
    "from pyspark.sql.functions import format_number"
   ]
  },
  {
   "cell_type": "code",
   "execution_count": 18,
   "id": "b382349f-2212-4901-96ed-ad64f187a6ca",
   "metadata": {},
   "outputs": [],
   "source": [
    "sales_std = df.select(stddev('Total Revenue').alias('std'))"
   ]
  },
  {
   "cell_type": "code",
   "execution_count": 19,
   "id": "d7334b02-34f8-47ed-97ce-c1605a3d551b",
   "metadata": {},
   "outputs": [
    {
     "name": "stdout",
     "output_type": "stream",
     "text": [
      "+------------+\n",
      "|   final_std|\n",
      "+------------+\n",
      "|1,460,028.71|\n",
      "+------------+\n",
      "\n"
     ]
    }
   ],
   "source": [
    "sales_std.select(format_number('std',2).alias('final_std')).show()"
   ]
  },
  {
   "cell_type": "code",
   "execution_count": 21,
   "id": "62a8f045-9378-429d-9e9b-611e9b38bf63",
   "metadata": {},
   "outputs": [
    {
     "name": "stdout",
     "output_type": "stream",
     "text": [
      "+--------------------+--------------------+-------------+-------------+--------------+----------+---------+----------+----------+----------+---------+-------------+----------+------------+\n",
      "|              Region|             Country|    Item Type|Sales Channel|Order Priority|Order Date| Order ID| Ship Date|Units Sold|Unit Price|Unit Cost|Total Revenue|Total Cost|Total Profit|\n",
      "+--------------------+--------------------+-------------+-------------+--------------+----------+---------+----------+----------+----------+---------+-------------+----------+------------+\n",
      "|Middle East and N...|              Kuwait|       Fruits|       Online|             M| 4/30/2012|513417565| 5/18/2012|       522|      9.33|     6.92|      4870.26|   3612.24|     1258.02|\n",
      "|Middle East and N...|               Libya|       Fruits|       Online|             L| 8/14/2015|816200339| 9/30/2015|       673|      9.33|     6.92|      6279.09|   4657.16|     1621.93|\n",
      "|                Asia|          Kyrgyzstan|   Vegetables|       Online|             H| 6/24/2011|814711606| 7/12/2011|       124|    154.06|    90.93|     19103.44|  11275.32|     7828.12|\n",
      "|Australia and Oce...|         New Zealand|       Fruits|       Online|             H|  9/8/2014|142278373| 10/4/2014|      2187|      9.33|     6.92|     20404.71|  15134.04|     5270.67|\n",
      "|              Europe|         Switzerland|Personal Care|       Online|             M|12/23/2010|617667090| 1/31/2011|       273|     81.73|    56.67|     22312.29|  15470.91|     6841.38|\n",
      "|              Europe|            Slovakia|   Vegetables|       Online|             H| 10/6/2012|759224212|11/10/2012|       171|    154.06|    90.93|     26344.26|  15549.03|    10795.23|\n",
      "|Middle East and N...|               Syria|       Fruits|       Online|             L|11/22/2011|162052476| 12/3/2011|      3784|      9.33|     6.92|     35304.72|  26185.28|     9119.44|\n",
      "|Australia and Oce...|            Kiribati|       Fruits|       Online|             M|10/13/2014|347140347|11/10/2014|      5398|      9.33|     6.92|     50363.34|  37354.16|    13009.18|\n",
      "|  Sub-Saharan Africa|                Mali|       Fruits|       Online|             L|  5/7/2010|686048400| 5/10/2010|      5822|      9.33|     6.92|     54319.26|  40288.24|    14031.02|\n",
      "|                Asia|            Malaysia|       Fruits|      Offline|             L|11/11/2011|810711038|12/28/2011|      6267|      9.33|     6.92|     58471.11|  43367.64|    15103.47|\n",
      "|  Sub-Saharan Africa|Sao Tome and Prin...|       Fruits|      Offline|             H| 9/17/2013|508980977|10/24/2013|      7637|      9.33|     6.92|     71253.21|  52848.04|    18405.17|\n",
      "|  Sub-Saharan Africa|Sao Tome and Prin...|       Fruits|       Online|             C| 6/20/2014|514321792|  7/5/2014|      8102|      9.33|     6.92|     75591.66|  56065.84|    19525.82|\n",
      "|  Sub-Saharan Africa|             Lesotho|       Fruits|       Online|             L| 8/18/2013|918419539| 9/18/2013|      9606|      9.33|     6.92|     89623.98|  66473.52|    23150.46|\n",
      "|  Sub-Saharan Africa|                Mali|      Clothes|       Online|             M| 7/26/2011|512878119|  9/3/2011|       888|    109.28|    35.84|     97040.64|  31825.92|    65214.72|\n",
      "|Australia and Oce...|           Australia|       Cereal|      Offline|             H|  6/9/2013|450563752|  7/2/2013|       682|     205.7|   117.11|     140287.4|  79869.02|    60418.38|\n",
      "|  Sub-Saharan Africa|         South Sudan|Personal Care|      Offline|             C|12/29/2013|406502997| 1/28/2014|      2125|     81.73|    56.67|    173676.25| 120423.75|     53252.5|\n",
      "|              Europe|            Bulgaria|      Clothes|       Online|             M| 4/23/2012|972292029|  6/3/2012|      1673|    109.28|    35.84|    182825.44|  59960.32|   122865.12|\n",
      "|              Europe|      United Kingdom|    Household|       Online|             L|  1/5/2012|955357205| 2/14/2012|       282|    668.27|   502.54|    188452.14| 141716.28|    46735.86|\n",
      "|  Sub-Saharan Africa|             Comoros|       Cereal|      Offline|             H| 3/29/2016|902102267| 4/29/2016|       962|     205.7|   117.11|     197883.4| 112659.82|    85223.58|\n",
      "|              Europe|            Slovenia|    Beverages|      Offline|             C|10/23/2016|345718562|11/25/2016|      4660|     47.45|    31.79|     221117.0|  148141.4|     72975.6|\n",
      "+--------------------+--------------------+-------------+-------------+--------------+----------+---------+----------+----------+----------+---------+-------------+----------+------------+\n",
      "only showing top 20 rows\n"
     ]
    }
   ],
   "source": [
    "df.orderBy(\"Total Revenue\").show()"
   ]
  },
  {
   "cell_type": "code",
   "execution_count": 22,
   "id": "c9d92e70-8bab-4006-9f08-d2d300c923f8",
   "metadata": {},
   "outputs": [
    {
     "name": "stdout",
     "output_type": "stream",
     "text": [
      "+--------------------+------------+---------------+-------------+--------------+----------+---------+----------+----------+----------+---------+-------------+----------+------------+\n",
      "|              Region|     Country|      Item Type|Sales Channel|Order Priority|Order Date| Order ID| Ship Date|Units Sold|Unit Price|Unit Cost|Total Revenue|Total Cost|Total Profit|\n",
      "+--------------------+------------+---------------+-------------+--------------+----------+---------+----------+----------+----------+---------+-------------+----------+------------+\n",
      "|Central America a...|    Honduras|      Household|      Offline|             H|  2/8/2017|522840487| 2/13/2017|      8974|    668.27|   502.54|   5997054.98|4509793.96|  1487261.02|\n",
      "|                Asia|     Myanmar|      Household|      Offline|             H| 1/16/2015|177713572|  3/1/2015|      8250|    668.27|   502.54|    5513227.5| 4145955.0|   1367272.5|\n",
      "|              Europe|   Lithuania|Office Supplies|      Offline|             H|10/24/2010|166460740|11/17/2010|      8287|    651.21|   524.96|   5396577.27|4350343.52|  1046233.75|\n",
      "|       North America|      Mexico|      Household|      Offline|             C| 11/6/2014|986435210|12/12/2014|      6954|    668.27|   502.54|   4647149.58|3494663.16|  1152486.42|\n",
      "|                Asia|      Brunei|Office Supplies|       Online|             L|  4/1/2012|320009267|  5/8/2012|      6708|    651.21|   524.96|   4368316.68|3521431.68|    846885.0|\n",
      "|Middle East and N...|    Pakistan|      Cosmetics|      Offline|             L|  7/5/2013|231145322| 8/16/2013|      9892|     437.2|   263.33|    4324782.4|2604860.36|  1719922.04|\n",
      "|Australia and Oce...|      Samoa |      Cosmetics|       Online|             H| 7/20/2013|670854651|  8/7/2013|      9654|     437.2|   263.33|    4220728.8|2542187.82|  1678540.98|\n",
      "|              Europe|     Iceland|      Cosmetics|       Online|             C|12/31/2016|331438481|12/31/2016|      8867|     437.2|   263.33|    3876652.4|2334947.11|  1541705.29|\n",
      "|              Europe| Switzerland|      Cosmetics|      Offline|             M| 9/17/2012|249693334|10/20/2012|      8661|     437.2|   263.33|    3786589.2|2280701.13|  1505888.07|\n",
      "|  Sub-Saharan Africa|    Cameroon|Office Supplies|       Online|             M| 11/7/2011|177636754|11/15/2011|      5518|    651.21|   524.96|   3593376.78|2896729.28|    696647.5|\n",
      "|  Sub-Saharan Africa|  Mozambique|      Household|      Offline|             L| 2/10/2012|665095412| 2/15/2012|      5367|    668.27|   502.54|   3586605.09|2697132.18|   889472.91|\n",
      "|              Europe|     Romania|      Cosmetics|       Online|             H|11/26/2010|660643374|12/25/2010|      7910|     437.2|   263.33|    3458252.0| 2082940.3|   1375311.7|\n",
      "|  Sub-Saharan Africa|      Rwanda|Office Supplies|      Offline|             L|  2/1/2013|115456712|  2/6/2013|      5062|    651.21|   524.96|   3296425.02|2657347.52|    639077.5|\n",
      "|                Asia|Turkmenistan|Office Supplies|       Online|             M| 4/23/2013|462405812| 5/20/2013|      5010|    651.21|   524.96|    3262562.1| 2630049.6|    632512.5|\n",
      "|Middle East and N...|  Azerbaijan|      Cosmetics|       Online|             M|  2/6/2010|382392299| 2/25/2010|      7234|     437.2|   263.33|    3162704.8|1904929.22|  1257775.58|\n",
      "|  Sub-Saharan Africa|    Djibouti|      Cosmetics|      Offline|             H|  4/7/2014|259353148| 4/19/2014|      7215|     437.2|   263.33|    3154398.0|1899925.95|  1254472.05|\n",
      "|                Asia|   Sri Lanka|      Cosmetics|      Offline|             M|11/19/2016|419123971|12/18/2016|      6952|     437.2|   263.33|    3039414.4|1830670.16|  1208744.24|\n",
      "|              Europe|       Spain|      Household|      Offline|             L|10/21/2012|213487374|11/30/2012|      4513|    668.27|   502.54|   3015902.51|2267963.02|   747939.49|\n",
      "|Middle East and N...|        Iran|      Cosmetics|       Online|             H|11/15/2016|286959302| 12/8/2016|      6489|     437.2|   263.33|    2836990.8|1708748.37|  1128242.43|\n",
      "|  Sub-Saharan Africa|      Angola|      Household|      Offline|             M| 4/23/2011|135425221| 4/27/2011|      4187|    668.27|   502.54|   2798046.49|2104134.98|   693911.51|\n",
      "+--------------------+------------+---------------+-------------+--------------+----------+---------+----------+----------+----------+---------+-------------+----------+------------+\n",
      "only showing top 20 rows\n"
     ]
    }
   ],
   "source": [
    "df.orderBy(df['Total Revenue'].desc()).show()"
   ]
  },
  {
   "cell_type": "code",
   "execution_count": null,
   "id": "2af08cb8-b6fa-460d-a805-0f3e634f0fe2",
   "metadata": {},
   "outputs": [],
   "source": []
  }
 ],
 "metadata": {
  "kernelspec": {
   "display_name": "Python 3 (ipykernel)",
   "language": "python",
   "name": "python3"
  },
  "language_info": {
   "codemirror_mode": {
    "name": "ipython",
    "version": 3
   },
   "file_extension": ".py",
   "mimetype": "text/x-python",
   "name": "python",
   "nbconvert_exporter": "python",
   "pygments_lexer": "ipython3",
   "version": "3.13.3"
  }
 },
 "nbformat": 4,
 "nbformat_minor": 5
}
