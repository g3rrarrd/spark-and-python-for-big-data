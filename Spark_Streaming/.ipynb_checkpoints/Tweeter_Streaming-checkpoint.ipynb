{
 "cells": [
  {
   "cell_type": "code",
   "execution_count": 1,
   "id": "9f7d3088-1973-44d5-a567-5a0a1be6cc44",
   "metadata": {},
   "outputs": [],
   "source": [
    "import findspark\n",
    "findspark.init('/home/gerardo-rodriguez/spark-4.0.0-bin-hadoop3')"
   ]
  },
  {
   "cell_type": "code",
   "execution_count": 2,
   "id": "78772713-c060-456d-91a2-9192b178ecbc",
   "metadata": {},
   "outputs": [],
   "source": [
    "from pyspark.sql import SparkSession\n",
    "from pyspark.sql import functions as F\n",
    "from pyspark.sql.types import StructType, StructField, StringType, IntegerType\n",
    "import time"
   ]
  },
  {
   "cell_type": "code",
   "execution_count": 3,
   "id": "df08f2db-60a0-4586-8d68-4a11bcf8323b",
   "metadata": {},
   "outputs": [
    {
     "name": "stderr",
     "output_type": "stream",
     "text": [
      "WARNING: Using incubator modules: jdk.incubator.vector\n",
      "Using Spark's default log4j profile: org/apache/spark/log4j2-defaults.properties\n",
      "25/08/22 12:54:51 WARN Utils: Your hostname, Lanz-Lenovo, resolves to a loopback address: 127.0.1.1; using 192.168.1.145 instead (on interface wlp2s0)\n",
      "25/08/22 12:54:51 WARN Utils: Set SPARK_LOCAL_IP if you need to bind to another address\n",
      "Using Spark's default log4j profile: org/apache/spark/log4j2-defaults.properties\n",
      "Setting default log level to \"WARN\".\n",
      "To adjust logging level use sc.setLogLevel(newLevel). For SparkR, use setLogLevel(newLevel).\n",
      "25/08/22 12:54:52 WARN NativeCodeLoader: Unable to load native-hadoop library for your platform... using builtin-java classes where applicable\n"
     ]
    }
   ],
   "source": [
    "spark = SparkSession.builder.appName('twitter_app').getOrCreate()"
   ]
  },
  {
   "cell_type": "code",
   "execution_count": 4,
   "id": "5d1e1573-2cb3-4c73-b38f-4024e95e43a8",
   "metadata": {},
   "outputs": [
    {
     "name": "stderr",
     "output_type": "stream",
     "text": [
      "25/08/22 12:54:56 WARN TextSocketSourceProvider: The socket source should not be used for production applications! It does not support recovery.\n"
     ]
    }
   ],
   "source": [
    "socket_stream = spark.readStream.format('socket').option('host', 'localhost').option('port', 5555).load()\\\n",
    ".withColumn('timestamp', F.current_timestamp())"
   ]
  },
  {
   "cell_type": "code",
   "execution_count": null,
   "id": "2839c178-1518-461d-901b-a3da65183cb6",
   "metadata": {},
   "outputs": [
    {
     "name": "stderr",
     "output_type": "stream",
     "text": [
      "25/08/22 12:58:00 WARN ResolveWriteToStream: Temporary checkpoint location created which is deleted normally when the query didn't fail: /tmp/temporary-aad486e5-467d-41d1-944d-cc58f695c89a. If it's required to delete it under any circumstances, please set spark.sql.streaming.forceDeleteTempCheckpointLocation to true. Important to know deleting temp checkpoint folder is best effort.\n",
      "25/08/22 12:58:00 WARN ResolveWriteToStream: spark.sql.adaptive.enabled is not supported in streaming DataFrames/Datasets and will be disabled.\n"
     ]
    },
    {
     "name": "stdout",
     "output_type": "stream",
     "text": [
      "\n",
      "=== Top 10 Hastags ===\n",
      "+---+-----+\n",
      "|tag|count|\n",
      "+---+-----+\n",
      "+---+-----+\n",
      "\n"
     ]
    },
    {
     "name": "stderr",
     "output_type": "stream",
     "text": [
      "                                                                                "
     ]
    }
   ],
   "source": [
    "hastag_counts = socket_stream.select(\n",
    "    F.explode(F.split(F.col('value'), \" \")).alias('word')\n",
    ").filter(\n",
    "        F.lower(F.col('word')).startswith('#')\n",
    ").groupBy(\n",
    "        F.lower(F.col('word')).alias('tag')\n",
    ").count()\n",
    "\n",
    "query = hastag_counts.writeStream.outputMode('complete').format('memory').queryName('tweets').start()\n",
    "\n",
    "try:\n",
    "    while True:\n",
    "        print(\"\\n=== Top 10 Hashtags ===\")\n",
    "        spark.sql(\"SELECT * FROM tweets ORDER BY count DESC LIMIT 10\").show(truncate=False)\n",
    "        time.sleep(10)\n",
    "except KeyboardInterrupt:\n",
    "    print(\"Stopping streaming...\")\n",
    "    query.stop()\n"
   ]
  },
  {
   "cell_type": "code",
   "execution_count": null,
   "id": "72f3ba47-13a7-4ee7-bd40-0f7b4854903f",
   "metadata": {},
   "outputs": [],
   "source": [
    "print(\"Stoopin Streaming...\")\n",
    "query.stop()"
   ]
  },
  {
   "cell_type": "code",
   "execution_count": null,
   "id": "2e9b39a6-a465-45a4-94ac-988b10684726",
   "metadata": {},
   "outputs": [],
   "source": []
  }
 ],
 "metadata": {
  "kernelspec": {
   "display_name": "Python 3 (ipykernel)",
   "language": "python",
   "name": "python3"
  },
  "language_info": {
   "codemirror_mode": {
    "name": "ipython",
    "version": 3
   },
   "file_extension": ".py",
   "mimetype": "text/x-python",
   "name": "python",
   "nbconvert_exporter": "python",
   "pygments_lexer": "ipython3",
   "version": "3.13.3"
  }
 },
 "nbformat": 4,
 "nbformat_minor": 5
}
